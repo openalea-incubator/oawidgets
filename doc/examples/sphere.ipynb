{
 "cells": [
  {
   "cell_type": "markdown",
   "metadata": {},
   "source": [
    "# Sphere"
   ]
  },
  {
   "cell_type": "code",
   "execution_count": null,
   "metadata": {},
   "outputs": [],
   "source": [
    "import k3d\n",
    "plot = k3d.plot()"
   ]
  },
  {
   "cell_type": "code",
   "execution_count": null,
   "metadata": {},
   "outputs": [],
   "source": [
    "from openalea.plantgl.all import *\n",
    "s=Sphere(radius=2)"
   ]
  },
  {
   "cell_type": "code",
   "execution_count": null,
   "metadata": {
    "scrolled": true
   },
   "outputs": [],
   "source": [
    "import oawidgets\n",
    "from oawidgets.plantgl import PlantGL\n",
    "PlantGL(s)"
   ]
  },
  {
   "cell_type": "code",
   "execution_count": null,
   "metadata": {},
   "outputs": [],
   "source": [
    "scene = Scene()\n",
    "scene.add(Sphere())\n",
    "b = Box()\n",
    "tbox = Shape(Translated((1,0,0), b))\n",
    "tbox.appearance.ambient=Color3(30,70,12)\n",
    "scene.add(tbox)"
   ]
  },
  {
   "cell_type": "code",
   "execution_count": null,
   "metadata": {},
   "outputs": [],
   "source": [
    "mesh=PlantGL(scene)"
   ]
  },
  {
   "cell_type": "code",
   "execution_count": null,
   "metadata": {},
   "outputs": [],
   "source": [
    "mesh"
   ]
  }
 ],
 "metadata": {
  "kernelspec": {
   "display_name": "Python 3 (ipykernel)",
   "language": "python",
   "name": "python3"
  },
  "language_info": {
   "codemirror_mode": {
    "name": "ipython",
    "version": 3
   },
   "file_extension": ".py",
   "mimetype": "text/x-python",
   "name": "python",
   "nbconvert_exporter": "python",
   "pygments_lexer": "ipython3",
   "version": "3.12.3"
  },
  "widgets": {
   "application/vnd.jupyter.widget-state+json": {
    "state": {
     "08f38421e7cf45618b2a97449bf5e9b0": {
      "model_module": "@jupyter-widgets/base",
      "model_module_version": "2.0.0",
      "model_name": "LayoutModel",
      "state": {}
     },
     "343436c2f37f43d79d7dc9d1a7e3115f": {
      "model_module": "k3d",
      "model_module_version": "2.16.1",
      "model_name": "PlotModel",
      "state": {
       "_backend_version": "2.16.1",
       "antialias": 3,
       "auto_rendering": true,
       "axes": [
        "x",
        "y",
        "z"
       ],
       "axes_helper": 1,
       "axes_helper_colors": [
        16711680,
        65280,
        255
       ],
       "background_color": 16777215,
       "camera": [
        4.926935109228876,
        -7.390402663843315,
        0.4926935109228919,
        0,
        0,
        0,
        0,
        0,
        1
       ],
       "camera_animation": [],
       "camera_auto_fit": true,
       "camera_damping_factor": 0,
       "camera_fov": 60,
       "camera_mode": "trackball",
       "camera_no_pan": false,
       "camera_no_rotate": false,
       "camera_no_zoom": false,
       "camera_pan_speed": 0.3,
       "camera_rotate_speed": 1,
       "camera_zoom_speed": 1.2,
       "clipping_planes": [],
       "colorbar_object_id": -1,
       "colorbar_scientific": false,
       "custom_data": null,
       "fps": 25,
       "fps_meter": false,
       "grid": [
        -1,
        -1,
        -1,
        1,
        1,
        1
       ],
       "grid_auto_fit": true,
       "grid_color": 15132390,
       "grid_visible": true,
       "height": 512,
       "label_color": 4473924,
       "layout": "IPY_MODEL_4ff4d23169954daab14b7f0d9eff6706",
       "lighting": 3,
       "logarithmic_depth_buffer": true,
       "manipulate_mode": "translate",
       "menu_visibility": true,
       "minimum_fps": -1,
       "mode": "view",
       "name": null,
       "object_ids": [
        129585835735040
       ],
       "rendering_steps": 1,
       "screenshot": "",
       "screenshot_scale": 2,
       "snapshot": "",
       "snapshot_type": "full",
       "time": 0,
       "voxel_paint_color": 0
      }
     },
     "4ff4d23169954daab14b7f0d9eff6706": {
      "model_module": "@jupyter-widgets/base",
      "model_module_version": "2.0.0",
      "model_name": "LayoutModel",
      "state": {}
     },
     "552a29d60a9c40678e73b56da6995c49": {
      "model_module": "k3d",
      "model_module_version": "2.16.1",
      "model_name": "PlotModel",
      "state": {
       "_backend_version": "2.16.1",
       "antialias": 3,
       "auto_rendering": true,
       "axes": [
        "x",
        "y",
        "z"
       ],
       "axes_helper": 1,
       "axes_helper_colors": [
        16711680,
        65280,
        255
       ],
       "background_color": 16777215,
       "camera": [],
       "camera_animation": [],
       "camera_auto_fit": true,
       "camera_damping_factor": 0,
       "camera_fov": 60,
       "camera_mode": "trackball",
       "camera_no_pan": false,
       "camera_no_rotate": false,
       "camera_no_zoom": false,
       "camera_pan_speed": 0.3,
       "camera_rotate_speed": 1,
       "camera_zoom_speed": 1.2,
       "clipping_planes": [],
       "colorbar_object_id": -1,
       "colorbar_scientific": false,
       "custom_data": null,
       "fps": 25,
       "fps_meter": false,
       "grid": [
        -1,
        -1,
        -1,
        1,
        1,
        1
       ],
       "grid_auto_fit": true,
       "grid_color": 15132390,
       "grid_visible": true,
       "height": 512,
       "label_color": 4473924,
       "layout": "IPY_MODEL_08f38421e7cf45618b2a97449bf5e9b0",
       "lighting": 1.5,
       "logarithmic_depth_buffer": true,
       "manipulate_mode": "translate",
       "menu_visibility": true,
       "minimum_fps": -1,
       "mode": "view",
       "name": null,
       "object_ids": [],
       "rendering_steps": 1,
       "screenshot": "",
       "screenshot_scale": 2,
       "snapshot": "",
       "snapshot_type": "full",
       "time": 0,
       "voxel_paint_color": 0
      }
     },
     "5e0a6f22b3434369ae1a39d8fd872cd1": {
      "model_module": "k3d",
      "model_module_version": "2.16.1",
      "model_name": "PlotModel",
      "state": {
       "_backend_version": "2.16.1",
       "antialias": 3,
       "auto_rendering": true,
       "axes": [
        "x",
        "y",
        "z"
       ],
       "axes_helper": 1,
       "axes_helper_colors": [
        16711680,
        65280,
        255
       ],
       "background_color": 16777215,
       "camera": [
        0.5379494553576011,
        -2.1470451063518574,
        0.1344307675664899,
        0.5,
        0,
        0,
        -0.026621582055974966,
        0.006615920158132037,
        0.9996236896799211
       ],
       "camera_animation": [],
       "camera_auto_fit": true,
       "camera_damping_factor": 0,
       "camera_fov": 60,
       "camera_mode": "trackball",
       "camera_no_pan": false,
       "camera_no_rotate": false,
       "camera_no_zoom": false,
       "camera_pan_speed": 0.3,
       "camera_rotate_speed": 1,
       "camera_zoom_speed": 1.2,
       "clipping_planes": [],
       "colorbar_object_id": -1,
       "colorbar_scientific": false,
       "custom_data": null,
       "fps": 25,
       "fps_meter": false,
       "grid": [
        -1,
        -1,
        -1,
        1,
        1,
        1
       ],
       "grid_auto_fit": true,
       "grid_color": 15132390,
       "grid_visible": true,
       "height": 512,
       "label_color": 4473924,
       "layout": "IPY_MODEL_88d1f1ec81484c6e96e526b6c5c5b927",
       "lighting": 3,
       "logarithmic_depth_buffer": true,
       "manipulate_mode": "translate",
       "menu_visibility": true,
       "minimum_fps": -1,
       "mode": "view",
       "name": null,
       "object_ids": [
        129585833746528
       ],
       "rendering_steps": 1,
       "screenshot": "",
       "screenshot_scale": 2,
       "snapshot": "",
       "snapshot_type": "full",
       "time": 0,
       "voxel_paint_color": 0
      }
     },
     "7b738f33e4914ae1b4da21d564577d7f": {
      "buffers": [
       {
        "data": "",
        "encoding": "base64",
        "path": [
         "attribute",
         "data"
        ]
       },
       {
        "data": "AAAAAKabxDpvEgM607xjPCSXfzuZuxY7w2SqOgdfmDwkl/870ERYO+AtEDsUP8Y8ylRBPLx0kzuJ0l47/yH9PEmdgDymm8Q7dQKaOwkbHj0ukKA8SFD8O4LixztbsT89EoPAPFJJHTxIUPw7irBhPa5H4TxbsT88dQIaPEoMgj1JnQA9QmBlPDSANzxPQJM9vJYQPbn8hzxioVY8VHSkPS6QID3A7J48/mV3PMbctT2giTA9NIC3PATnjDw5Rcc97utAPYZa0zwJG548GeLYPWDlUD1F2PA8xSCwPGiz6j3T3mA9cM4IPYEmwjwkufw9RdhwPVFrGj09LNQ8cF8HPtxogD3EQi09+THmPIV8ED4Cmog9NxpAPbU3+DwHzhk+vJaQPYZaUz24HgU9ih8jPnWTmD2wA2c9u7gNPQ1xLD4ukKA9tRV7PeLpFT3G3DU+VcGoPUvIhz0tsh097nw/Pg6+sD0qOpI9nRElPRUdST7Hurg9duCcPVafKz08vVI+gLfAPZ7vpz1XWzE9mndcPjm0yD3F/rI9fa42PfkxZj5g5dA9yXa+PRHHOj2OBnA+GeLYPTojyj3tDT497MB5PtPe4D2GONY9EoNAPaW9gT6M2+g9003iPYEmQj3UmoY+RdjwPWkA7z04+EI96GqLPmwJ+T3/svs9XI9CPeAtkD4SgwA+OGcEPqW9QT2945Q+b4EEPigPCz43GkA9Y3+ZPsx/CD5O0RE+Njw9PdIAnj5fmAw+rK0YPjVeOj3uWqI+vJYQPgmKHz59rjY9uY2mPhiVFD7UmiY+6pUyPUymqj51kxg+n6stPnsULj1yiq4+0ZEcPmq8ND4Mkyk9KjqyPmWqID42zTs+nRElPY/CtT7BqCQ+OPhCPgn5ID1sCbk+HqcoPgMJSj5SSR099ii8PnqlLD7OGVE+dQIaPRIUvz7XozA+mSpYPlCNFz3c18E+arw0Pi0hXz7i6RU9HVrEPse6OD75MWY+KxgVPQu1xj4kuTw+Vg5tPisYFT2n6Mg+gLdAPuoEdD7i6RU98fTKPhTQRD5I4Xo+K/YXPc3MzD5wzkg+t9GAPlFrGj1yis4+zcxMPsoyhD4JGx49xSDQPinLUD7ek4c+nDMiPcWP0T6GyVQ+1eeKPsKGJz2q8dI+GeJYPs07jj6fqy09PSzUPnbgXD7Fj5E+fdAzPZhM1T7T3mA+veOUPhHHOj29UtY+L91kPpkqmD5cj0I9x0vXPsP1aD52cZs+qFdKPZkq2D4f9Gw+NquePs6IUj0179g+fPJwPhPyoT7RIls9tabZPtjwdD7UK6U+07xjPRpR2j4173g+lWWoPrG/bD1I4do+yAd9Plafqz5rK3Y9WmTbPhKDgD4X2a4+SS5/PVHa2z5BgoI+1xKyPgFNhD0tQ9w+b4GEPn0/tT7eAok97Z7cPp2Ahj4+ebg+u7iNPZHt3D7njIg+46W7PgWjkj0bL90+FYyKPqTfvj7iWJc9iGPdPkSLjD5KDMI+LUOcPduK3T5yio4+7zjFPgn5oD0tst0+vJaQPrByyD7mrqU9SL/dPuqVkj5Wn8s+MZmqPWTM3T4YlZQ++8vOPg5Prz1kzN0+RpSWPqH40T7qBLQ9SL/dPnWTmD5GJdU+x7q4PRKl3T6+n5o+7FHYPqRwvT3bit0+7Z6cPqyL2z6BJsI9iGPdPhuenj5SuN4+XdzGPRsv3T5JnaA+9+ThPsxdyz2t+tw+eJyiPp0R5T6pE9A9JLncPsGopD5eS+g+GJXUPX9q3D7wp6Y+A3jrPvVK2T2/Dtw+HqeoPqmk7j5kzN09/7LbPkymqj5O0fE+003iPSNK2z6Wsqw+Dwv1PrAD5z1I4do+xLGuPrU3+D4fhes9NV7aPvKwsD5aZPs+jgbwPT7o2T4hsLI+G57+Pv2H9D0QWNk+T6+0PmDlAD9sCfk948fYPpm7tj6zewI/24r9PZkq2D7Hurg+kxgEPyUGAT40gNc+9bm6PuauBT+lLAM+tMjWPiS5vD45RQc/XW0FPjQR1j5SuL4+GeIIPxSuBz60WdU+nMTAPmx4Cj/M7gk+/YfUPsrDwj5NFQw/gy8MPka20z74wsQ+n6sNPztwDj5z19I+J8LGPvJBDz/ysBA+ofjRPnDOyD7T3hA/4QsTPrMM0T6fzco+JXUSP5hMFT6pE9A+zczMPngLFD9QjRc+hA3PPvvLzj7LoRU/PugZPl8Hzj4py9A+HTgXPy1DHD4f9Mw+c9fSPnDOGD/kgx4+w9PLPqHW1D7DZBo/CfkgPmizyj7Q1dY+FvsbP/hTIz7whck+/tTYPmiRHT/mriU+XkvIPkjh2j67Jx8/CyQoPssQxz524Nw+gLcgPzGZKj4dycU+pN/ePtNNIj9WDi0+VHTEPtPe4D6Y3SM/e4MvPoofwz4B3uI+63MlP9cSMj6lvcE+S+rkPrADJz80ojQ+pU7APnnp5j51kyg/x0s3PonSvj6n6Og+rBwqPyPbOT5tVr0+1efqPnGsKz/tnjw+Udq7PgTn7D6oNS0/gEg/Pv5Duj5N8+4+bcUuP0oMQj7Hurg+fPLwPqVOMD8U0EQ+WRe3Pqrx8j5O0TE/FK5HPutztT7Y8PQ+hlozP0ymSj5hw7M+Iv32Pi/dND9NhE0+1xKyPlD8+D7ZXzY/vJZQPjJVsD5/+/o+guI3P/OOUz5yiq4+rfr8Pp5eOT+Zu1Y+sb+sPtv5/j662jo/PuhZPvH0qj4SgwA/1lY8P+QUXT75D6k+qoIBP2TMPT/AW2A+HTinPkGCAj/yQT8/07xjPiZTpT7YgQM/gLdAP+cdZz4TYaM+b4EEP4EmQj8xmWo+AG+hPpSHBT+BlUM/si5uPtJvnz4rhwY/gQRFPzPEcT6kcJ0+woYHP/RsRj/rc3U+WmSbPlmGCD/Zzkc/oyN5PhBYmT5+jAk/vjBJP8gHfT7HS5c+FYwKP6OSSj/3dYA+YTKVPqyLCz/67Us/CmiCPvwYkz5Eiww/UklNP1R0hD588pA+24oNPxueTj+dgIY++8uOPgCRDj9X7E8/ApqIPnqljD6XkA8/kzpRP4PAij7ecYo+LpAQP86IUj8E54w+Qj6IPsWPET990FM/oBqPPov9hT5cjxI/nRFVP1dbkT7vyYM+gZUTP71SVj8qqZM+N4mBPhiVFD9QjVc//faVPgCRfj6vlBU/VcFYPwdfmD5a9Xk+RpQWP1r1WT8Rx5o+tFl1PmuaFz/RIls/Gy+dPg6+cD4Cmhg/uklcP1uxnz5oImw+mpkZP6RwXT+cM6I+woZnPjGZGj8AkV4/+MKkPuXQYj7ImBs/zqpfP3Bfpz4JG14+7Z4cP5zEYD8DCao+LGVZPoSeHT/c12E/lrKsPhiVVD4bnh4/j+RiP0Rprz47308+sp0fP7PqYz8OLbI+KA9LPtejID/Y8GQ/2PC0PhQ/Rj5uoyE/b/BlP77Btz4Ab0E+BaMiP3npZj++n7o+toQ8PpyiIz/122c/v329PqK0Nz40oiQ/cM5oP/d1wD5YyjI+WKglP166aT8TYcM+DeAtPvCnJj++n2o/ZmbGPozbKD6Hpyc/kX5rP7pryT5B8SM+HqcoP9ZWbD8ofsw+wOwePrWmKT8bL20/l5DPPj7oGT7arCo/RPptPyGw0j694xQ+cawrP23Fbj+rz9U+BcUPPgisLD8Jim8/UPzYPkymCj6fqy0/pU5wPxE23D6UhwU+xLEuPyUGcT/Sb98+3GgAPluxLz+lvXE/rrbiPkaU9j3ysDA/mG5yP4v95T5oIuw9irAxP/wYcz+DUek+irDhPSGwMj/TvHM/eqXsPj0K1z1GtjM/HVp0P3L57z5fmMw93bU0P2b3dD+hZ/M+E/LBPXS1NT+Uh3U/tMj2PsdLtz0LtTY/whd2P+M2+j56paw9orQ3P2Khdj8tsv0+Lv+hPce6OD90JHc/LpAAP+JYlz1eujk/+aB3P2FUAj+Wsow99bk6P34deD8GEgQ/SgyCPYy5Oz/njHg/xtwFP9c0bz2xvzw/UPx4P/mgBz8aUVo9SL89PyxleT+6awk/FD9GPeC+Pj96x3k/ejYLP+qVMj13vj8/OiN6PzsBDT9SJyA9Dr5AP2x4ej+J0g4/TfMOPTPEQT+fzXo/ZaoQP0mdAD3Kw0I/tRV7P7N7Ej/VeOk8YcNDP8xdez+PUxQ/YqHWPPjCRD9Wn3s/aysWP6hXyjyPwkU/Udp7P0cDGD84+MI8tMhGP78OfD+x4Rk/ylTBPEvIRz+fPHw/GsAbPxQ/xjzjx0g/f2p8PxKlHT8Xt9E8esdJP0SLfD97gx8/07zjPJ/NSj8IrHw/c2ghP/8h/Tw2zUs/sb98P2pNIz9N8w49zcxMP1vTfD9hMiU/L24jPWTMTT924Hw/5x0nPxHHOj37y04/BOd8P2wJKT9hw1M9INJPPwTnfD9j7io/+8tuPbfRUD8E53w/duAsPwK8hT1O0VE/6Nl8P/vLLj/hepQ95dBSP83MfD8OvjA/CtejPQrXUz+Wsnw/k6kyPw+csz2h1lQ/X5h8P6abND9d/sM9OdZVP5p3fD9GlDY/hsnUPdDVVj9IUHw/WYY4Px3J5T1n1Vc/aCJ8P2x4Oj/+Zfc9jNtYP/rtez8NcTw/ppsEPiPbWT//sns/rWk+P/LSDT662lo/dnF7P8BbQD90JBc+UdpbP+wvez9hVEI/ZaogPujZXD9I4Xo/AU1EP8NkKj4N4F0/o5J6P6JFRj9YOTQ+pN9eP3E9ej/QREg/klw+PjvfXz+x4Xk/cT1KPzm0SD7T3mA/Y395PxE2TD9PQFM+9+RhPxUdeT+yLk4/CRtePo/kYj85tHg/UidQPzAqaT4m5GM/0ER4P/MfUj/GbXQ+veNkP9nOdz+TGFQ/AACAPlTjZT/iWHc/NBFWP1TjhT556WY/6+J2P0cDWD8W+4s+EOlnP2Zmdj/n+1k/Di2SPqfoaD/i6XU/+u1bP3WTmD4+6Gk/XW11P3/ZXT8tIZ8+1edqP9jwdD8FxV8/VOOlPvrtaz/henQ/irBhP83MrD6R7Ww/6gR0P/OOYz+z6rM+Ke1tP4GVcz9dbWU/7C+7PsDsbj8zM3M/OUVnP662wj7l8m8/Ad5yP4cWaT/DZMo+fPJwP+qVcj+62mo/RUfSPhPycT98YXI/X5hsPxpR2j6q8XI/RUdyP+lIbj9BguI+QfFzP0VHcj9X7G8/n83qPmb3dD8KaHI/HHxxPzMz8z799nU/k6lyP1MFcz/ImPs+lPZ2P28Scz9vgXQ/vAUCPyv2dz+conM/4ul1P/kxBj/D9Xg/HVp0PzlFdz+oVwo/5/t5P+84dT91k3g/rWkOP3/7ej+GOHY/ldR5PwpoEj8W+3s/4lh3PygPez+9UhY/rfp8P5CgeD+fPHw/xykaP9IAfj/n+3k/iGN9P5vmHT9pAH8/A3h7P1Z9fj83iSE/AACAP8gHfT8kl38/KxglPw==",
        "encoding": "base64",
        "path": [
         "color_map",
         "data"
        ]
       },
       {
        "data": "",
        "encoding": "base64",
        "path": [
         "colors",
         "data"
        ]
       },
       {
        "data": "AAAAADgAAAAHAAAABgAAAA0AAAA5AAAAAQAAAAAAAAAHAAAAAQAAAAcAAAAIAAAAAgAAAAEAAAAIAAAAAgAAAAgAAAAJAAAAAwAAAAIAAAAJAAAAAwAAAAkAAAAKAAAABAAAAAMAAAAKAAAABAAAAAoAAAALAAAABQAAAAQAAAALAAAABQAAAAsAAAAMAAAABgAAAAUAAAAMAAAABgAAAAwAAAANAAAABwAAADgAAAAOAAAADQAAABQAAAA5AAAACAAAAAcAAAAOAAAACAAAAA4AAAAPAAAACQAAAAgAAAAPAAAACQAAAA8AAAAQAAAACgAAAAkAAAAQAAAACgAAABAAAAARAAAACwAAAAoAAAARAAAACwAAABEAAAASAAAADAAAAAsAAAASAAAADAAAABIAAAATAAAADQAAAAwAAAATAAAADQAAABMAAAAUAAAADgAAADgAAAAVAAAAFAAAABsAAAA5AAAADwAAAA4AAAAVAAAADwAAABUAAAAWAAAAEAAAAA8AAAAWAAAAEAAAABYAAAAXAAAAEQAAABAAAAAXAAAAEQAAABcAAAAYAAAAEgAAABEAAAAYAAAAEgAAABgAAAAZAAAAEwAAABIAAAAZAAAAEwAAABkAAAAaAAAAFAAAABMAAAAaAAAAFAAAABoAAAAbAAAAFQAAADgAAAAcAAAAGwAAACIAAAA5AAAAFgAAABUAAAAcAAAAFgAAABwAAAAdAAAAFwAAABYAAAAdAAAAFwAAAB0AAAAeAAAAGAAAABcAAAAeAAAAGAAAAB4AAAAfAAAAGQAAABgAAAAfAAAAGQAAAB8AAAAgAAAAGgAAABkAAAAgAAAAGgAAACAAAAAhAAAAGwAAABoAAAAhAAAAGwAAACEAAAAiAAAAHAAAADgAAAAjAAAAIgAAACkAAAA5AAAAHQAAABwAAAAjAAAAHQAAACMAAAAkAAAAHgAAAB0AAAAkAAAAHgAAACQAAAAlAAAAHwAAAB4AAAAlAAAAHwAAACUAAAAmAAAAIAAAAB8AAAAmAAAAIAAAACYAAAAnAAAAIQAAACAAAAAnAAAAIQAAACcAAAAoAAAAIgAAACEAAAAoAAAAIgAAACgAAAApAAAAIwAAADgAAAAqAAAAKQAAADAAAAA5AAAAJAAAACMAAAAqAAAAJAAAACoAAAArAAAAJQAAACQAAAArAAAAJQAAACsAAAAsAAAAJgAAACUAAAAsAAAAJgAAACwAAAAtAAAAJwAAACYAAAAtAAAAJwAAAC0AAAAuAAAAKAAAACcAAAAuAAAAKAAAAC4AAAAvAAAAKQAAACgAAAAvAAAAKQAAAC8AAAAwAAAAKgAAADgAAAAxAAAAMAAAADcAAAA5AAAAKwAAACoAAAAxAAAAKwAAADEAAAAyAAAALAAAACsAAAAyAAAALAAAADIAAAAzAAAALQAAACwAAAAzAAAALQAAADMAAAA0AAAALgAAAC0AAAA0AAAALgAAADQAAAA1AAAALwAAAC4AAAA1AAAALwAAADUAAAA2AAAAMAAAAC8AAAA2AAAAMAAAADYAAAA3AAAAMQAAADgAAAAAAAAANwAAAAYAAAA5AAAAMgAAADEAAAAAAAAAMgAAAAAAAAABAAAAMwAAADIAAAABAAAAMwAAAAEAAAACAAAANAAAADMAAAACAAAANAAAAAIAAAADAAAANQAAADQAAAADAAAANQAAAAMAAAAEAAAANgAAADUAAAAEAAAANgAAAAQAAAAFAAAANwAAADYAAAAFAAAANwAAAAUAAAAGAAAA",
        "encoding": "base64",
        "path": [
         "indices",
         "data"
        ]
       },
       {
        "data": "AACAPwAAAAAAAAAAAAAAAAAAAAAAAIA/AAAAAAAAAAAAAAAAAAAAAAAAgD8AAAAAAAAAAAAAAAAAAAAAAACAPw==",
        "encoding": "base64",
        "path": [
         "model_matrix",
         "data"
        ]
       },
       {
        "data": "",
        "encoding": "base64",
        "path": [
         "normals",
         "data"
        ]
       },
       {
        "data": "",
        "encoding": "base64",
        "path": [
         "opacity_function",
         "data"
        ]
       },
       {
        "data": "",
        "encoding": "base64",
        "path": [
         "triangles_attribute",
         "data"
        ]
       },
       {
        "data": "AADAfw==",
        "encoding": "base64",
        "path": [
         "uvs",
         "data"
        ]
       },
       {
        "data": "Fe9DPwAAAABeg+y/8wS1PwAAAADzBLW/XoPsPwAAAAAV70O/AAAAQAAAAAAAAAAAXoPsPwAAAAAV70M/8wS1PwAAAADzBLU/Fe9DPwAAAABeg+w/1IsKP9SLCj9eg+y/AACAPwAAgD/zBLW/dT2nP3U9pz8V70O/8wS1P/MEtT8AAAAAdT2nP3U9pz8V70M/AACAPwAAgD/zBLU/1IsKP9SLCj9eg+w/9m2JrBXvQz9eg+y/yu/9rPMEtT/zBLW/Y+QlrV6D7D8V70O/c48zrQAAAEAAAAAAY+QlrV6D7D8V70M/yu/9rPMEtT/zBLU/9m2JrBXvQz9eg+w/1IsKv9SLCj9eg+y/AACAvwAAgD/zBLW/dT2nv3U9pz8V70O/8wS1v/MEtT8AAAAAdT2nv3U9pz8V70M/AACAvwAAgD/zBLU/1IsKv9SLCj9eg+w/Fe9Dv/ZtCa1eg+y/8wS1v8rvfa3zBLW/XoPsv2Pkpa0V70O/AAAAwHOPs60AAAAAXoPsv2Pkpa0V70M/8wS1v8rvfa3zBLU/Fe9Dv/ZtCa1eg+w/1IsKv9SLCr9eg+y/AACAvwAAgL/zBLW/dT2nv3U9p78V70O/8wS1v/MEtb8AAAAAdT2nv3U9p78V70M/AACAvwAAgL/zBLU/1IsKv9SLCr9eg+w/8SROLRXvQ79eg+y/13O+LfMEtb/zBLW/lNb4LV6D7L8V70O/lqsGLgAAAMAAAAAAlNb4LV6D7L8V70M/13O+LfMEtb/zBLU/8SROLRXvQ79eg+w/1IsKP9SLCr9eg+y/AACAPwAAgL/zBLW/dT2nP3U9p78V70O/8wS1P/MEtb8AAAAAdT2nP3U9p78V70M/AACAPwAAgL/zBLU/1IsKP9SLCr9eg+w/AAAAAAAAAAAAAADAAAAAAAAAAAAAAABA",
        "encoding": "base64",
        "path": [
         "vertices",
         "data"
        ]
       },
       {
        "data": "",
        "encoding": "base64",
        "path": [
         "volume",
         "data"
        ]
       },
       {
        "data": "",
        "encoding": "base64",
        "path": [
         "volume_bounds",
         "data"
        ]
       }
      ],
      "model_module": "k3d",
      "model_module_version": "2.16.1",
      "model_name": "ObjectModel",
      "state": {
       "_view_module": null,
       "_view_module_version": "",
       "_view_name": null,
       "attribute": {
        "dtype": "float32",
        "shape": [
         0
        ]
       },
       "click_callback": false,
       "color": 255,
       "colorLegend": false,
       "color_map": {
        "dtype": "float32",
        "shape": [
         1024
        ]
       },
       "color_range": [],
       "colors": {
        "dtype": "uint32",
        "shape": [
         0
        ]
       },
       "compression_level": 0,
       "custom_data": null,
       "flat_shading": true,
       "group": null,
       "hover_callback": false,
       "id": 129585835735040,
       "indices": {
        "dtype": "uint32",
        "shape": [
         112,
         3
        ]
       },
       "model_matrix": {
        "dtype": "float32",
        "shape": [
         4,
         4
        ]
       },
       "name": "Mesh #1",
       "normals": {
        "dtype": "float32",
        "shape": [
         0
        ]
       },
       "opacity": 1,
       "opacity_function": {
        "dtype": "float32",
        "shape": [
         0
        ]
       },
       "side": "front",
       "texture": null,
       "texture_file_format": null,
       "triangles_attribute": {
        "dtype": "float32",
        "shape": [
         0
        ]
       },
       "type": "Mesh",
       "uvs": {
        "dtype": "float32",
        "shape": []
       },
       "vertices": {
        "dtype": "float32",
        "shape": [
         58,
         3
        ]
       },
       "visible": true,
       "volume": {
        "dtype": "float32",
        "shape": [
         0
        ]
       },
       "volume_bounds": {
        "dtype": "float32",
        "shape": [
         0
        ]
       },
       "wireframe": false
      }
     },
     "88d1f1ec81484c6e96e526b6c5c5b927": {
      "model_module": "@jupyter-widgets/base",
      "model_module_version": "2.0.0",
      "model_name": "LayoutModel",
      "state": {}
     },
     "b363afed4ea449ca867d84419936a2d5": {
      "buffers": [
       {
        "data": "",
        "encoding": "base64",
        "path": [
         "attribute",
         "data"
        ]
       },
       {
        "data": "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",
        "encoding": "base64",
        "path": [
         "color_map",
         "data"
        ]
       },
       {
        "data": "",
        "encoding": "base64",
        "path": [
         "colors",
         "data"
        ]
       },
       {
        "data": "AAAAADgAAAAHAAAABgAAAA0AAAA5AAAAAQAAAAAAAAAHAAAAAQAAAAcAAAAIAAAAAgAAAAEAAAAIAAAAAgAAAAgAAAAJAAAAAwAAAAIAAAAJAAAAAwAAAAkAAAAKAAAABAAAAAMAAAAKAAAABAAAAAoAAAALAAAABQAAAAQAAAALAAAABQAAAAsAAAAMAAAABgAAAAUAAAAMAAAABgAAAAwAAAANAAAABwAAADgAAAAOAAAADQAAABQAAAA5AAAACAAAAAcAAAAOAAAACAAAAA4AAAAPAAAACQAAAAgAAAAPAAAACQAAAA8AAAAQAAAACgAAAAkAAAAQAAAACgAAABAAAAARAAAACwAAAAoAAAARAAAACwAAABEAAAASAAAADAAAAAsAAAASAAAADAAAABIAAAATAAAADQAAAAwAAAATAAAADQAAABMAAAAUAAAADgAAADgAAAAVAAAAFAAAABsAAAA5AAAADwAAAA4AAAAVAAAADwAAABUAAAAWAAAAEAAAAA8AAAAWAAAAEAAAABYAAAAXAAAAEQAAABAAAAAXAAAAEQAAABcAAAAYAAAAEgAAABEAAAAYAAAAEgAAABgAAAAZAAAAEwAAABIAAAAZAAAAEwAAABkAAAAaAAAAFAAAABMAAAAaAAAAFAAAABoAAAAbAAAAFQAAADgAAAAcAAAAGwAAACIAAAA5AAAAFgAAABUAAAAcAAAAFgAAABwAAAAdAAAAFwAAABYAAAAdAAAAFwAAAB0AAAAeAAAAGAAAABcAAAAeAAAAGAAAAB4AAAAfAAAAGQAAABgAAAAfAAAAGQAAAB8AAAAgAAAAGgAAABkAAAAgAAAAGgAAACAAAAAhAAAAGwAAABoAAAAhAAAAGwAAACEAAAAiAAAAHAAAADgAAAAjAAAAIgAAACkAAAA5AAAAHQAAABwAAAAjAAAAHQAAACMAAAAkAAAAHgAAAB0AAAAkAAAAHgAAACQAAAAlAAAAHwAAAB4AAAAlAAAAHwAAACUAAAAmAAAAIAAAAB8AAAAmAAAAIAAAACYAAAAnAAAAIQAAACAAAAAnAAAAIQAAACcAAAAoAAAAIgAAACEAAAAoAAAAIgAAACgAAAApAAAAIwAAADgAAAAqAAAAKQAAADAAAAA5AAAAJAAAACMAAAAqAAAAJAAAACoAAAArAAAAJQAAACQAAAArAAAAJQAAACsAAAAsAAAAJgAAACUAAAAsAAAAJgAAACwAAAAtAAAAJwAAACYAAAAtAAAAJwAAAC0AAAAuAAAAKAAAACcAAAAuAAAAKAAAAC4AAAAvAAAAKQAAACgAAAAvAAAAKQAAAC8AAAAwAAAAKgAAADgAAAAxAAAAMAAAADcAAAA5AAAAKwAAACoAAAAxAAAAKwAAADEAAAAyAAAALAAAACsAAAAyAAAALAAAADIAAAAzAAAALQAAACwAAAAzAAAALQAAADMAAAA0AAAALgAAAC0AAAA0AAAALgAAADQAAAA1AAAALwAAAC4AAAA1AAAALwAAADUAAAA2AAAAMAAAAC8AAAA2AAAAMAAAADYAAAA3AAAAMQAAADgAAAAAAAAANwAAAAYAAAA5AAAAMgAAADEAAAAAAAAAMgAAAAAAAAABAAAAMwAAADIAAAABAAAAMwAAAAEAAAACAAAANAAAADMAAAACAAAANAAAAAIAAAADAAAANQAAADQAAAADAAAANQAAAAMAAAAEAAAANgAAADUAAAAEAAAANgAAAAQAAAAFAAAANwAAADYAAAAFAAAANwAAAAUAAAAGAAAAOgAAADsAAAA8AAAAOgAAADwAAAA9AAAAOgAAAD0AAABBAAAAOgAAAEEAAAA+AAAAOwAAADoAAAA+AAAAOwAAAD4AAAA/AAAAPAAAADsAAAA/AAAAPAAAAD8AAABAAAAAPQAAADwAAABAAAAAPQAAAEAAAABBAAAAPgAAAEEAAABAAAAAPgAAAEAAAAA/AAAA",
        "encoding": "base64",
        "path": [
         "indices",
         "data"
        ]
       },
       {
        "data": "AACAPwAAAAAAAAAAAAAAAAAAAAAAAIA/AAAAAAAAAAAAAAAAAAAAAAAAgD8AAAAAAAAAAAAAAAAAAAAAAACAPw==",
        "encoding": "base64",
        "path": [
         "model_matrix",
         "data"
        ]
       },
       {
        "data": "",
        "encoding": "base64",
        "path": [
         "normals",
         "data"
        ]
       },
       {
        "data": "",
        "encoding": "base64",
        "path": [
         "opacity_function",
         "data"
        ]
       },
       {
        "data": "",
        "encoding": "base64",
        "path": [
         "triangles_attribute",
         "data"
        ]
       },
       {
        "data": "AADAfw==",
        "encoding": "base64",
        "path": [
         "uvs",
         "data"
        ]
       },
       {
        "data": "Fe9DPgAAAABeg+y+8wS1PgAAAADzBLW+XoPsPgAAAAAV70O+AAAAPwAAAAAAAAAAXoPsPgAAAAAV70M+8wS1PgAAAADzBLU+Fe9DPgAAAABeg+w+1IsKPtSLCj5eg+y+AACAPgAAgD7zBLW+dT2nPnU9pz4V70O+8wS1PvMEtT4AAAAAdT2nPnU9pz4V70M+AACAPgAAgD7zBLU+1IsKPtSLCj5eg+w+9m2JqxXvQz5eg+y+yu/9q/MEtT7zBLW+Y+QlrF6D7D4V70O+c48zrAAAAD8AAAAAY+QlrF6D7D4V70M+yu/9q/MEtT7zBLU+9m2JqxXvQz5eg+w+1IsKvtSLCj5eg+y+AACAvgAAgD7zBLW+dT2nvnU9pz4V70O+8wS1vvMEtT4AAAAAdT2nvnU9pz4V70M+AACAvgAAgD7zBLU+1IsKvtSLCj5eg+w+Fe9DvvZtCaxeg+y+8wS1vsrvfazzBLW+XoPsvmPkpawV70O+AAAAv3OPs6wAAAAAXoPsvmPkpawV70M+8wS1vsrvfazzBLU+Fe9DvvZtCaxeg+w+1IsKvtSLCr5eg+y+AACAvgAAgL7zBLW+dT2nvnU9p74V70O+8wS1vvMEtb4AAAAAdT2nvnU9p74V70M+AACAvgAAgL7zBLU+1IsKvtSLCr5eg+w+8SROLBXvQ75eg+y+13O+LPMEtb7zBLW+lNb4LF6D7L4V70O+lqsGLQAAAL8AAAAAlNb4LF6D7L4V70M+13O+LPMEtb7zBLU+8SROLBXvQ75eg+w+1IsKPtSLCr5eg+y+AACAPgAAgL7zBLW+dT2nPnU9p74V70O+8wS1PvMEtb4AAAAAdT2nPnU9p74V70M+AACAPgAAgL7zBLU+1IsKPtSLCr5eg+w+AAAAAAAAAAAAAAC/AAAAAAAAAAAAAAA/AADAPwAAAL8AAAC/AAAAPwAAAL8AAAC/AAAAPwAAAD8AAAC/AADAPwAAAD8AAAC/AADAPwAAAL8AAAA/AAAAPwAAAL8AAAA/AAAAPwAAAD8AAAA/AADAPwAAAD8AAAA/",
        "encoding": "base64",
        "path": [
         "vertices",
         "data"
        ]
       },
       {
        "data": "",
        "encoding": "base64",
        "path": [
         "volume",
         "data"
        ]
       },
       {
        "data": "",
        "encoding": "base64",
        "path": [
         "volume_bounds",
         "data"
        ]
       }
      ],
      "model_module": "k3d",
      "model_module_version": "2.16.1",
      "model_name": "ObjectModel",
      "state": {
       "_view_module": null,
       "_view_module_version": "",
       "_view_name": null,
       "attribute": {
        "dtype": "float32",
        "shape": [
         0
        ]
       },
       "click_callback": false,
       "color": 1984012,
       "colorLegend": false,
       "color_map": {
        "dtype": "float32",
        "shape": [
         1024
        ]
       },
       "color_range": [],
       "colors": {
        "dtype": "uint32",
        "shape": [
         0
        ]
       },
       "compression_level": 0,
       "custom_data": null,
       "flat_shading": true,
       "group": null,
       "hover_callback": false,
       "id": 129585833746528,
       "indices": {
        "dtype": "uint32",
        "shape": [
         124,
         3
        ]
       },
       "model_matrix": {
        "dtype": "float32",
        "shape": [
         4,
         4
        ]
       },
       "name": "Mesh #1",
       "normals": {
        "dtype": "float32",
        "shape": [
         0
        ]
       },
       "opacity": 1,
       "opacity_function": {
        "dtype": "float32",
        "shape": [
         0
        ]
       },
       "side": "front",
       "texture": null,
       "texture_file_format": null,
       "triangles_attribute": {
        "dtype": "float32",
        "shape": [
         0
        ]
       },
       "type": "Mesh",
       "uvs": {
        "dtype": "float32",
        "shape": []
       },
       "vertices": {
        "dtype": "float32",
        "shape": [
         66,
         3
        ]
       },
       "visible": true,
       "volume": {
        "dtype": "float32",
        "shape": [
         0
        ]
       },
       "volume_bounds": {
        "dtype": "float32",
        "shape": [
         0
        ]
       },
       "wireframe": false
      }
     }
    },
    "version_major": 2,
    "version_minor": 0
   }
  }
 },
 "nbformat": 4,
 "nbformat_minor": 4
}
