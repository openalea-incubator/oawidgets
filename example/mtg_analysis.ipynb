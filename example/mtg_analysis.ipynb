{
 "cells": [
  {
   "cell_type": "markdown",
   "metadata": {},
   "source": [
    "# MTG Tutorial - Analysis"
   ]
  },
  {
   "cell_type": "markdown",
   "metadata": {},
   "source": [
    "[MTG](https://mtg.readthedocs.io/) is an [OpenAlea](https://openalea.readthedocs.io/) model. MTG (Multiscale Tree Graph) allows to represent plant architecture on a graph at different scales.\n",
    "\n",
    "Also, you may want to extract topological data from a MTG.\n",
    "\n",
    "In this tutorial, we will work on a part of a Noylum MTG.\n",
    "\n",
    "For that we will follow different steps:\n",
    "\n",
    "* Load the tree digitised MTG\n",
    "* Explore the MTG as an architectural database\n",
    "  * number of vertices\n",
    "  * class of vertices\n",
    "  * number of scales\n",
    "  * properties\n",
    "  \n",
    "In order to make all these graphs, we used [Pyvis](https://pyvis.readthedocs.io/)."
   ]
  },
  {
   "cell_type": "markdown",
   "metadata": {},
   "source": [
    "## Introduction"
   ]
  },
  {
   "cell_type": "markdown",
   "metadata": {},
   "source": [
    "First, let's import the packages we need for the tutorial."
   ]
  },
  {
   "cell_type": "code",
   "execution_count": null,
   "metadata": {},
   "outputs": [],
   "source": [
    "import openalea\n",
    "from openalea.mtg import *\n",
    "from openalea.deploy.shared_data import shared_data\n",
    "from oawidgets.mtg import plot\n",
    "from oawidgets.plantgl import PlantGL"
   ]
  },
  {
   "cell_type": "markdown",
   "metadata": {},
   "source": [
    "Some vocabulary :\n",
    "* MTG data structure : g\n",
    "* Vertex identifier: vid"
   ]
  },
  {
   "cell_type": "markdown",
   "metadata": {},
   "source": [
    "## Load and Display the MTG "
   ]
  },
  {
   "cell_type": "markdown",
   "metadata": {},
   "source": [
    "Now, we collect MTG data."
   ]
  },
  {
   "cell_type": "code",
   "execution_count": null,
   "metadata": {},
   "outputs": [],
   "source": [
    "data = shared_data(openalea.mtg)\n",
    "g = MTG(data/'boutdenoylum2.mtg')"
   ]
  },
  {
   "cell_type": "markdown",
   "metadata": {},
   "source": [
    "We plot the MTG. Different colors represent different complexes and each complex begins with a box node which is the component root.\n",
    "\n",
    "Notice that you can click and drag on a particuliar node to make it move. Also, you can see some properties of the node by putting you mouse over a node."
   ]
  },
  {
   "cell_type": "code",
   "execution_count": null,
   "metadata": {
    "scrolled": false
   },
   "outputs": [],
   "source": [
    "plot(g)"
   ]
  },
  {
   "cell_type": "markdown",
   "metadata": {},
   "source": [
    "## MTG Extraction and Visualisation"
   ]
  },
  {
   "cell_type": "markdown",
   "metadata": {},
   "source": [
    "### Scales and Classes represent modularities\n",
    "\n",
    "#### Scale 1: P = Plant\n",
    "\n",
    "#### Scale 2: A = Axes\n",
    "\n",
    "#### Scale 3 : Growth Unit\n",
    "* S : Shoot\n",
    "* U : Unit\n"
   ]
  },
  {
   "cell_type": "markdown",
   "metadata": {},
   "source": [
    "Let's find the number of scales in the MTG and print how many vertices per scale and the classes in each scale."
   ]
  },
  {
   "cell_type": "code",
   "execution_count": null,
   "metadata": {},
   "outputs": [],
   "source": [
    "nb_scales = g.nb_scales()\n",
    "\n",
    "# Print the vertices at different scales\n",
    "for scale in range(1, nb_scales):\n",
    "    print('Nb vertices at scale ', scale, ': ', g.nb_vertices(scale=scale))\n",
    "    print('Classes : ', list(set(g.class_name(vid) for vid in g.vertices(scale=scale))))"
   ]
  },
  {
   "cell_type": "markdown",
   "metadata": {},
   "source": [
    "Actually, the default scale is the max scale (3 here) but you can change it to plot it at a different scale."
   ]
  },
  {
   "cell_type": "code",
   "execution_count": null,
   "metadata": {},
   "outputs": [],
   "source": [
    "plot(g, scale=g.max_scale()-1)"
   ]
  },
  {
   "cell_type": "markdown",
   "metadata": {},
   "source": [
    "We can select all the vertices of each class."
   ]
  },
  {
   "cell_type": "code",
   "execution_count": null,
   "metadata": {},
   "outputs": [],
   "source": [
    "classes = list(set(g.class_name(vid) for vid in g.vertices() if g.class_name(vid)))\n",
    "print(classes)\n",
    "\n",
    "def vertices(g, class_name='P'):\n",
    "    return [vid for vid in g.vertices() if g.class_name(vid)==class_name]\n",
    "\n",
    "vids_U = vertices(g, 'U')\n",
    "print('Nb U', len(vids_U))"
   ]
  },
  {
   "cell_type": "markdown",
   "metadata": {},
   "source": [
    "Let's plot the graph with the selected vertices corresponding to the U class."
   ]
  },
  {
   "cell_type": "code",
   "execution_count": null,
   "metadata": {
    "scrolled": false
   },
   "outputs": [],
   "source": [
    "plot(g, selection=vids_U)"
   ]
  },
  {
   "cell_type": "markdown",
   "metadata": {},
   "source": [
    "### Property Extraction"
   ]
  },
  {
   "cell_type": "markdown",
   "metadata": {},
   "source": [
    "Let's go on by displaying a whole property through the graph."
   ]
  },
  {
   "cell_type": "code",
   "execution_count": null,
   "metadata": {},
   "outputs": [],
   "source": [
    "# Properties on the MTG: this exclude all the topological properties\n",
    "print(g.property_names())\n",
    "\n",
    "# Retrieve one property for the MTG (dict)\n",
    "phi = g.property('phi')"
   ]
  },
  {
   "cell_type": "markdown",
   "metadata": {},
   "source": [
    "Once you've extracted the 'phi' dictionary. You can change the labels of the graph nodes with it.\n",
    "\n",
    "Now, if you zoom in a node, you will see that the labels have changed."
   ]
  },
  {
   "cell_type": "code",
   "execution_count": null,
   "metadata": {},
   "outputs": [],
   "source": [
    "plot(g, labels=phi)"
   ]
  },
  {
   "cell_type": "markdown",
   "metadata": {},
   "source": [
    "### Trunk Extraction"
   ]
  },
  {
   "cell_type": "markdown",
   "metadata": {},
   "source": [
    "In this part, we will make our first selections on the MTG and visualise them. Let's begin with the trunk."
   ]
  },
  {
   "cell_type": "code",
   "execution_count": null,
   "metadata": {},
   "outputs": [],
   "source": [
    "root = next(g.roots_iter(scale=g.max_scale()))\n",
    "trunk = g.Trunk(root)"
   ]
  },
  {
   "cell_type": "markdown",
   "metadata": {},
   "source": [
    "Now we have the selection of the trunk, we can visualise it."
   ]
  },
  {
   "cell_type": "code",
   "execution_count": null,
   "metadata": {},
   "outputs": [],
   "source": [
    "plot(g, selection=trunk)"
   ]
  },
  {
   "cell_type": "markdown",
   "metadata": {},
   "source": [
    "### Leaves Extraction"
   ]
  },
  {
   "cell_type": "markdown",
   "metadata": {},
   "source": [
    "Let's select the leaves and display them."
   ]
  },
  {
   "cell_type": "code",
   "execution_count": null,
   "metadata": {},
   "outputs": [],
   "source": [
    "leaves = [vid for vid in g.vertices(scale=g.max_scale()) if g.is_leaf(vid)]\n",
    "plot(g, selection=leaves)"
   ]
  },
  {
   "cell_type": "markdown",
   "metadata": {},
   "source": [
    "### Component Roots Extraction"
   ]
  },
  {
   "cell_type": "markdown",
   "metadata": {},
   "source": [
    "Now, we select the first component of each complex, which are the component roots. "
   ]
  },
  {
   "cell_type": "code",
   "execution_count": null,
   "metadata": {},
   "outputs": [],
   "source": [
    "c_roots = [next(g.component_roots_at_scale_iter(cid, scale=g.max_scale())) for cid in g.vertices(scale=g.max_scale()-1)]\n",
    "plot(g, selection=c_roots)"
   ]
  },
  {
   "cell_type": "markdown",
   "metadata": {},
   "source": [
    "### Descendants Extraction"
   ]
  },
  {
   "cell_type": "markdown",
   "metadata": {},
   "source": [
    "Here, we select all the descendants of one particuliar node."
   ]
  },
  {
   "cell_type": "code",
   "execution_count": null,
   "metadata": {},
   "outputs": [],
   "source": [
    "root_id = 139\n",
    "s = g.Descendants(root_id)\n",
    "plot(g, selection=s)"
   ]
  },
  {
   "cell_type": "markdown",
   "metadata": {},
   "source": [
    "## PlantFrame 3D "
   ]
  },
  {
   "cell_type": "markdown",
   "metadata": {},
   "source": [
    "Now, we can display the MTG in 3D. You can check the [PlantFrame tutorial](https://nbviewer.jupyter.org/github/openalea/openalea.rtfd.io/blob/master/example/mtg_plantframe.ipynb)."
   ]
  },
  {
   "cell_type": "code",
   "execution_count": null,
   "metadata": {},
   "outputs": [],
   "source": [
    "drf = data/'walnut.drf'\n",
    "dressing_data = dresser.dressing_data_from_file(drf)\n",
    "dressing_data = plantframe.DressingData(DiameterUnit=10)\n",
    "pf = plantframe.PlantFrame(g, TopDiameter='TopDia', DressingData = dressing_data)\n",
    "scene = pf.plot(gc=True, display=False)\n",
    "PlantGL(scene)"
   ]
  },
  {
   "cell_type": "code",
   "execution_count": null,
   "metadata": {},
   "outputs": [],
   "source": []
  }
 ],
 "metadata": {
  "kernelspec": {
   "display_name": "Python 3 (ipykernel)",
   "language": "python",
   "name": "python3"
  },
  "language_info": {
   "codemirror_mode": {
    "name": "ipython",
    "version": 3
   },
   "file_extension": ".py",
   "mimetype": "text/x-python",
   "name": "python",
   "nbconvert_exporter": "python",
   "pygments_lexer": "ipython3",
   "version": "3.9.16"
  },
  "widgets": {
   "application/vnd.jupyter.widget-state+json": {
    "state": {
     "0d8fe20592144ead85b14393d58e28c5": {
      "model_module": "k3d",
      "model_module_version": "2.6.9",
      "model_name": "PlotModel",
      "state": {
       "_backend_version": "2.6.9",
       "_dom_classes": [],
       "_view_count": null,
       "antialias": 3,
       "axes": [
        "x",
        "y",
        "z"
       ],
       "background_color": 16777215,
       "camera": [
        2.8778826572598577,
        -4.316823985889787,
        0.28778826572598526,
        0,
        0,
        0,
        0,
        0,
        1
       ],
       "camera_auto_fit": true,
       "camera_no_pan": false,
       "camera_no_rotate": false,
       "camera_no_zoom": false,
       "clipping_planes": [],
       "colorbar_object_id": -1,
       "fps_meter": false,
       "grid": [
        -1,
        -1,
        -1,
        1,
        1,
        1
       ],
       "grid_auto_fit": true,
       "grid_visible": true,
       "height": 512,
       "layout": "IPY_MODEL_2bb6f410d814450883dcd704314d8b0b",
       "lighting": 3,
       "menu_visibility": true,
       "object_ids": [
        140183449176656
       ],
       "rendering_steps": 1,
       "screenshot": "",
       "screenshot_scale": 2,
       "time": 0,
       "voxel_paint_color": 0
      }
     },
     "16d0227dfd26474f8a03617052aa3a1b": {
      "buffers": [
       {
        "data": "eNoDAAAAAAE=",
        "encoding": "base64",
        "path": [
         "attribute",
         "compressed_buffer"
        ]
       },
       {
        "data": "eNoDAAAAAAE=",
        "encoding": "base64",
        "path": [
         "color_map",
         "compressed_buffer"
        ]
       },
       {
        "data": "eNpjYGiwZ8AAxIsBAF7EAv0=",
        "encoding": "base64",
        "path": [
         "model_matrix",
         "compressed_buffer"
        ]
       },
       {
        "data": "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",
        "encoding": "base64",
        "path": [
         "vertices",
         "compressed_buffer"
        ]
       },
       {
        "data": "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",
        "encoding": "base64",
        "path": [
         "indices",
         "compressed_buffer"
        ]
       }
      ],
      "model_module": "k3d",
      "model_module_version": "2.6.9",
      "model_name": "ObjectModel",
      "state": {
       "_view_count": null,
       "_view_module": null,
       "_view_module_version": "",
       "_view_name": null,
       "attribute": {
        "compressed_buffer": {},
        "dtype": "float32",
        "shape": [
         0
        ]
       },
       "color": 4271375,
       "color_map": {
        "compressed_buffer": {},
        "dtype": "float32",
        "shape": [
         0
        ]
       },
       "color_range": [],
       "compression_level": 0,
       "flat_shading": true,
       "id": 140183449373456,
       "indices": {
        "compressed_buffer": {},
        "dtype": "uint32",
        "shape": [
         2928,
         3
        ]
       },
       "model_matrix": {
        "compressed_buffer": {},
        "dtype": "float32",
        "shape": [
         4,
         4
        ]
       },
       "name": null,
       "opacity": 1,
       "type": "Mesh",
       "vertices": {
        "compressed_buffer": {},
        "dtype": "float32",
        "shape": [
         1968,
         3
        ]
       },
       "visible": true,
       "wireframe": false
      }
     },
     "18079ebf319f4c7fae7d03f12e052867": {
      "model_module": "@jupyter-widgets/base",
      "model_module_version": "1.1.0",
      "model_name": "LayoutModel",
      "state": {}
     },
     "2bb6f410d814450883dcd704314d8b0b": {
      "model_module": "@jupyter-widgets/base",
      "model_module_version": "1.1.0",
      "model_name": "LayoutModel",
      "state": {}
     },
     "4ced43236aed48f792a9393d9b8d16a4": {
      "model_module": "k3d",
      "model_module_version": "2.6.9",
      "model_name": "PlotModel",
      "state": {
       "_backend_version": "2.6.9",
       "_dom_classes": [],
       "_view_count": null,
       "antialias": 3,
       "axes": [
        "x",
        "y",
        "z"
       ],
       "background_color": 16777215,
       "camera": [
        734.9374617850232,
        631.3062220341174,
        487.1836957633029,
        -85.58556270599365,
        -124.78848266601562,
        220.1117291301489,
        0.07358970120778197,
        -0.32843685215784024,
        0.9416548146857165
       ],
       "camera_auto_fit": true,
       "camera_no_pan": false,
       "camera_no_rotate": false,
       "camera_no_zoom": false,
       "clipping_planes": [],
       "colorbar_object_id": -1,
       "fps_meter": false,
       "grid": [
        -1,
        -1,
        -1,
        1,
        1,
        1
       ],
       "grid_auto_fit": true,
       "grid_visible": true,
       "height": 512,
       "layout": "IPY_MODEL_a7f7870481b64f7bbb432ff4169c04b4",
       "lighting": 3,
       "menu_visibility": true,
       "object_ids": [
        140183449373456
       ],
       "rendering_steps": 1,
       "screenshot": "",
       "screenshot_scale": 2,
       "time": 0,
       "voxel_paint_color": 0
      }
     },
     "513fe9e6e542430b96481f351913f98b": {
      "buffers": [
       {
        "data": "eNoDAAAAAAE=",
        "encoding": "base64",
        "path": [
         "attribute",
         "compressed_buffer"
        ]
       },
       {
        "data": "eNpjYGjYzwAHAvZlMu5I/Ab7mRpd+2BsEJbgaNoD5NhD+Az2uueL7WByIFVfftvB2Qh9DHA+AAjLEVw=",
        "encoding": "base64",
        "path": [
         "color_map",
         "compressed_buffer"
        ]
       },
       {
        "data": "eNpjYGiwZ8AAxIsBAF7EAv0=",
        "encoding": "base64",
        "path": [
         "model_matrix",
         "compressed_buffer"
        ]
       },
       {
        "data": "eNoDAAAAAAE=",
        "encoding": "base64",
        "path": [
         "vertices",
         "compressed_buffer"
        ]
       },
       {
        "data": "eNoDAAAAAAE=",
        "encoding": "base64",
        "path": [
         "indices",
         "compressed_buffer"
        ]
       }
      ],
      "model_module": "k3d",
      "model_module_version": "2.6.9",
      "model_name": "ObjectModel",
      "state": {
       "_view_count": null,
       "_view_module": null,
       "_view_module_version": "",
       "_view_name": null,
       "attribute": {
        "compressed_buffer": {},
        "dtype": "float32",
        "shape": [
         0
        ]
       },
       "color": 255,
       "color_map": {
        "compressed_buffer": {},
        "dtype": "float32",
        "shape": [
         28
        ]
       },
       "color_range": [],
       "compression_level": 0,
       "flat_shading": true,
       "id": 139841587525968,
       "indices": {
        "compressed_buffer": {},
        "dtype": "uint32",
        "shape": [
         0
        ]
       },
       "model_matrix": {
        "compressed_buffer": {},
        "dtype": "float32",
        "shape": [
         4,
         4
        ]
       },
       "name": null,
       "opacity": 1,
       "type": "Mesh",
       "vertices": {
        "compressed_buffer": {},
        "dtype": "float32",
        "shape": [
         0
        ]
       },
       "visible": true,
       "wireframe": false
      }
     },
     "659fbc650a6247bc9a2779ca1256a8ee": {
      "model_module": "k3d",
      "model_module_version": "2.6.9",
      "model_name": "PlotModel",
      "state": {
       "_backend_version": "2.6.9",
       "_dom_classes": [],
       "_view_count": null,
       "antialias": 3,
       "axes": [
        "x",
        "y",
        "z"
       ],
       "background_color": 16777215,
       "camera": [
        3.7205892932533393,
        -5.580883939880009,
        0.37205892932533324,
        0,
        0,
        0,
        0,
        0,
        1
       ],
       "camera_auto_fit": true,
       "camera_no_pan": false,
       "camera_no_rotate": false,
       "camera_no_zoom": false,
       "clipping_planes": [],
       "colorbar_object_id": -1,
       "fps_meter": false,
       "grid": [
        -1,
        -1,
        -1,
        1,
        1,
        1
       ],
       "grid_auto_fit": true,
       "grid_visible": true,
       "height": 512,
       "layout": "IPY_MODEL_18079ebf319f4c7fae7d03f12e052867",
       "lighting": 3,
       "menu_visibility": true,
       "object_ids": [],
       "rendering_steps": 1,
       "screenshot": "",
       "screenshot_scale": 2,
       "time": 0,
       "voxel_paint_color": 0
      }
     },
     "947790c212b34b79b6760dcf85d32089": {
      "model_module": "@jupyter-widgets/base",
      "model_module_version": "1.1.0",
      "model_name": "LayoutModel",
      "state": {}
     },
     "a1a250b6bc4c47aca1e773b032ba5bb0": {
      "buffers": [
       {
        "data": "eNoDAAAAAAE=",
        "encoding": "base64",
        "path": [
         "attribute",
         "compressed_buffer"
        ]
       },
       {
        "data": "eNoDAAAAAAE=",
        "encoding": "base64",
        "path": [
         "color_map",
         "compressed_buffer"
        ]
       },
       {
        "data": "eNpjYGiwZ8AAxIsBAF7EAv0=",
        "encoding": "base64",
        "path": [
         "model_matrix",
         "compressed_buffer"
        ]
       },
       {
        "data": "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",
        "encoding": "base64",
        "path": [
         "vertices",
         "compressed_buffer"
        ]
       },
       {
        "data": "eNo13WUQ1mUaRnHXRFoURFpa2kYERFpaQEBaSqRVQGykpaWlpUR6TZaSNVlKVlBZSpaSNVmTNfe5x9/rzD3Pmet8OV/f/yBccMEFF/wl3eUX/PlfvFlsF6bLirNysV2ULhvOxsV2cbrsODsX2yXpcuAcXGyXpsuJc3KxXZYuF87FXaYvC87C5U53RbprcLz5bXnSFcAFuNiuTFcQF+RiuypdIVyIiy1vusK4MBdbvnRFcBEutqvTFcVFuav15cf5uWLprk13HY63rK14unK4HBdbiXTlcXkutpLpKuAKXGyl0lXEFbnYSqerhCtxsZVJVxlX5sroK4vLclXSXZ/uNhxvVdsN6arhalxsN6a7Hd/OxXZTuuq4Ohfbzelq4BpcbLekq4lrcrHdmu4OfAd3q76quCpXK92d6e7C8Ta01U7XCDfiYquTrjFuzMVWN10T3ISLrV66prgpF1v9dM1wMy62Buma4+ZcA30NcUOuRbq7092L421na5muPW7PxdYqXQfcgYutdbqOuCMX2z3pOuFOXGxt0nXGnbnY2qbrgrtwbfW1w+24runuS/cAjre3rVu6PrgPF1v3dH1xXy62Hun64X5cbD3T9cf9udh6pRuAB3Cx3Z9uIB7I3a+vN+7NDUr3YLpHcbzDbA+leww/xsX2cLrH8eNcbIPTPYGf4GIbku5J/CQX29B0T+GnuNgeSfc0fpp7RN8wPIwbnu6ZdM/ieMfZRqQbj8dzsY1MNwFP4GIblW4insjFNjrdJDyJi21Musl4Mhfb2HRT8BRurL5xeBw3Nd1z6Z7H8c6xTUs3F8/lYpuebh6ex8U2I918PJ+LbWa6BXgBF9usdAvxQi622ekW4UXcbH1z8Bxujq4XcLyLbdG1BC/h5upaipdy83Qtw8u4+bqW4+XcAl0r8Apuoa4X8YtcpnUxXswt1vUSjnelLbpW4VXcEl2r8Wpuqa41eA23TNdavJZbrmsdXset0LUer+cyrSvxSm5Dur+m+xuOd6Pt5XSb8CYutlfSbcabudheTbcFb+Fiey3dVryVi+31dNvwNi62N9K9id/k3tC3EW/kNur6O453uy263sJvcZt0vY3f5jbrege/w23R9S5+l9uq6z38HrdN1/v4fS7Tuh1v57br+geOd4ctunbindxbunbhXdzbunbj3dw7uvbgPdy7uvbivdx7uj7AH3CZ1h14B7cv3T/T/QvHe9D2YbpD+BAX2/50h/FhLrYD6Y7gI1xsH6U7io9ysX2c7hg+xsX2SbpP8afcJ/oO4oPcQV3/xvEet0XXCXyCO6TrJD7JHdZ1Cp/ijug6jU9zR3WdwWe4Y7o+w59xmdbj+Dh3XNd/cLxnbdH1Of6cO6HrC/wFd1LXl/hL7pSur/BX3GldX+OvuTO6vsHfcJnWs/gsdy7df9P9D8d73vZtup/xz1xs36X7Bf/CxfZ9ul/xr1xsP6T7Df/GxfZjut/x71xsP6X7A//B/aTvPD7Pndf1l7/8yfHGD8b/6boQxxvuZ10X4XjD/aLrYhxvuF91XYLjDfebrktxvOF+13UZjjdcpvUCHO9lWqPrchxvFlt0ZcVZuQt1ZcPZuIt0ZcfZuYt15cA5uEt05cQ5uUt15cK5uExrFpyFy53uinTX4Hjz2/KkK4ALcLFdma4gLsjFdlW6QrgQF1vedIVxYS62fOmK4CJcbFenK4qLclfry4/zc/l1XYvjLWaLruK4OFdAVwlcgiuoqyQuyRXSVQqX4grrKo1Lc0V0lcFluExrMVyMK6brOhxvWVt0lcPluOK6yuPyXAldFXAFrqSuirgiV0pXJVyJK62rMq7MZVrL4rJclXTXp7sNx1vVdkO6argaF9uN6W7Ht3Ox3ZSuOq7OxXZzuhq4BhfbLelq4ppcbLemuwPfwd2qryquylXVdSeOt5Ytumrj2lw1XXVwHe52XXVxXa66rnq4HldDV31cn6upqwFuwGVaa+FaXC1dd+F4G9qiqxFuxNXW1Rg35uroaoKbcHV1NcVNuXq6muFmXH1dzXFzLtPaEDfkWqS7O929ON52tpbp2uP2XGyt0nXAHbjYWqfriDtysd2TrhPuxMXWJl1n3JmLrW26LrgL11ZfO9yOa6frPhxvV1t0dcPduPa6uuPuXAddPXAPrqOunrgn10lXL9yL66zrfnw/l2ntirtyXXU9gOPtbYuuPrgP101XX9yX666rH+7H9dDVH/fneuoagAdwvXQNxAO5TGtv3JvrretBHO8gW3Q9hB/i+uh6GD/M9dU1GA/m+ukagodw/XUNxUO5AboewY9wmdZBeBA3LN2j6Z7B8Q63PZZuBB7BxfZ4upF4JBfbE+lG4VFcbE+mG41Hc7E9lW4MHsPF9nS6sXgs97S+4Xg4N1zXszjecbboGo/HcyN0TcATuJG6JuKJ3Chdk/AkbrSuyXgyN0bXFDyFy7SOw+O4cbqew/FOtUXXNDyNG69rOp7OTdA1A8/gJuqaiWdyk3TNwrO4ybpm49lcpnUqnspN1fU8jneOLbrm4rncNF3z8Dxuuq75eD43Q9cCvICbqWshXsjN0rUIL+IyrXPwHG5xuhfSvYTjXWlbkm4VXsXFtjTdaryai21ZujV4DRfb8nRr8VouthXp1uF1XGwvpluP13Mv6luJV3Irdf0Vx7vBFl0v45e5Vbpewa9wq3W9il/l1uh6Db/GrdX1On6dW6frDfwGl2ndgDdwG3T9Dce70RZdm/Am7mVdm/Fm7hVdW/AW7lVdW/FW7jVd2/A27nVdb+I3uUzrRryR257u7+n+gePdYXsr3U68k4vt7XS78C4utnfS7ca7udjeTbcH7+Fiey/dXryXi+39dB/gD7j39e3AO7gduv6J491ni64P8YfcTl378X5ul64D+AC3W9dH+CNuj66P8cfcXl2f4E+4TOs+vI87mO5f6f6N4z1uO5TuBD7BxXY43Ul8kovtSLpT+BQX29F0p/FpLrZj6c7gM1xsn6b7DH/GfarvOD7OHdf1HxzvWVt0fY4/507o+gJ/wZ3U9SX+kjul6yv8FXda19f4a+6Mrm/wN1ym9Sw+y53V9V8c7zlbdH2Lv+U+1/Ud/o77Qtf3+HvuS10/4B+4r3T9iH/kvtb1E/6Jy7Sew+e4c7r+h+M9b4uun/HP3Le6fsG/cN/p+hX/yn2v6zf8G/eDrt/x79yPuv7Af3CZ1vP4PBd/iOEv6S6/8E+ON4vtwnRZcVYutovSZcPZuNguTpcdZ+diuyRdDpyDi+3SdDlxTi62y9Llwrm4y/RlwVm4LLquwPHmtkVXHpyHy6rrSnwll03XVfgqLruuvDgvl0NXPpyPy6nranw1l2nNjXNzuXVdg+PNb4uuArgAl0dXQVyQu1JXIVyIu0pXYVyYy6urCC7C5dNVFBflMq35cX4uv65rcbzFbNFVHBfnCugqgUtwBXWVxCW5QrpK4VJcYV2lcWmuiK4yuAyXaS2Gi3Fl012X7nocbxVbuXQ34Bu42MqnuxHfyMVWId1N+CYutorpbsY3c7FVSncLvoWLrXK6W/GtXGV9VXAVroqu23C8VW3RVQ1X427QdTu+nbtRV3VcnbtJVw1cg7tZV01ck7tF1x34Di7TWhVX5WqluzPdXTjehrba6RrhRlxsddI1xo252Oqma4KbcLHVS9cUN+Viq5+uGW7GxdYgXXPcnGugryFuyDXUdTeOt4UtulrillwjXa1wK66xrta4NddE1z34Hq6prja4DddMV1vclsu0tsAtuBa67sXxtrNFV3vcnmupqwPuwLXS1RF35Frr6oQ7cffo6ow7c210dcFduExrO9yO65ruvnQP4Hh727ql64P7cLF1T9cX9+Vi65GuH+7HxdYzXX/cn4utV7oBeAAX2/3pBuKB3P36euPeXG9dD+J4B9mi6yH8ENdH18P4Ya6vrsF4MNdP1xA8hOuvaygeyg3Q9Qh+hMu0DsKDuGHpHk33DI53uO2xdCPwCC62x9ONxCO52J5INwqP4mJ7Mt1oPJqL7al0Y/AYLran043FY7mn9Q3Hw7nhup7F8Y6zRdd4PJ4boWsCnsCN1DURT+RG6ZqEJ3GjdU3Gk7kxuqbgKVymdRwex43T9RyOd6otuqbhadx4XdPxdG6Crhl4BjdR10w8k5ukaxaexU3WNRvP5jKtU/FUbk6659O9gONdbJubbglewsU2L91SvJSLbX66ZXgZF9uCdMvxci62helW4BVcbIvSvYhf5BbpW4wXc4t1vYTjXWmLrlV4FbdE12q8mluqaw1ewy3TtRav5ZbrWofXcSt0rcfruUzrSrySW6nrrzjeDbboehm/zK3S9Qp+hVut61X8KrdG12v4NW6trtfx69w6XW/gN7hM6wa8gduY7m/p/o7j3W7blO4t/BYX2+Z0b+O3udi2pHsHv8PFtjXdu/hdLrZt6d7D73GxvZnuffw+96a+7Xg7t13XP3C8O2zRtRPv5N7StQvv4t7WtRvv5t7RtQfv4d7VtRfv5d7T9QH+gMu07sA7uH3p/pnuXzjeg7YP0x3Ch7jY9qc7jA9zsR1IdwQf4WL7KN1RfJSL7eN0x/AxLrZP0n2KP+U+0XcQH+QO6vo3jve4LbpO4BPcIV0n8UnusK5T+BR3RNdpfJo7qusMPsMd0/UZ/ozLtB7Hx7njuv6D4z1ri67P8efcCV1f4C+4k7q+xF9yp3R9hb/iTuv6Gn/NndH1Df6Gy7SexWe5s7r+i+M9Z4uub/G33Oe6vsPfcV/o+h5/z32p6wf8A/eVrh/xj9zXun7CP3GZ1nP4HHc+3f/iG8lFf3K88T+AxPZzfCPB8YaL7Zf4RoLjDRfbr/GNBMcbLrbf4hsJjjdcbL/HNxIcb7jY/ohvJDjecH9ovQDHe5nW6Locx5vFFl1ZcVbuQl3ZcDbuIl3ZcXbuYl05cA7uEl05cU7uUl25cC4u05oFZ+Gy6LoCx5vbFl15cB4uq64r8ZVcNl1X4au47Lry4rxcDl35cD4up66r8dVcpjU3zs3lT3dNumtxvMVsBdIVx8W52AqmK4FLcLEVSlcSl+RiK5yuFC7FxVYkXWlcmoutaLoyuAxXVF8xXIwrpus6HG9ZW3SVw+W44rrK4/JcCV0VcAWupK6KuCJXSlclXIkrrasyrsxlWsvislxZXdfjeKvYousGfANXTteN+EauvK6b8E1cBV0345u5irpuwbdwlXTdim/lMq1VcBWuarrb0t2J461lq5auNq7NxXZ7ujq4Dhdb9XR1cV0uthrp6uF6XGw109XH9bnY7kjXADfg7tBXC9fiaum6C8fb0BZdjXAjrrauxrgxV0dXE9yEq6urKW7K1dPVDDfj6utqjptzmdaGuCHXUNfdON4WtuhqiVtyjXS1wq24xrpa49ZcE1334Hu4prra4DZcM11tcVsu09oCt+Ba6LoXx9vOFl3tcXuupa4OuAPXSldH3JFrrasT7sTdo6sz7sy10dUFd+Eyre1wO66drvtwvF1t0dUNd+Pa6+qOu3MddPXAPbiOunrinlwnXb1wL66zrvvx/VymtSvuynXV9QCOt7ctuvrgPlw3XX1xX667rn64H9dDV3/cn+upawAewPXSNRAP5DKtvXFvrreuB3G8g2zR9RB+iOuj62H8MNdX12A8mOunawgewvXXNRQP5QboegQ/wmVaB+FB3CBdj+J4h9mi6zH8GPeQrsfx49zDup7AT3CDdT2Jn+SG6HoKP8UN1fU0fprLtA7Dw7hhup7B8Q63RdcIPIJ7TNdIPJJ7XNcoPIp7QtdoPJp7UtcYPIZ7StdYPJbLtA7Hw7nhup7F8Y6zRdd4PJ4boWsCnsCN1DURT+RG6ZqEJ3GjdU3Gk7kxuqbgKVymdRwex43T9RyOd6otuqbhadx4XdPxdG6Crhl4BjdR10w8k5ukaxaexU3WNRvP5jKtU/FUbqqu53G8c2zRNRfP5abpmofncdN1zcfzuRm6FuAF3ExdC/FCbpauRXgRl2mdg+dwi9O9kO4lHO9K25J0q/AqLral6Vbj1Vxsy9KtwWu42JanW4vXcrGtSLcOr+NiezHderyee1HfSrySW6nrrzjeDbboehm/zK3S9Qp+hVut61X8KrdG12v4NW6trtfx69w6XW/gN7hM6wa8gdug62843o226NqEN3Ev69qMN3Ov6NqCt3Cv6tqKt3Kv6dqGt3Gv63oTv8llWjfijdz2dH9P9w8c7w7bW+l24p1cbG+n24V3cbG9k2433s3F9m66PXgPF9t76fbivVxs76f7AH/Ava9vB97B7dD1TxzvPlt0fYg/5Hbq2o/3c7t0HcAHuN26PsIfcXt0fYw/5vbq+gR/wmVa9+F93D5d/8LxHrRF1yF8iPtQ12F8mNuv6wg+wh3QdRQf5T7SdQwf4z7W9Sn+lMu0HsQHuYO6/o3jPW6LrhP4BHdI10l8kjus6xQ+xR3RdRqf5o7qOoPPcMd0fYY/4zKtx/Fx7riu/+B4z9qi63P8OXdC1xf4C+6kri/xl9wpXV/hr7jTur7GX3NndH2Dv+EyrWfxWe5cuv/GNzYc73nbt/GNDf/MxfZdfGPDv3CxfR/f2PCvXGw/xDc2/BsX24/xjQ3/zsX2U3xjw39wP+k7j89z53X95eI/Od74i2L+p+tCHG+4n3VdhOMN94uui3G84X7VdQmON9xvui7F8Yb7XddlON5wmdYLcLyXaY2uy3G8WWzRlRVn5S7UlQ1n4y7SlR1n5y7WlQPn4C7RlRPn5C7VlQvn4jKtWXAWLne6K9Jdg+PNb8uTrgAuwMV2ZbqCuCAX21XpCuFCXGx50xXGhbnY8qUrgotwsV2driguyl2tLz/Oz+XXdS2Ot5gtuorj4lwBXSVwCa6grpK4JFdIVylciiusqzQuzRXRVQaX4TKtxXAxrpiu63C8ZW3RVQ6X44rrKo/LcyV0VcAVuJK6KuKKXCldlXAlrrSuyrgyl2kti8tyZXVdj+OtYouuG/ANXDldN+IbufK6bsI3cRV03Yxv5irqugXfwlXSdSu+lcu0VsFVuKrpbkt3J463lq1autq4Nhfb7enq4DpcbNXT1cV1udhqpKuH63Gx1UxXH9fnYrsjXQPcgLtDXy1ci6ul6y4cb0NbdDXCjbjauhrjxlwdXU1wE66urqa4KVdPVzPcjKuvqzluzmVaG+KGXIt0d6e7F8fbztYyXXvcnoutVboOuAMXW+t0HXFHLrZ70nXCnbjY2qTrjDtzsbVN1wV34drqa4fbce103Yfj7WqLrm64G9deV3fcneugqwfuwXXU1RP35Drp6oV7cZ113Y/v5zKtXXFXrquuB3C8vW3R1Qf34brp6ov7ct119cP9uB66+uP+XE9dA/AArpeugXggl2ntjXtzvXU9iOMdZIuuh/BDXB9dD+OHub66BuPBXD9dQ/AQrr+uoXgoN0DXI/gRLtM6CA/iBul6FMc7zBZdj+HHuId0PY4f5x7W9QR+ghus60n8JDdE11P4KW6orqfx01ymdRgexg3T9QyOd7gtukbgEdxjukbikdzjukbhUdwTukbj0dyTusbgMdxTusbisVymdTgezg3X9SyOd5wtusbj8dwIXRPwBG6krol4IjdK1yQ8iRutazKezI3RNQVP4TKt4/A4bmq659I9j+OdY5uWbi6ey8U2Pd08PI+LbUa6+Xg+F9vMdAvwAi62WekW4oVcbLPTLcKLuNn65uA53BxdL+B4F9uiawlews3VtRQv5ebpWoaXcfN1LcfLuQW6VuAV3EJdL+IXuUzrYryYW6zrJRzvSlt0rcKruCW6VuPV3FJda/AabpmutXgtt1zXOryOW6FrPV7PZVpX4pXchnR/Tfc3HO9G28vpNuFNXGyvpNuMN3OxvZpuC97CxfZauq14Kxfb6+m24W1cbG+kexO/yb2hbyPeyG3U9Xcc73ZbdL2F3+I26Xobv81t1vUOfofboutd/C63Vdd7+D1um6738ftcpnU73s7tSPePdP/E8e6z7Uz3If6Qi21Xuv14Pxfb7nQH8AEutj3pPsIfcbHtTfcx/piL7YN0n+BPuA/07cP7uH26/oXjPWiLrkP4EPehrsP4MLdf1xF8hDug6yg+yn2k6xg+xn2s61P8KZdpPYgPcgd1/RvHe9wWXSfwCe6QrpP4JHdY1yl8ijui6zQ+zR3VdQaf4Y7p+gx/xmVaj+Pj3Nl0/0n3XxzvOdvn6b7F33KxfZHuO/wdF9uX6b7H33OxfZXuB/wDF9vX6X7EP3KxfZPuJ/wT942+c/gcd07X/3C8523R9TP+mftW1y/4F+47Xb/iX7nvdf2Gf+N+0PU7/p37Udcf+A8u03oen+fO6/rLJX9yvPEXGv9P14U43nA/67oIxxvuF10X43jD/arrEhxvuN90XYrjDfe7rstwvOEyrRfgeMNlSXd5uitwvLltWdPlwXm42LKluxJfycWWPd1V+Couthzp8uK8XGw50+XD+bjYcqW7Gl/N5dKXG+fm8qe7Jt21ON5itgLpiuPiXGwF05XAJbjYCqUriUtysRVOVwqX4mIrkq40Ls3FVjRdGVyGK6qvGC7GFdN1HY63rC26yuFyXHFd5XF5roSuCrgCV1JXRVyRK6WrEq7EldZVGVfmMq1lcVmuSrrr092G461quyFdNVyNi+3GdLfj27nYbkpXHVfnYrs5XQ1cg4vtlnQ1cU0utlvT3YHv4G7VVxVX5arquhPHW8sWXbVxba6arjq4Dne7rrq4LlddVz1cj6uhqz6uz9XU1QA34DKttXAtrmG6u9LdjeNtYWuUriVuycXWOF0r3IqLrUm61rg1F1vTdPfge7jYmqVrg9twsTVP1xa35Zrra4FbcO3S3ZvuPhxvV1v7dN1wNy62Dum64+5cbB3T9cA9uNg6peuJe3KxdU7XC/fiYuuS7n58P9dFX1fcleuq6wEcb29bdPXBfbhuuvrivlx3Xf1wP66Hrv64P9dT1wA8gOulayAeyGVae+PeXG9dD+J4B9mi6yH8ENdH18P4Ya6vrsF4MNdP1xA8hOuvaygeyg3Q9Qh+hMu0DsKDuGHpHk33DI53uO2xdCPwCC62x9ONxCO52J5INwqP4mJ7Mt1oPJqL7al0Y/AYLran043FY7mn9Q3Hw7nhup7F8Y6zRdd4PJ4boWsCnsCN1DURT+RG6ZqEJ3GjdU3Gk7kxuqbgKVymdRwex01N91y653G8c2zT0s3Fc7nYpqebh+dxsc1INx/P52KbmW4BXsDFNivdQryQi212ukV4ETdb3xw8h5uj6wUc72JbdC3BS7i5upbipdw8XcvwMm6+ruV4ObdA1wq8gluo60X8IpdpXYwXcyvTvZTurzjeDbZV6V7GL3OxrU73Cn6Fi21Nulfxq1xsa9O9hl/jYluX7nX8Ohfb+nRv4De49fo24A3cBl1/w/FutEXXJryJe1nXZryZe0XXFryFe1XXVryVe03XNryNe13Xm/hNLtO6EW/ktqf7e7p/4Hh32N5KtxPv5GJ7O90uvIuL7Z10u/FuLrZ30+3Be7jY3ku3F+/lYns/3Qf4A+59fTvwDm6Hrn/iePfZoutD/CG3U9d+vJ/bpesAPsDt1vUR/ojbo+tj/DG3V9cn+BMu07oP7+P26foXjvegLboO4UPch7oO48Pcfl1H8BHugK6j+Cj3ka5j+Bj3sa5P8adcpvUgPsgdT/fvdP/B8Z61nUj3Of6ci+1kui/wF1xsp9J9ib/kYjud7iv8FRfbmXRf46+52D5L9w3+hvtM31l8ljur67843nO26PoWf8t9rus7/B33ha7v8ffcl7p+wD9wX+n6Ef/Ifa3rJ/wTl2k9h89x5+P3efw2v/RPjjf+4aHYfo7f5jjecLH9Er/NcbzhYvs1fpvjeMPF9lv8Nsfxhovt9/htjuMNF9sf8dscxxvuD60X4Hgv0xpdl+N4s9iiKyvOyl2oKxvOxl2kKzvOzl2sKwfOwV2iKyfOyV2qKxfOxWVas+AsXBZdV+B4c9uiKw/Ow2XVdSW+ksum6yp8FZddV16cl8uhKx/Ox+XUdTW+msu05sa5udy6rsHx5rdFVwFcgMujqyAuyF2pqxAuxF2lqzAuzOXVVQQX4fLpKoqLcpnW/Dg/Vyzdtemuw/GWtRVPVw6X42Irka48Ls/FVjJdBVyBi61Uuoq4Ihdb6XSVcCUutjLpKuPKXBl9ZXFZrqyu63G8VWzRdQO+gSun60Z8I1de1034Jq6CrpvxzVxFXbfgW7hKum7Ft3KZ1iq4Clc13W3p7sTx1rJVS1cb1+Ziuz1dHVyHi616urq4LhdbjXT1cD0utprp6uP6XGx3pGuAG3B36KuFa3G1dN2F421oi65GuBFXW1dj3Jiro6sJbsLV1dUUN+Xq6WqGm3H1dTXHzblMa0PckGuo624cbwtbdLXELblGulrhVlxjXa1xa66JrnvwPVxTXW1wG66Zrra4LZdpbYFbcO3S3ZvuPhxvV1v7dN1wNy62Dum64+5cbB3T9cA9uNg6peuJe3KxdU7XC/fiYuuS7n58P9dFX1fcleuq6wEcb29bdPXBfbhuuvrivlx3Xf1wP66Hrv64P9dT1wA8gOulayAeyGVae+Pe3KB0D6Z7FMc7zPZQusfwY1xsD6d7HD/OxTY43RP4CS62IemexE9ysQ1N9xR+iovtkXRP46e5R/QNw8O4YbqewfEOt0XXCDyCe0zXSDySe1zXKDyKe0LXaDyae1LXGDyGe0rXWDyWy7QOx8O54bqexfGOs0XXeDyeG6FrAp7AjdQ1EU/kRumahCdxo3VNxpO5Mbqm4ClcpnUcHseN0/UcjneqLbqm4WnceF3T8XRugq4ZeAY3UddMPJObpGsWnsVN1jUbz+YyrVPxVG5OuufTvYDjXWybm24JXsLFNi/dUryUi21+umV4GRfbgnTL8XIutoXpVuAVXGyL0r2IX+QW6VuMF3OLdb2E411pi65VeBW3RNdqvJpbqmsNXsMt07UWr+WW61qH13ErdK3H67lM60q8ktuQ7q/p/obj3Wh7Od0mvImL7ZV0m/FmLrZX023BW7jYXku3FW/lYns93Ta8jYvtjXRv4je5N/RtxBu5jbr+juPdbouut/Bb3CZdb+O3uc263sHvcFt0vYvf5bbqeg+/x23T9T5+n8u0bsfbue26/oHj3WGLrp14J/eWrl14F/e2rt14N/eOrj14D/eurr14L/eerg/wB1ymdQfewe3Q9U8c7z5bdH2IP+R26tqP93O7dB3AB7jduj7CH3F7dH2MP+b26voEf8JlWvfhfdw+Xf/C8R60RdchfIj7UNdhfJjbr+sIPsId0HUUH+U+0nUMH+M+1vUp/pTLtB7EB7mDuv6N4z1ui64T+AR3SNdJfJI7rOsUPsUd0XUan+aO6jqDz3DHdH2GP+Myrcfxce5suv+k+y+O95zt83Tf4m+52L5I9x3+jovty3Tf4++52L5K9wP+gYvt63Q/4h+52L5J9xP+iftG3zl8jjun63843vO26PoZ/8x9q+sX/Av3na5f8a/c97p+w79xP+j6Hf/O/ajrD/wHl2k9j89z8Y9h/yXd5Zf9yfFmsV2YLivOysV2UbpsOBsX28XpsuPsXGyXpMuBc3CxXZouJ87JxXZZulw4F3eZviw4C5dF1xU43ty26MqD83BZdV2Jr+Sy6boKX8Vl15UX5+Vy6MqH83E5dV2Nr+Yyrblxbi63rmtwvPlt0VUAF+Dy6CqIC3JX6iqEC3FX6SqMC3N5dRXBRbh8uoriolymNT/Oz+XXdS2Ot5gtuorj4lwBXSVwCa6grpK4JFdIVylciiusqzQuzRXRVQaX4TKtxXAxrpiu63C8ZW3RVQ6X44rrKo/LcyV0VcAVuJK6KuKKXCldlXAlrrSuyrgyl2kti8tyVdJdn+42HG9V2w3pquFqXGw3prsd387FdlO66rg6F9vN6WrgGlxst6SriWtysd2a7g58B3ervqq4KldV15043lq26KqNa3PVdNXBdbjbddXFdbnquurhelwNXfVxfa6mrga4AZdprYVrcQ3T3ZXubhxvC1ujdC1xSy62xula4VZcbE3StcatudiaprsH38PF1ixdG9yGi615ura4LddcXwvcgmuh614cbztbdLXH7bmWujrgDlwrXR1xR661rk64E3ePrs64M9dGVxfchcu0tsPtuHa67sPxdrVFVzfcjWuvqzvuznXQ1QP34Drq6ol7cp109cK9uM667sf3c5nWrrgr11XXAzje3rbo6oP7cN109cV9ue66+uF+XA9d/XF/rqeuAXgA10vXQDyQy7T2xr253roexPEOskXXQ/ghro+uh/HDXF9dg/Fgrp+uIXgI11/XUDyUG6DrEfwIl2kdhAdxw9I9mu4ZHO9w22PpRuARXGyPpxuJR3KxPZFuFB7FxfZkutF4NBfbU+nG4DFcbE+nG4vHck/rG46Hc8N1PYvjHWeLrvF4PDdC1wQ8gRupayKeyI3SNQlP4kbrmownc2N0TcFTuEzrODyOG6frORzvVFt0TcPTuPG6puPp3ARdM/AMbqKumXgmN0nXLDyLm6xrNp7NZVqn4qncVF3P43jn2KJrLp7LTdM1D8/jpuuaj+dzM3QtwAu4mboW4oXcLF2L8CIu0zoHz+Hm6HoBx7vYFl1L8BJurq6leCk3T9cyvIybr2s5Xs4t0LUCr+AW6noRv8hlWhfjxdxiXS/heFfaomsVXsUt0bUar+aW6lqD13DLdK3Fa7nlutbhddwKXevxei7TuhKv5P4Pu5U6EA==",
        "encoding": "base64",
        "path": [
         "indices",
         "compressed_buffer"
        ]
       }
      ],
      "model_module": "k3d",
      "model_module_version": "2.6.9",
      "model_name": "ObjectModel",
      "state": {
       "_view_count": null,
       "_view_module": null,
       "_view_module_version": "",
       "_view_name": null,
       "attribute": {
        "compressed_buffer": {},
        "dtype": "float32",
        "shape": [
         0
        ]
       },
       "color": 4271375,
       "color_map": {
        "compressed_buffer": {},
        "dtype": "float32",
        "shape": [
         0
        ]
       },
       "color_range": [],
       "compression_level": 0,
       "flat_shading": true,
       "id": 140210511005904,
       "indices": {
        "compressed_buffer": {},
        "dtype": "uint32",
        "shape": [
         2928,
         3
        ]
       },
       "model_matrix": {
        "compressed_buffer": {},
        "dtype": "float32",
        "shape": [
         4,
         4
        ]
       },
       "name": null,
       "opacity": 1,
       "type": "Mesh",
       "vertices": {
        "compressed_buffer": {},
        "dtype": "float32",
        "shape": [
         1968,
         3
        ]
       },
       "visible": true,
       "wireframe": false
      }
     },
     "a7f7870481b64f7bbb432ff4169c04b4": {
      "model_module": "@jupyter-widgets/base",
      "model_module_version": "1.1.0",
      "model_name": "LayoutModel",
      "state": {}
     },
     "bc4cae4718c54b28a466244c15a3f17d": {
      "model_module": "k3d",
      "model_module_version": "2.6.9",
      "model_name": "PlotModel",
      "state": {
       "_backend_version": "2.6.9",
       "_dom_classes": [],
       "_view_count": null,
       "antialias": 3,
       "axes": [
        "x",
        "y",
        "z"
       ],
       "background_color": 16777215,
       "camera": [
        383.577413680471,
        -828.5329472457126,
        267.02802676879577,
        -85.58556270599365,
        -124.78848266601562,
        220.1117291301489,
        0,
        0,
        1
       ],
       "camera_auto_fit": true,
       "camera_no_pan": false,
       "camera_no_rotate": false,
       "camera_no_zoom": false,
       "clipping_planes": [],
       "colorbar_object_id": -1,
       "fps_meter": false,
       "grid": [
        -1,
        -1,
        -1,
        1,
        1,
        1
       ],
       "grid_auto_fit": true,
       "grid_visible": true,
       "height": 512,
       "layout": "IPY_MODEL_947790c212b34b79b6760dcf85d32089",
       "lighting": 3,
       "menu_visibility": true,
       "object_ids": [
        140210511005904
       ],
       "rendering_steps": 1,
       "screenshot": "",
       "screenshot_scale": 2,
       "time": 0,
       "voxel_paint_color": 0
      }
     },
     "e6adb3ea51f64a2898f75baae0deb08c": {
      "model_module": "@jupyter-widgets/base",
      "model_module_version": "1.1.0",
      "model_name": "LayoutModel",
      "state": {}
     },
     "ec17287fa46540fa91caee5d1a94c2a6": {
      "model_module": "k3d",
      "model_module_version": "2.6.9",
      "model_name": "PlotModel",
      "state": {
       "_backend_version": "2.6.9",
       "_dom_classes": [],
       "_view_count": null,
       "antialias": 3,
       "axes": [
        "x",
        "y",
        "z"
       ],
       "background_color": 16777215,
       "camera": [
        2.8778826572598577,
        -4.316823985889787,
        0.28778826572598526,
        0,
        0,
        0,
        0,
        0,
        1
       ],
       "camera_auto_fit": true,
       "camera_no_pan": false,
       "camera_no_rotate": false,
       "camera_no_zoom": false,
       "clipping_planes": [],
       "colorbar_object_id": -1,
       "fps_meter": false,
       "grid": [
        -1,
        -1,
        -1,
        1,
        1,
        1
       ],
       "grid_auto_fit": true,
       "grid_visible": true,
       "height": 512,
       "layout": "IPY_MODEL_e6adb3ea51f64a2898f75baae0deb08c",
       "lighting": 3,
       "menu_visibility": true,
       "object_ids": [
        139841587525968
       ],
       "rendering_steps": 1,
       "screenshot": "",
       "screenshot_scale": 2,
       "time": 0,
       "voxel_paint_color": 0
      }
     },
     "f7013e5f41da43da9ec7c33cebeda4f3": {
      "buffers": [
       {
        "data": "eNoDAAAAAAE=",
        "encoding": "base64",
        "path": [
         "attribute",
         "compressed_buffer"
        ]
       },
       {
        "data": "eNpjYGjYzwAHAvZlMu5I/Ab7mRpd+2BsEJbgaNoD5NhD+Az2uueL7WByIFVfftvB2Qh9DHA+AAjLEVw=",
        "encoding": "base64",
        "path": [
         "color_map",
         "compressed_buffer"
        ]
       },
       {
        "data": "eNpjYGiwZ8AAxIsBAF7EAv0=",
        "encoding": "base64",
        "path": [
         "model_matrix",
         "compressed_buffer"
        ]
       },
       {
        "data": "eNoDAAAAAAE=",
        "encoding": "base64",
        "path": [
         "vertices",
         "compressed_buffer"
        ]
       },
       {
        "data": "eNoDAAAAAAE=",
        "encoding": "base64",
        "path": [
         "indices",
         "compressed_buffer"
        ]
       }
      ],
      "model_module": "k3d",
      "model_module_version": "2.6.9",
      "model_name": "ObjectModel",
      "state": {
       "_view_count": null,
       "_view_module": null,
       "_view_module_version": "",
       "_view_name": null,
       "attribute": {
        "compressed_buffer": {},
        "dtype": "float32",
        "shape": [
         0
        ]
       },
       "color": 255,
       "color_map": {
        "compressed_buffer": {},
        "dtype": "float32",
        "shape": [
         28
        ]
       },
       "color_range": [],
       "compression_level": 0,
       "flat_shading": true,
       "id": 140183449176656,
       "indices": {
        "compressed_buffer": {},
        "dtype": "uint32",
        "shape": [
         0
        ]
       },
       "model_matrix": {
        "compressed_buffer": {},
        "dtype": "float32",
        "shape": [
         4,
         4
        ]
       },
       "name": null,
       "opacity": 1,
       "type": "Mesh",
       "vertices": {
        "compressed_buffer": {},
        "dtype": "float32",
        "shape": [
         0
        ]
       },
       "visible": true,
       "wireframe": false
      }
     }
    },
    "version_major": 2,
    "version_minor": 0
   }
  }
 },
 "nbformat": 4,
 "nbformat_minor": 2
}
