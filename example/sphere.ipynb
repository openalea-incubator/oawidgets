{
 "cells": [
  {
   "cell_type": "markdown",
   "metadata": {},
   "source": [
    "# Sphere"
   ]
  },
  {
   "cell_type": "code",
   "execution_count": null,
   "metadata": {},
   "outputs": [],
   "source": [
    "import k3d\n",
    "plot = k3d.plot()"
   ]
  },
  {
   "cell_type": "code",
   "execution_count": null,
   "metadata": {},
   "outputs": [],
   "source": [
    "from openalea.plantgl.all import *\n",
    "s=Sphere(radius=2)"
   ]
  },
  {
   "cell_type": "code",
   "execution_count": null,
   "metadata": {
    "scrolled": true
   },
   "outputs": [],
   "source": [
    "import oawidgets\n",
    "from oawidgets.plantgl import PlantGL\n",
    "PlantGL(s)"
   ]
  },
  {
   "cell_type": "code",
   "execution_count": null,
   "metadata": {},
   "outputs": [],
   "source": [
    "scene = Scene()\n",
    "scene.add(Sphere())\n",
    "b = Box()\n",
    "tbox = Shape(Translated((1,0,0), b))\n",
    "tbox.appearance.ambient=Color3(30,70,12)\n",
    "scene.add(tbox)"
   ]
  },
  {
   "cell_type": "code",
   "execution_count": null,
   "metadata": {},
   "outputs": [],
   "source": [
    "mesh=PlantGL(scene)"
   ]
  },
  {
   "cell_type": "code",
   "execution_count": null,
   "metadata": {},
   "outputs": [],
   "source": [
    "mesh"
   ]
  },
  {
   "cell_type": "code",
   "execution_count": null,
   "metadata": {},
   "outputs": [],
   "source": []
  },
  {
   "cell_type": "code",
   "execution_count": null,
   "metadata": {},
   "outputs": [],
   "source": []
  }
 ],
 "metadata": {
  "kernelspec": {
   "display_name": "Python 3 (ipykernel)",
   "language": "python",
   "name": "python3"
  },
  "language_info": {
   "codemirror_mode": {
    "name": "ipython",
    "version": 3
   },
   "file_extension": ".py",
   "mimetype": "text/x-python",
   "name": "python",
   "nbconvert_exporter": "python",
   "pygments_lexer": "ipython3",
   "version": "3.9.16"
  },
  "widgets": {
   "application/vnd.jupyter.widget-state+json": {
    "state": {
     "01745f4e677948d7b5eb51d49b3b9ab7": {
      "buffers": [
       {
        "data": "eNoDAAAAAAE=",
        "encoding": "base64",
        "path": [
         "attribute",
         "compressed_buffer"
        ]
       },
       {
        "data": "eNpNkrGKAjEQhrc4BK/fN9BybaxlBHsfwcbaarE8EKzEwkZ8A7HQVHLt/dZXH/oClsJyCGIjmD8k+gdCspOZj4+ZzaueZX4NphdcP77D3Z/w3+GeVz34o5vFJXGTfMvfHPubf4ZNZpZNjJvMcWdj3GSyJtVL3CRfOXYbzXZ8J/O3euxiPYbnpuM7meWi7ZKrxE3ylUM2xBPiCfGEeEI8IZ6JE2puo7qL/fSuXy7207uuXeznoVzsXep7jJvkKyfxIZ4QT4gnxBPiCfEMs/1v9AvWkXkqf4pUvzzeC8b4ttrWWnQlU+Im+cpJ84LMHTJ3yNwhc4fMHTL31z8Y10Hu3Se77SfB",
        "encoding": "base64",
        "path": [
         "vertices",
         "compressed_buffer"
        ]
       },
       {
        "data": "eNpjYGiwZ8AAxIsBAF7EAv0=",
        "encoding": "base64",
        "path": [
         "model_matrix",
         "compressed_buffer"
        ]
       },
       {
        "data": "eNoDAAAAAAE=",
        "encoding": "base64",
        "path": [
         "color_map",
         "compressed_buffer"
        ]
       },
       {
        "data": "eNpNlMdOA0EUBNc54ogjjjjiiDP8/48xLWqkXumpqjWH7tMmSZL8hCuEy4d7C/cbLpX8fwVcLIZLk6OLpXAZcnSxHC5Lji5WwuXI0cUqG3LmVTYV2Fkjv7OzyFsNF+v0F83FBv0lc7FJf9lcbNFfMRfbbKiat9lUY2eH/MHOOm8dXOzSXzcXe/Q3zMU+/U1zcUB/y1wcsqFtPmRTh50j8ic7u7yNcHFMf9dcnNDfMxen9PfNxRn9A3Nxzoah+ZxNI3YuyF/sHPO2wMUl/WNzcUX/xFxc0z81Fzf0z8zFLRvm5ls2Ldi5I3+zc8nbDhf39C/NxQP9K3PxSP/aXDzRvzEXz2zYmp/ZtGPnhfxi5563Cy5e6d+bizf6D+binf6jufig/2QuPtlwNn+y6cLOhJxn55W3BE/4H93I0VP8j+7k6Gn+Rw9y9Az/oyc5epb/0YscPcemP+tRJek=",
        "encoding": "base64",
        "path": [
         "indices",
         "compressed_buffer"
        ]
       }
      ],
      "model_module": "k3d",
      "model_module_version": "2.6.9",
      "model_name": "ObjectModel",
      "state": {
       "_view_count": null,
       "_view_module": null,
       "_view_module_version": "",
       "_view_name": null,
       "attribute": {
        "compressed_buffer": {},
        "dtype": "float32",
        "shape": [
         0
        ]
       },
       "color": 255,
       "color_map": {
        "compressed_buffer": {},
        "dtype": "float32",
        "shape": [
         0
        ]
       },
       "color_range": [],
       "compression_level": 0,
       "flat_shading": true,
       "id": 139777860403344,
       "indices": {
        "compressed_buffer": {},
        "dtype": "uint32",
        "shape": [
         112,
         3
        ]
       },
       "model_matrix": {
        "compressed_buffer": {},
        "dtype": "float32",
        "shape": [
         4,
         4
        ]
       },
       "name": null,
       "opacity": 1,
       "type": "Mesh",
       "vertices": {
        "compressed_buffer": {},
        "dtype": "float32",
        "shape": [
         58,
         3
        ]
       },
       "visible": true,
       "wireframe": false
      }
     },
     "087fb554b85b4040a6f73b5a7bd28d35": {
      "model_module": "@jupyter-widgets/base",
      "model_module_version": "1.1.0",
      "model_name": "LayoutModel",
      "state": {}
     },
     "09ff04922d83470484817f09db250a57": {
      "buffers": [
       {
        "data": "eNoDAAAAAAE=",
        "encoding": "base64",
        "path": [
         "attribute",
         "compressed_buffer"
        ]
       },
       {
        "data": "eNpNkrGKAjEQhrcQ4ez3DbRbK2vHwt5HsLG2WiwFwUosbI57g+OKTSe2v731oS9gKSwiiI1g/pDoHwjJTmY+PmY2r4eW+TVeXnBr7MLdn/Df4Z7XQ/hjkMUlcZN8yz8c+1+3wiYzyxbGTeas/2fcZLIm1UvcJF85dp+uKr6TeaifVazH5NxxfCez3PRccpW4Sb5yyIZ4QjwhnhBPiCfEM3FCzX365WI/vevcxX56118X+7kvN1uX+h7jJvnKSXyIJ8QT4gnxhHhCPMNsr+1RwToyTyWKVP99fBSM8e2nanbpSqbETfKVk+YFmTtk7pC5Q+YOmTtk7u9/MK693Acv7SsnJg==",
        "encoding": "base64",
        "path": [
         "vertices",
         "compressed_buffer"
        ]
       },
       {
        "data": "eNpjYGiwZ8AAxIsBAF7EAv0=",
        "encoding": "base64",
        "path": [
         "model_matrix",
         "compressed_buffer"
        ]
       },
       {
        "data": "eNoDAAAAAAE=",
        "encoding": "base64",
        "path": [
         "color_map",
         "compressed_buffer"
        ]
       },
       {
        "data": "eNpNlMdOA0EUBNc54ogjjjjiiDP8/48xLWqkXumpqjWH7tMmSZL8hCuEy4d7C/cbLpX8fwVcLIZLk6OLpXAZcnSxHC5Lji5WwuXI0cUqG3LmVTYV2Fkjv7OzyFsNF+v0F83FBv0lc7FJf9lcbNFfMRfbbKiat9lUY2eH/MHOOm8dXOzSXzcXe/Q3zMU+/U1zcUB/y1wcsqFtPmRTh50j8ic7u7yNcHFMf9dcnNDfMxen9PfNxRn9A3Nxzoah+ZxNI3YuyF/sHPO2wMUl/WNzcUX/xFxc0z81Fzf0z8zFLRvm5ls2Ldi5I3+zc8nbDhf39C/NxQP9K3PxSP/aXDzRvzEXz2zYmp/ZtGPnhfxi5563Cy5e6d+bizf6D+binf6jufig/2QuPtlwNn+y6cLOhJxn55W3BE/4H93I0VP8j+7k6Gn+Rw9y9Az/oyc5epb/0YscPcemP+tRJek=",
        "encoding": "base64",
        "path": [
         "indices",
         "compressed_buffer"
        ]
       }
      ],
      "model_module": "k3d",
      "model_module_version": "2.6.9",
      "model_name": "ObjectModel",
      "state": {
       "_view_count": null,
       "_view_module": null,
       "_view_module_version": "",
       "_view_name": null,
       "attribute": {
        "compressed_buffer": {},
        "dtype": "float32",
        "shape": [
         0
        ]
       },
       "color": 255,
       "color_map": {
        "compressed_buffer": {},
        "dtype": "float32",
        "shape": [
         0
        ]
       },
       "color_range": [],
       "compression_level": 0,
       "flat_shading": true,
       "id": 139777860403728,
       "indices": {
        "compressed_buffer": {},
        "dtype": "uint32",
        "shape": [
         112,
         3
        ]
       },
       "model_matrix": {
        "compressed_buffer": {},
        "dtype": "float32",
        "shape": [
         4,
         4
        ]
       },
       "name": null,
       "opacity": 1,
       "type": "Mesh",
       "vertices": {
        "compressed_buffer": {},
        "dtype": "float32",
        "shape": [
         58,
         3
        ]
       },
       "visible": true,
       "wireframe": false
      }
     },
     "0aa98876b0b245fa8c4ef4c92a67cc51": {
      "buffers": [
       {
        "data": "eNoDAAAAAAE=",
        "encoding": "base64",
        "path": [
         "attribute",
         "compressed_buffer"
        ]
       },
       {
        "data": "eNpNkrGKAjEQhrcQ4ez3DbRbK2vHwt5HsLG2WiwFwUosbI57g+OKTSe2v731oS9gKSwiiI1g/pDoHwjJTmY+PmY2r4eW+TVeXnBr7MLdn/Df4Z7XQ/hjkMUlcZN8yz8c+1+3wiYzyxbGTeas/2fcZLIm1UvcJF85dp+uKr6TeaifVazH5NxxfCez3PRccpW4Sb5yyIZ4QjwhnhBPiCfEM3FCzX365WI/vevcxX56118X+7kvN1uX+h7jJvnKSXyIJ8QT4gnxhHhCPMNsr+1RwToyTyWKVP99fBSM8e2nanbpSqbETfKVk+YFmTtk7pC5Q+YOmTtk7u9/MK693Acv7SsnJg==",
        "encoding": "base64",
        "path": [
         "vertices",
         "compressed_buffer"
        ]
       },
       {
        "data": "eNpjYGiwZ8AAxIsBAF7EAv0=",
        "encoding": "base64",
        "path": [
         "model_matrix",
         "compressed_buffer"
        ]
       },
       {
        "data": "eNoDAAAAAAE=",
        "encoding": "base64",
        "path": [
         "color_map",
         "compressed_buffer"
        ]
       },
       {
        "data": "eNpNlMdOA0EUBNc54ogjjjjiiDP8/48xLWqkXumpqjWH7tMmSZL8hCuEy4d7C/cbLpX8fwVcLIZLk6OLpXAZcnSxHC5Lji5WwuXI0cUqG3LmVTYV2Fkjv7OzyFsNF+v0F83FBv0lc7FJf9lcbNFfMRfbbKiat9lUY2eH/MHOOm8dXOzSXzcXe/Q3zMU+/U1zcUB/y1wcsqFtPmRTh50j8ic7u7yNcHFMf9dcnNDfMxen9PfNxRn9A3Nxzoah+ZxNI3YuyF/sHPO2wMUl/WNzcUX/xFxc0z81Fzf0z8zFLRvm5ls2Ldi5I3+zc8nbDhf39C/NxQP9K3PxSP/aXDzRvzEXz2zYmp/ZtGPnhfxi5563Cy5e6d+bizf6D+binf6jufig/2QuPtlwNn+y6cLOhJxn55W3BE/4H93I0VP8j+7k6Gn+Rw9y9Az/oyc5epb/0YscPcemP+tRJek=",
        "encoding": "base64",
        "path": [
         "indices",
         "compressed_buffer"
        ]
       }
      ],
      "model_module": "k3d",
      "model_module_version": "2.6.9",
      "model_name": "ObjectModel",
      "state": {
       "_view_count": null,
       "_view_module": null,
       "_view_module_version": "",
       "_view_name": null,
       "attribute": {
        "compressed_buffer": {},
        "dtype": "float32",
        "shape": [
         0
        ]
       },
       "color": 255,
       "color_map": {
        "compressed_buffer": {},
        "dtype": "float32",
        "shape": [
         0
        ]
       },
       "color_range": [],
       "compression_level": 0,
       "flat_shading": true,
       "id": 4548979920,
       "indices": {
        "compressed_buffer": {},
        "dtype": "uint32",
        "shape": [
         112,
         3
        ]
       },
       "model_matrix": {
        "compressed_buffer": {},
        "dtype": "float32",
        "shape": [
         4,
         4
        ]
       },
       "name": null,
       "opacity": 1,
       "type": "Mesh",
       "vertices": {
        "compressed_buffer": {},
        "dtype": "float32",
        "shape": [
         58,
         3
        ]
       },
       "visible": true,
       "wireframe": false
      }
     },
     "0c6a90f473e64e4fb8a5c2694c403bce": {
      "buffers": [
       {
        "data": "eNoDAAAAAAE=",
        "encoding": "base64",
        "path": [
         "attribute",
         "compressed_buffer"
        ]
       },
       {
        "data": "eNpjYDhgz8DAsB+K0dlQ/gF0Npo8nA3FcPX2AK4WDOk=",
        "encoding": "base64",
        "path": [
         "vertices",
         "compressed_buffer"
        ]
       },
       {
        "data": "eNpjYGiwZ8AAxIsBAF7EAv0=",
        "encoding": "base64",
        "path": [
         "model_matrix",
         "compressed_buffer"
        ]
       },
       {
        "data": "eNoDAAAAAAE=",
        "encoding": "base64",
        "path": [
         "color_map",
         "compressed_buffer"
        ]
       },
       {
        "data": "eNpNjNEKADAIAq21+v8/bjIfDOIuSAEg3ib+kEdOjpws/cKcvMqFOdnqSPO2rtFdIjMLHKgAfQ==",
        "encoding": "base64",
        "path": [
         "indices",
         "compressed_buffer"
        ]
       }
      ],
      "model_module": "k3d",
      "model_module_version": "2.6.9",
      "model_name": "ObjectModel",
      "state": {
       "_view_count": null,
       "_view_module": null,
       "_view_module_version": "",
       "_view_name": null,
       "attribute": {
        "compressed_buffer": {},
        "dtype": "float32",
        "shape": [
         0
        ]
       },
       "color": 255,
       "color_map": {
        "compressed_buffer": {},
        "dtype": "float32",
        "shape": [
         0
        ]
       },
       "color_range": [],
       "compression_level": 0,
       "flat_shading": true,
       "id": 140499393180496,
       "indices": {
        "compressed_buffer": {},
        "dtype": "uint32",
        "shape": [
         12,
         3
        ]
       },
       "model_matrix": {
        "compressed_buffer": {},
        "dtype": "float32",
        "shape": [
         4,
         4
        ]
       },
       "name": null,
       "opacity": 1,
       "type": "Mesh",
       "vertices": {
        "compressed_buffer": {},
        "dtype": "float32",
        "shape": [
         8,
         3
        ]
       },
       "visible": true,
       "wireframe": false
      }
     },
     "1156d589bb6f4e20a4cdb84a357d77e0": {
      "model_module": "@jupyter-widgets/base",
      "model_module_version": "1.1.0",
      "model_name": "LayoutModel",
      "state": {}
     },
     "12b4589728334eea91ac35d6aa3fcfed": {
      "buffers": [
       {
        "data": "eNoDAAAAAAE=",
        "encoding": "base64",
        "path": [
         "attribute",
         "compressed_buffer"
        ]
       },
       {
        "data": "eNpNkrGKAjEQhrc4BK/fN9BybaxlBHsfwcbaarE8EKzEwkZ8A7HQVHLt/dZXH/oClsJyCGIjmD8k+gdCspOZj4+ZzaueZX4NphdcP77D3Z/w3+GeVz34o5vFJXGTfMvfHPubf4ZNZpZNjJvMcWdj3GSyJtVL3CRfOXYbzXZ8J/O3euxiPYbnpuM7meWi7ZKrxE3ylUM2xBPiCfGEeEI8IZ6JE2puo7qL/fSuXy7207uuXeznoVzsXep7jJvkKyfxIZ4QT4gnxBPiCfEMs/1v9AvWkXkqf4pUvzzeC8b4ttrWWnQlU+Im+cpJ84LMHTJ3yNwhc4fMHTL31z8Y10Hu3Se77SfB",
        "encoding": "base64",
        "path": [
         "vertices",
         "compressed_buffer"
        ]
       },
       {
        "data": "eNpjYGiwZ8AAxIsBAF7EAv0=",
        "encoding": "base64",
        "path": [
         "model_matrix",
         "compressed_buffer"
        ]
       },
       {
        "data": "eNoDAAAAAAE=",
        "encoding": "base64",
        "path": [
         "color_map",
         "compressed_buffer"
        ]
       },
       {
        "data": "eNpNlMdOA0EUBNc54ogjjjjiiDP8/48xLWqkXumpqjWH7tMmSZL8hCuEy4d7C/cbLpX8fwVcLIZLk6OLpXAZcnSxHC5Lji5WwuXI0cUqG3LmVTYV2Fkjv7OzyFsNF+v0F83FBv0lc7FJf9lcbNFfMRfbbKiat9lUY2eH/MHOOm8dXOzSXzcXe/Q3zMU+/U1zcUB/y1wcsqFtPmRTh50j8ic7u7yNcHFMf9dcnNDfMxen9PfNxRn9A3Nxzoah+ZxNI3YuyF/sHPO2wMUl/WNzcUX/xFxc0z81Fzf0z8zFLRvm5ls2Ldi5I3+zc8nbDhf39C/NxQP9K3PxSP/aXDzRvzEXz2zYmp/ZtGPnhfxi5563Cy5e6d+bizf6D+binf6jufig/2QuPtlwNn+y6cLOhJxn55W3BE/4H93I0VP8j+7k6Gn+Rw9y9Az/oyc5epb/0YscPcemP+tRJek=",
        "encoding": "base64",
        "path": [
         "indices",
         "compressed_buffer"
        ]
       }
      ],
      "model_module": "k3d",
      "model_module_version": "2.6.9",
      "model_name": "ObjectModel",
      "state": {
       "_view_count": null,
       "_view_module": null,
       "_view_module_version": "",
       "_view_name": null,
       "attribute": {
        "compressed_buffer": {},
        "dtype": "float32",
        "shape": [
         0
        ]
       },
       "color": 255,
       "color_map": {
        "compressed_buffer": {},
        "dtype": "float32",
        "shape": [
         0
        ]
       },
       "color_range": [],
       "compression_level": 0,
       "flat_shading": true,
       "id": 139656766553424,
       "indices": {
        "compressed_buffer": {},
        "dtype": "uint32",
        "shape": [
         112,
         3
        ]
       },
       "model_matrix": {
        "compressed_buffer": {},
        "dtype": "float32",
        "shape": [
         4,
         4
        ]
       },
       "name": null,
       "opacity": 1,
       "type": "Mesh",
       "vertices": {
        "compressed_buffer": {},
        "dtype": "float32",
        "shape": [
         58,
         3
        ]
       },
       "visible": true,
       "wireframe": false
      }
     },
     "12e89dabb268470b97bd53f4c1e41929": {
      "model_module": "@jupyter-widgets/base",
      "model_module_version": "1.1.0",
      "model_name": "LayoutModel",
      "state": {}
     },
     "170f903da5de45e8bc374a99c5878e78": {
      "model_module": "k3d",
      "model_module_version": "2.6.9",
      "model_name": "PlotModel",
      "state": {
       "_backend_version": "2.6.9",
       "_dom_classes": [],
       "_view_count": null,
       "antialias": 3,
       "axes": [
        "x",
        "y",
        "z"
       ],
       "background_color": 16777215,
       "camera": [
        5.755765314519715,
        -8.633647971779574,
        0.5755765314519765,
        0,
        0,
        0,
        0,
        0,
        1
       ],
       "camera_auto_fit": true,
       "camera_no_pan": false,
       "camera_no_rotate": false,
       "camera_no_zoom": false,
       "clipping_planes": [],
       "colorbar_object_id": -1,
       "fps_meter": false,
       "grid": [
        -1,
        -1,
        -1,
        1,
        1,
        1
       ],
       "grid_auto_fit": true,
       "grid_visible": true,
       "height": 512,
       "layout": "IPY_MODEL_e00441e2f32645e8bb9fb42112cd134f",
       "lighting": 1,
       "menu_visibility": true,
       "object_ids": [
        139657573303120
       ],
       "rendering_steps": 1,
       "screenshot": "",
       "screenshot_scale": 2,
       "time": 0,
       "voxel_paint_color": 0
      }
     },
     "1ebafde1cf19410583e664a5a91b7d25": {
      "buffers": [
       {
        "data": "eNoDAAAAAAE=",
        "encoding": "base64",
        "path": [
         "attribute",
         "compressed_buffer"
        ]
       },
       {
        "data": "eNoDAAAAAAE=",
        "encoding": "base64",
        "path": [
         "color_map",
         "compressed_buffer"
        ]
       },
       {
        "data": "eNpjYGiwZ8AAxIsBAF7EAv0=",
        "encoding": "base64",
        "path": [
         "model_matrix",
         "compressed_buffer"
        ]
       },
       {
        "data": "eNpNkrGKAjEQhrc4BK/fN9BybaxlBHsfwcbaarE8EKzEwkZ8A7HQVHLt/dZXH/oClsJyCGIjmD8k+gdCspOZj4+ZzaueZX4NphdcP77D3Z/w3+GeVz34o5vFJXGTfMvfHPubf4ZNZpZNjJvMcWdj3GSyJtVL3CRfOXYbzXZ8J/O3euxiPYbnpuM7meWi7ZKrxE3ylUM2xBPiCfGEeEI8IZ6JE2puo7qL/fSuXy7207uuXeznoVzsXep7jJvkKyfxIZ4QT4gnxBPiCfEMs/1v9AvWkXkqf4pUvzzeC8b4ttrWWnQlU+Im+cpJ84LMHTJ3yNwhc4fMHTL31z8Y10Hu3Se77SfB",
        "encoding": "base64",
        "path": [
         "vertices",
         "compressed_buffer"
        ]
       },
       {
        "data": "eNpNlMdOA0EUBNc54ogjjjjiiDP8/48xLWqkXumpqjWH7tMmSZL8hCuEy4d7C/cbLpX8fwVcLIZLk6OLpXAZcnSxHC5Lji5WwuXI0cUqG3LmVTYV2Fkjv7OzyFsNF+v0F83FBv0lc7FJf9lcbNFfMRfbbKiat9lUY2eH/MHOOm8dXOzSXzcXe/Q3zMU+/U1zcUB/y1wcsqFtPmRTh50j8ic7u7yNcHFMf9dcnNDfMxen9PfNxRn9A3Nxzoah+ZxNI3YuyF/sHPO2wMUl/WNzcUX/xFxc0z81Fzf0z8zFLRvm5ls2Ldi5I3+zc8nbDhf39C/NxQP9K3PxSP/aXDzRvzEXz2zYmp/ZtGPnhfxi5563Cy5e6d+bizf6D+binf6jufig/2QuPtlwNn+y6cLOhJxn55W3BE/4H93I0VP8j+7k6Gn+Rw9y9Az/oyc5epb/0YscPcemP+tRJek=",
        "encoding": "base64",
        "path": [
         "indices",
         "compressed_buffer"
        ]
       }
      ],
      "model_module": "k3d",
      "model_module_version": "2.6.9",
      "model_name": "ObjectModel",
      "state": {
       "_view_count": null,
       "_view_module": null,
       "_view_module_version": "",
       "_view_name": null,
       "attribute": {
        "compressed_buffer": {},
        "dtype": "float32",
        "shape": [
         0
        ]
       },
       "color": 255,
       "color_map": {
        "compressed_buffer": {},
        "dtype": "float32",
        "shape": [
         0
        ]
       },
       "color_range": [],
       "compression_level": 0,
       "flat_shading": true,
       "id": 139970099745424,
       "indices": {
        "compressed_buffer": {},
        "dtype": "uint32",
        "shape": [
         112,
         3
        ]
       },
       "model_matrix": {
        "compressed_buffer": {},
        "dtype": "float32",
        "shape": [
         4,
         4
        ]
       },
       "name": null,
       "opacity": 1,
       "type": "Mesh",
       "vertices": {
        "compressed_buffer": {},
        "dtype": "float32",
        "shape": [
         58,
         3
        ]
       },
       "visible": true,
       "wireframe": false
      }
     },
     "21bc4be50352468baf451a0996a08807": {
      "buffers": [
       {
        "data": "eNoDAAAAAAE=",
        "encoding": "base64",
        "path": [
         "attribute",
         "compressed_buffer"
        ]
       },
       {
        "data": "eNoDAAAAAAE=",
        "encoding": "base64",
        "path": [
         "color_map",
         "compressed_buffer"
        ]
       },
       {
        "data": "eNpjYGiwZ8AAxIsBAF7EAv0=",
        "encoding": "base64",
        "path": [
         "model_matrix",
         "compressed_buffer"
        ]
       },
       {
        "data": "eNpjYDhgz8DAsB+K0dlQ/gF0Npo8nA3FcPX2AK4WDOk=",
        "encoding": "base64",
        "path": [
         "vertices",
         "compressed_buffer"
        ]
       },
       {
        "data": "eNpNjNEKADAIAq21+v8/bjIfDOIuSAEg3ib+kEdOjpws/cKcvMqFOdnqSPO2rtFdIjMLHKgAfQ==",
        "encoding": "base64",
        "path": [
         "indices",
         "compressed_buffer"
        ]
       }
      ],
      "model_module": "k3d",
      "model_module_version": "2.6.9",
      "model_name": "ObjectModel",
      "state": {
       "_view_count": null,
       "_view_module": null,
       "_view_module_version": "",
       "_view_name": null,
       "attribute": {
        "compressed_buffer": {},
        "dtype": "float32",
        "shape": [
         0
        ]
       },
       "color": 255,
       "color_map": {
        "compressed_buffer": {},
        "dtype": "float32",
        "shape": [
         0
        ]
       },
       "color_range": [],
       "compression_level": 0,
       "flat_shading": true,
       "id": 139970099748176,
       "indices": {
        "compressed_buffer": {},
        "dtype": "uint32",
        "shape": [
         12,
         3
        ]
       },
       "model_matrix": {
        "compressed_buffer": {},
        "dtype": "float32",
        "shape": [
         4,
         4
        ]
       },
       "name": null,
       "opacity": 1,
       "type": "Mesh",
       "vertices": {
        "compressed_buffer": {},
        "dtype": "float32",
        "shape": [
         8,
         3
        ]
       },
       "visible": true,
       "wireframe": false
      }
     },
     "26cb2a42a04e4b7490a98ec3dd789257": {
      "model_module": "@jupyter-widgets/base",
      "model_module_version": "1.1.0",
      "model_name": "LayoutModel",
      "state": {}
     },
     "30c6fad10f934615bf4da470ae75ff10": {
      "buffers": [
       {
        "data": "eNoDAAAAAAE=",
        "encoding": "base64",
        "path": [
         "attribute",
         "compressed_buffer"
        ]
       },
       {
        "data": "eNoDAAAAAAE=",
        "encoding": "base64",
        "path": [
         "color_map",
         "compressed_buffer"
        ]
       },
       {
        "data": "eNpjYGiwZ8AAxIsBAF7EAv0=",
        "encoding": "base64",
        "path": [
         "model_matrix",
         "compressed_buffer"
        ]
       },
       {
        "data": "eNpNkrGKAjEQhrcQ4ez3DbRbK2vHwt5HsLG2WiwFwUosbI57g+OKTSe2v731oS9gKSwiiI1g/pDoHwjJTmY+PmY2r4eW+TVeXnBr7MLdn/Df4Z7XQ/hjkMUlcZN8yz8c+1+3wiYzyxbGTeas/2fcZLIm1UvcJF85dp+uKr6TeaifVazH5NxxfCez3PRccpW4Sb5yyIZ4QjwhnhBPiCfEM3FCzX365WI/vevcxX56118X+7kvN1uX+h7jJvnKSXyIJ8QT4gnxhHhCPMNsr+1RwToyTyWKVP99fBSM8e2nanbpSqbETfKVk+YFmTtk7pC5Q+YOmTtk7u9/MK693Acv7SsnJg==",
        "encoding": "base64",
        "path": [
         "vertices",
         "compressed_buffer"
        ]
       },
       {
        "data": "eNpNlMdOA0EUBNc54ogjjjjiiDP8/48xLWqkXumpqjWH7tMmSZL8hCuEy4d7C/cbLpX8fwVcLIZLk6OLpXAZcnSxHC5Lji5WwuXI0cUqG3LmVTYV2Fkjv7OzyFsNF+v0F83FBv0lc7FJf9lcbNFfMRfbbKiat9lUY2eH/MHOOm8dXOzSXzcXe/Q3zMU+/U1zcUB/y1wcsqFtPmRTh50j8ic7u7yNcHFMf9dcnNDfMxen9PfNxRn9A3Nxzoah+ZxNI3YuyF/sHPO2wMUl/WNzcUX/xFxc0z81Fzf0z8zFLRvm5ls2Ldi5I3+zc8nbDhf39C/NxQP9K3PxSP/aXDzRvzEXz2zYmp/ZtGPnhfxi5563Cy5e6d+bizf6D+binf6jufig/2QuPtlwNn+y6cLOhJxn55W3BE/4H93I0VP8j+7k6Gn+Rw9y9Az/oyc5epb/0YscPcemP+tRJek=",
        "encoding": "base64",
        "path": [
         "indices",
         "compressed_buffer"
        ]
       }
      ],
      "model_module": "k3d",
      "model_module_version": "2.6.9",
      "model_name": "ObjectModel",
      "state": {
       "_view_count": null,
       "_view_module": null,
       "_view_module_version": "",
       "_view_name": null,
       "attribute": {
        "compressed_buffer": {},
        "dtype": "float32",
        "shape": [
         0
        ]
       },
       "color": 255,
       "color_map": {
        "compressed_buffer": {},
        "dtype": "float32",
        "shape": [
         0
        ]
       },
       "color_range": [],
       "compression_level": 0,
       "flat_shading": true,
       "id": 139970099802832,
       "indices": {
        "compressed_buffer": {},
        "dtype": "uint32",
        "shape": [
         112,
         3
        ]
       },
       "model_matrix": {
        "compressed_buffer": {},
        "dtype": "float32",
        "shape": [
         4,
         4
        ]
       },
       "name": null,
       "opacity": 1,
       "type": "Mesh",
       "vertices": {
        "compressed_buffer": {},
        "dtype": "float32",
        "shape": [
         58,
         3
        ]
       },
       "visible": true,
       "wireframe": false
      }
     },
     "3158e3d50b3b443085d29d099df44625": {
      "model_module": "k3d",
      "model_module_version": "2.6.9",
      "model_name": "PlotModel",
      "state": {
       "_backend_version": "2.6.9",
       "_dom_classes": [],
       "_view_count": null,
       "antialias": 3,
       "axes": [
        "x",
        "y",
        "z"
       ],
       "background_color": 16777215,
       "camera": [
        4.5,
        4.5,
        4.5,
        0,
        0,
        0,
        1,
        0,
        0
       ],
       "camera_auto_fit": true,
       "camera_no_pan": false,
       "camera_no_rotate": false,
       "camera_no_zoom": false,
       "clipping_planes": [],
       "colorbar_object_id": -1,
       "fps_meter": false,
       "grid": [
        -1,
        -1,
        -1,
        1,
        1,
        1
       ],
       "grid_auto_fit": true,
       "grid_visible": true,
       "height": 512,
       "layout": "IPY_MODEL_acd8a8bac0e74811a0a9268b6aa558ec",
       "lighting": 1,
       "menu_visibility": true,
       "object_ids": [],
       "rendering_steps": 1,
       "screenshot": "",
       "screenshot_scale": 2,
       "time": 0,
       "voxel_paint_color": 0
      }
     },
     "344a02a6b5d0401fb7adea0bbc31d677": {
      "buffers": [
       {
        "data": "eNoDAAAAAAE=",
        "encoding": "base64",
        "path": [
         "attribute",
         "compressed_buffer"
        ]
       },
       {
        "data": "eNpjYDhgz8DAsB+K0dlQ/gF0Npo8nA3FcPX2AK4WDOk=",
        "encoding": "base64",
        "path": [
         "vertices",
         "compressed_buffer"
        ]
       },
       {
        "data": "eNpjYGiwZ8AAxIsBAF7EAv0=",
        "encoding": "base64",
        "path": [
         "model_matrix",
         "compressed_buffer"
        ]
       },
       {
        "data": "eNoDAAAAAAE=",
        "encoding": "base64",
        "path": [
         "color_map",
         "compressed_buffer"
        ]
       },
       {
        "data": "eNpNjNEKADAIAq21+v8/bjIfDOIuSAEg3ib+kEdOjpws/cKcvMqFOdnqSPO2rtFdIjMLHKgAfQ==",
        "encoding": "base64",
        "path": [
         "indices",
         "compressed_buffer"
        ]
       }
      ],
      "model_module": "k3d",
      "model_module_version": "2.6.9",
      "model_name": "ObjectModel",
      "state": {
       "_view_count": null,
       "_view_module": null,
       "_view_module_version": "",
       "_view_name": null,
       "attribute": {
        "compressed_buffer": {},
        "dtype": "float32",
        "shape": [
         0
        ]
       },
       "color": 255,
       "color_map": {
        "compressed_buffer": {},
        "dtype": "float32",
        "shape": [
         0
        ]
       },
       "color_range": [],
       "compression_level": 0,
       "flat_shading": true,
       "id": 4548980432,
       "indices": {
        "compressed_buffer": {},
        "dtype": "uint32",
        "shape": [
         12,
         3
        ]
       },
       "model_matrix": {
        "compressed_buffer": {},
        "dtype": "float32",
        "shape": [
         4,
         4
        ]
       },
       "name": null,
       "opacity": 1,
       "type": "Mesh",
       "vertices": {
        "compressed_buffer": {},
        "dtype": "float32",
        "shape": [
         8,
         3
        ]
       },
       "visible": true,
       "wireframe": false
      }
     },
     "3aae7245d52044e58c21975c8ad2135b": {
      "buffers": [
       {
        "data": "eNoDAAAAAAE=",
        "encoding": "base64",
        "path": [
         "attribute",
         "compressed_buffer"
        ]
       },
       {
        "data": "eNpNkrGKAjEQhrc4BK/fN9BybaxlBHsfwcbaarE8EKzEwkZ8A7HQVHLt/dZXH/oClsJyCGIjmD8k+gdCspOZj4+ZzaueZX4NphdcP77D3Z/w3+GeVz34o5vFJXGTfMvfHPubf4ZNZpZNjJvMcWdj3GSyJtVL3CRfOXYbzXZ8J/O3euxiPYbnpuM7meWi7ZKrxE3ylUM2xBPiCfGEeEI8IZ6JE2puo7qL/fSuXy7207uuXeznoVzsXep7jJvkKyfxIZ4QT4gnxBPiCfEMs/1v9AvWkXkqf4pUvzzeC8b4ttrWWnQlU+Im+cpJ84LMHTJ3yNwhc4fMHTL31z8Y10Hu3Se77SfB",
        "encoding": "base64",
        "path": [
         "vertices",
         "compressed_buffer"
        ]
       },
       {
        "data": "eNpjYGiwZ8AAxIsBAF7EAv0=",
        "encoding": "base64",
        "path": [
         "model_matrix",
         "compressed_buffer"
        ]
       },
       {
        "data": "eNoDAAAAAAE=",
        "encoding": "base64",
        "path": [
         "color_map",
         "compressed_buffer"
        ]
       },
       {
        "data": "eNpNlMdOA0EUBNc54ogjjjjiiDP8/48xLWqkXumpqjWH7tMmSZL8hCuEy4d7C/cbLpX8fwVcLIZLk6OLpXAZcnSxHC5Lji5WwuXI0cUqG3LmVTYV2Fkjv7OzyFsNF+v0F83FBv0lc7FJf9lcbNFfMRfbbKiat9lUY2eH/MHOOm8dXOzSXzcXe/Q3zMU+/U1zcUB/y1wcsqFtPmRTh50j8ic7u7yNcHFMf9dcnNDfMxen9PfNxRn9A3Nxzoah+ZxNI3YuyF/sHPO2wMUl/WNzcUX/xFxc0z81Fzf0z8zFLRvm5ls2Ldi5I3+zc8nbDhf39C/NxQP9K3PxSP/aXDzRvzEXz2zYmp/ZtGPnhfxi5563Cy5e6d+bizf6D+binf6jufig/2QuPtlwNn+y6cLOhJxn55W3BE/4H93I0VP8j+7k6Gn+Rw9y9Az/oyc5epb/0YscPcemP+tRJek=",
        "encoding": "base64",
        "path": [
         "indices",
         "compressed_buffer"
        ]
       }
      ],
      "model_module": "k3d",
      "model_module_version": "2.6.9",
      "model_name": "ObjectModel",
      "state": {
       "_view_count": null,
       "_view_module": null,
       "_view_module_version": "",
       "_view_name": null,
       "attribute": {
        "compressed_buffer": {},
        "dtype": "float32",
        "shape": [
         0
        ]
       },
       "color": 255,
       "color_map": {
        "compressed_buffer": {},
        "dtype": "float32",
        "shape": [
         0
        ]
       },
       "color_range": [],
       "compression_level": 0,
       "flat_shading": true,
       "id": 140499393182928,
       "indices": {
        "compressed_buffer": {},
        "dtype": "uint32",
        "shape": [
         112,
         3
        ]
       },
       "model_matrix": {
        "compressed_buffer": {},
        "dtype": "float32",
        "shape": [
         4,
         4
        ]
       },
       "name": null,
       "opacity": 1,
       "type": "Mesh",
       "vertices": {
        "compressed_buffer": {},
        "dtype": "float32",
        "shape": [
         58,
         3
        ]
       },
       "visible": true,
       "wireframe": false
      }
     },
     "3ab5a6ba507f4a2c95382b95f0e2bf07": {
      "model_module": "@jupyter-widgets/base",
      "model_module_version": "1.1.0",
      "model_name": "LayoutModel",
      "state": {}
     },
     "3da88d41ce834fbfbc350377b4c11472": {
      "model_module": "k3d",
      "model_module_version": "2.6.9",
      "model_name": "PlotModel",
      "state": {
       "_backend_version": "2.6.9",
       "_dom_classes": [],
       "_view_count": null,
       "antialias": 3,
       "axes": [
        "x",
        "y",
        "z"
       ],
       "background_color": 16777215,
       "camera": [
        1.4389413286299289,
        -2.1584119929448935,
        0.14389413286299413,
        0,
        0,
        0,
        0,
        0,
        1
       ],
       "camera_auto_fit": true,
       "camera_no_pan": false,
       "camera_no_rotate": false,
       "camera_no_zoom": false,
       "clipping_planes": [],
       "colorbar_object_id": -1,
       "fps_meter": false,
       "grid": [
        -1,
        -1,
        -1,
        1,
        1,
        1
       ],
       "grid_auto_fit": true,
       "grid_visible": true,
       "height": 512,
       "layout": "IPY_MODEL_f88f0227c35c4941896e034eef01d887",
       "lighting": 1,
       "menu_visibility": true,
       "object_ids": [
        140637027160592,
        140637027114256
       ],
       "rendering_steps": 1,
       "screenshot": "",
       "screenshot_scale": 2,
       "time": 0,
       "voxel_paint_color": 0
      }
     },
     "48b05a80f77b46d19b2441cdcb61c80c": {
      "model_module": "@jupyter-widgets/base",
      "model_module_version": "1.1.0",
      "model_name": "LayoutModel",
      "state": {}
     },
     "4d1986730a87471394e65bfe4ec9ad41": {
      "buffers": [
       {
        "data": "eNoDAAAAAAE=",
        "encoding": "base64",
        "path": [
         "attribute",
         "compressed_buffer"
        ]
       },
       {
        "data": "eNpjYDhgz8DAsB+K0dlQ/gF0Npo8nA3FcPX2AK4WDOk=",
        "encoding": "base64",
        "path": [
         "vertices",
         "compressed_buffer"
        ]
       },
       {
        "data": "eNpjYGiwZ8AAxIsBAF7EAv0=",
        "encoding": "base64",
        "path": [
         "model_matrix",
         "compressed_buffer"
        ]
       },
       {
        "data": "eNoDAAAAAAE=",
        "encoding": "base64",
        "path": [
         "color_map",
         "compressed_buffer"
        ]
       },
       {
        "data": "eNpNjNEKADAIAq21+v8/bjIfDOIuSAEg3ib+kEdOjpws/cKcvMqFOdnqSPO2rtFdIjMLHKgAfQ==",
        "encoding": "base64",
        "path": [
         "indices",
         "compressed_buffer"
        ]
       }
      ],
      "model_module": "k3d",
      "model_module_version": "2.6.9",
      "model_name": "ObjectModel",
      "state": {
       "_view_count": null,
       "_view_module": null,
       "_view_module_version": "",
       "_view_name": null,
       "attribute": {
        "compressed_buffer": {},
        "dtype": "float32",
        "shape": [
         0
        ]
       },
       "color": 255,
       "color_map": {
        "compressed_buffer": {},
        "dtype": "float32",
        "shape": [
         0
        ]
       },
       "color_range": [],
       "compression_level": 0,
       "flat_shading": true,
       "id": 139777860404304,
       "indices": {
        "compressed_buffer": {},
        "dtype": "uint32",
        "shape": [
         12,
         3
        ]
       },
       "model_matrix": {
        "compressed_buffer": {},
        "dtype": "float32",
        "shape": [
         4,
         4
        ]
       },
       "name": null,
       "opacity": 1,
       "type": "Mesh",
       "vertices": {
        "compressed_buffer": {},
        "dtype": "float32",
        "shape": [
         8,
         3
        ]
       },
       "visible": true,
       "wireframe": false
      }
     },
     "564b20b7a3b142e58edf0f4076d8bb04": {
      "model_module": "k3d",
      "model_module_version": "2.6.9",
      "model_name": "PlotModel",
      "state": {
       "_backend_version": "2.6.9",
       "_dom_classes": [],
       "_view_count": null,
       "antialias": 3,
       "axes": [
        "x",
        "y",
        "z"
       ],
       "background_color": 16777215,
       "camera": [
        4.5,
        4.5,
        4.5,
        0,
        0,
        0,
        1,
        0,
        0
       ],
       "camera_auto_fit": true,
       "camera_no_pan": false,
       "camera_no_rotate": false,
       "camera_no_zoom": false,
       "clipping_planes": [],
       "colorbar_object_id": -1,
       "fps_meter": false,
       "grid": [
        -1,
        -1,
        -1,
        1,
        1,
        1
       ],
       "grid_auto_fit": true,
       "grid_visible": true,
       "height": 512,
       "layout": "IPY_MODEL_26cb2a42a04e4b7490a98ec3dd789257",
       "lighting": 1,
       "menu_visibility": true,
       "object_ids": [],
       "rendering_steps": 1,
       "screenshot": "",
       "screenshot_scale": 2,
       "time": 0,
       "voxel_paint_color": 0
      }
     },
     "58c2806824864f6d8a7e0c01ae8a461c": {
      "model_module": "@jupyter-widgets/base",
      "model_module_version": "1.1.0",
      "model_name": "LayoutModel",
      "state": {}
     },
     "630b918a377c484890c37a2fe6a3bce5": {
      "model_module": "@jupyter-widgets/base",
      "model_module_version": "1.1.0",
      "model_name": "LayoutModel",
      "state": {}
     },
     "6b29594f6fcb4486b72016313cb3c09a": {
      "model_module": "@jupyter-widgets/base",
      "model_module_version": "1.1.0",
      "model_name": "LayoutModel",
      "state": {}
     },
     "6d57b3a5b5784c62a939a5387e3a01f4": {
      "buffers": [
       {
        "data": "eNoDAAAAAAE=",
        "encoding": "base64",
        "path": [
         "attribute",
         "compressed_buffer"
        ]
       },
       {
        "data": "eNpNkrGKAjEQhrc4BK/fN9BybaxlBHsfwcbaarE8EKzEwkZ8A7HQVHLt/dZXH/oClsJyCGIjmD8k+gdCspOZj4+ZzaueZX4NphdcP77D3Z/w3+GeVz34o5vFJXGTfMvfHPubf4ZNZpZNjJvMcWdj3GSyJtVL3CRfOXYbzXZ8J/O3euxiPYbnpuM7meWi7ZKrxE3ylUM2xBPiCfGEeEI8IZ6JE2puo7qL/fSuXy7207uuXeznoVzsXep7jJvkKyfxIZ4QT4gnxBPiCfEMs/1v9AvWkXkqf4pUvzzeC8b4ttrWWnQlU+Im+cpJ84LMHTJ3yNwhc4fMHTL31z8Y10Hu3Se77SfB",
        "encoding": "base64",
        "path": [
         "vertices",
         "compressed_buffer"
        ]
       },
       {
        "data": "eNpjYGiwZ8AAxIsBAF7EAv0=",
        "encoding": "base64",
        "path": [
         "model_matrix",
         "compressed_buffer"
        ]
       },
       {
        "data": "eNoDAAAAAAE=",
        "encoding": "base64",
        "path": [
         "color_map",
         "compressed_buffer"
        ]
       },
       {
        "data": "eNpNlMdOA0EUBNc54ogjjjjiiDP8/48xLWqkXumpqjWH7tMmSZL8hCuEy4d7C/cbLpX8fwVcLIZLk6OLpXAZcnSxHC5Lji5WwuXI0cUqG3LmVTYV2Fkjv7OzyFsNF+v0F83FBv0lc7FJf9lcbNFfMRfbbKiat9lUY2eH/MHOOm8dXOzSXzcXe/Q3zMU+/U1zcUB/y1wcsqFtPmRTh50j8ic7u7yNcHFMf9dcnNDfMxen9PfNxRn9A3Nxzoah+ZxNI3YuyF/sHPO2wMUl/WNzcUX/xFxc0z81Fzf0z8zFLRvm5ls2Ldi5I3+zc8nbDhf39C/NxQP9K3PxSP/aXDzRvzEXz2zYmp/ZtGPnhfxi5563Cy5e6d+bizf6D+binf6jufig/2QuPtlwNn+y6cLOhJxn55W3BE/4H93I0VP8j+7k6Gn+Rw9y9Az/oyc5epb/0YscPcemP+tRJek=",
        "encoding": "base64",
        "path": [
         "indices",
         "compressed_buffer"
        ]
       }
      ],
      "model_module": "k3d",
      "model_module_version": "2.6.9",
      "model_name": "ObjectModel",
      "state": {
       "_view_count": null,
       "_view_module": null,
       "_view_module_version": "",
       "_view_name": null,
       "attribute": {
        "compressed_buffer": {},
        "dtype": "float32",
        "shape": [
         0
        ]
       },
       "color": 255,
       "color_map": {
        "compressed_buffer": {},
        "dtype": "float32",
        "shape": [
         0
        ]
       },
       "color_range": [],
       "compression_level": 0,
       "flat_shading": true,
       "id": 140633105221776,
       "indices": {
        "compressed_buffer": {},
        "dtype": "uint32",
        "shape": [
         112,
         3
        ]
       },
       "model_matrix": {
        "compressed_buffer": {},
        "dtype": "float32",
        "shape": [
         4,
         4
        ]
       },
       "name": null,
       "opacity": 1,
       "type": "Mesh",
       "vertices": {
        "compressed_buffer": {},
        "dtype": "float32",
        "shape": [
         58,
         3
        ]
       },
       "visible": true,
       "wireframe": false
      }
     },
     "6db91a7d85424db999340388d419b119": {
      "buffers": [
       {
        "data": "eNoDAAAAAAE=",
        "encoding": "base64",
        "path": [
         "attribute",
         "compressed_buffer"
        ]
       },
       {
        "data": "eNpjYDhgz8DAsB+K0dlQ/gF0Npo8nA3FcPX2AK4WDOk=",
        "encoding": "base64",
        "path": [
         "vertices",
         "compressed_buffer"
        ]
       },
       {
        "data": "eNpjYGiwZ8AAxIsBAF7EAv0=",
        "encoding": "base64",
        "path": [
         "model_matrix",
         "compressed_buffer"
        ]
       },
       {
        "data": "eNoDAAAAAAE=",
        "encoding": "base64",
        "path": [
         "color_map",
         "compressed_buffer"
        ]
       },
       {
        "data": "eNpNjNEKADAIAq21+v8/bjIfDOIuSAEg3ib+kEdOjpws/cKcvMqFOdnqSPO2rtFdIjMLHKgAfQ==",
        "encoding": "base64",
        "path": [
         "indices",
         "compressed_buffer"
        ]
       }
      ],
      "model_module": "k3d",
      "model_module_version": "2.6.9",
      "model_name": "ObjectModel",
      "state": {
       "_view_count": null,
       "_view_module": null,
       "_view_module_version": "",
       "_view_name": null,
       "attribute": {
        "compressed_buffer": {},
        "dtype": "float32",
        "shape": [
         0
        ]
       },
       "color": 255,
       "color_map": {
        "compressed_buffer": {},
        "dtype": "float32",
        "shape": [
         0
        ]
       },
       "color_range": [],
       "compression_level": 0,
       "flat_shading": true,
       "id": 140633105219856,
       "indices": {
        "compressed_buffer": {},
        "dtype": "uint32",
        "shape": [
         12,
         3
        ]
       },
       "model_matrix": {
        "compressed_buffer": {},
        "dtype": "float32",
        "shape": [
         4,
         4
        ]
       },
       "name": null,
       "opacity": 1,
       "type": "Mesh",
       "vertices": {
        "compressed_buffer": {},
        "dtype": "float32",
        "shape": [
         8,
         3
        ]
       },
       "visible": true,
       "wireframe": false
      }
     },
     "71a6b85d1f06495a845f36962d3c306a": {
      "buffers": [
       {
        "data": "eNoDAAAAAAE=",
        "encoding": "base64",
        "path": [
         "attribute",
         "compressed_buffer"
        ]
       },
       {
        "data": "eNpNkrGKAjEQhrc4BK/fN9BybaxlBHsfwcbaarE8EKzEwkZ8A7HQVHLt/dZXH/oClsJyCGIjmD8k+gdCspOZj4+ZzaueZX4NphdcP77D3Z/w3+GeVz34o5vFJXGTfMvfHPubf4ZNZpZNjJvMcWdj3GSyJtVL3CRfOXYbzXZ8J/O3euxiPYbnpuM7meWi7ZKrxE3ylUM2xBPiCfGEeEI8IZ6JE2puo7qL/fSuXy7207uuXeznoVzsXep7jJvkKyfxIZ4QT4gnxBPiCfEMs/1v9AvWkXkqf4pUvzzeC8b4ttrWWnQlU+Im+cpJ84LMHTJ3yNwhc4fMHTL31z8Y10Hu3Se77SfB",
        "encoding": "base64",
        "path": [
         "vertices",
         "compressed_buffer"
        ]
       },
       {
        "data": "eNpjYGiwZ8AAxIsBAF7EAv0=",
        "encoding": "base64",
        "path": [
         "model_matrix",
         "compressed_buffer"
        ]
       },
       {
        "data": "eNoDAAAAAAE=",
        "encoding": "base64",
        "path": [
         "color_map",
         "compressed_buffer"
        ]
       },
       {
        "data": "eNpNlMdOA0EUBNc54ogjjjjiiDP8/48xLWqkXumpqjWH7tMmSZL8hCuEy4d7C/cbLpX8fwVcLIZLk6OLpXAZcnSxHC5Lji5WwuXI0cUqG3LmVTYV2Fkjv7OzyFsNF+v0F83FBv0lc7FJf9lcbNFfMRfbbKiat9lUY2eH/MHOOm8dXOzSXzcXe/Q3zMU+/U1zcUB/y1wcsqFtPmRTh50j8ic7u7yNcHFMf9dcnNDfMxen9PfNxRn9A3Nxzoah+ZxNI3YuyF/sHPO2wMUl/WNzcUX/xFxc0z81Fzf0z8zFLRvm5ls2Ldi5I3+zc8nbDhf39C/NxQP9K3PxSP/aXDzRvzEXz2zYmp/ZtGPnhfxi5563Cy5e6d+bizf6D+binf6jufig/2QuPtlwNn+y6cLOhJxn55W3BE/4H93I0VP8j+7k6Gn+Rw9y9Az/oyc5epb/0YscPcemP+tRJek=",
        "encoding": "base64",
        "path": [
         "indices",
         "compressed_buffer"
        ]
       }
      ],
      "model_module": "k3d",
      "model_module_version": "2.6.9",
      "model_name": "ObjectModel",
      "state": {
       "_view_count": null,
       "_view_module": null,
       "_view_module_version": "",
       "_view_name": null,
       "attribute": {
        "compressed_buffer": {},
        "dtype": "float32",
        "shape": [
         0
        ]
       },
       "color": 255,
       "color_map": {
        "compressed_buffer": {},
        "dtype": "float32",
        "shape": [
         0
        ]
       },
       "color_range": [],
       "compression_level": 0,
       "flat_shading": true,
       "id": 4548977936,
       "indices": {
        "compressed_buffer": {},
        "dtype": "uint32",
        "shape": [
         112,
         3
        ]
       },
       "model_matrix": {
        "compressed_buffer": {},
        "dtype": "float32",
        "shape": [
         4,
         4
        ]
       },
       "name": null,
       "opacity": 1,
       "type": "Mesh",
       "vertices": {
        "compressed_buffer": {},
        "dtype": "float32",
        "shape": [
         58,
         3
        ]
       },
       "visible": true,
       "wireframe": false
      }
     },
     "73f8469ecff34809b8072e412d2c4f74": {
      "model_module": "@jupyter-widgets/base",
      "model_module_version": "1.1.0",
      "model_name": "LayoutModel",
      "state": {}
     },
     "764e0bfb7fca4c56ab361f35a4b1a803": {
      "buffers": [
       {
        "data": "eNoDAAAAAAE=",
        "encoding": "base64",
        "path": [
         "attribute",
         "compressed_buffer"
        ]
       },
       {
        "data": "eNpNkrGKAjEQhrcQ4ez3DbRbK2vHwt5HsLG2WiwFwUosbI57g+OKTSe2v731oS9gKSwiiI1g/pDoHwjJTmY+PmY2r4eW+TVeXnBr7MLdn/Df4Z7XQ/hjkMUlcZN8yz8c+1+3wiYzyxbGTeas/2fcZLIm1UvcJF85dp+uKr6TeaifVazH5NxxfCez3PRccpW4Sb5yyIZ4QjwhnhBPiCfEM3FCzX365WI/vevcxX56118X+7kvN1uX+h7jJvnKSXyIJ8QT4gnxhHhCPMNsr+1RwToyTyWKVP99fBSM8e2nanbpSqbETfKVk+YFmTtk7pC5Q+YOmTtk7u9/MK693Acv7SsnJg==",
        "encoding": "base64",
        "path": [
         "vertices",
         "compressed_buffer"
        ]
       },
       {
        "data": "eNpjYGiwZ8AAxIsBAF7EAv0=",
        "encoding": "base64",
        "path": [
         "model_matrix",
         "compressed_buffer"
        ]
       },
       {
        "data": "eNoDAAAAAAE=",
        "encoding": "base64",
        "path": [
         "color_map",
         "compressed_buffer"
        ]
       },
       {
        "data": "eNpNlMdOA0EUBNc54ogjjjjiiDP8/48xLWqkXumpqjWH7tMmSZL8hCuEy4d7C/cbLpX8fwVcLIZLk6OLpXAZcnSxHC5Lji5WwuXI0cUqG3LmVTYV2Fkjv7OzyFsNF+v0F83FBv0lc7FJf9lcbNFfMRfbbKiat9lUY2eH/MHOOm8dXOzSXzcXe/Q3zMU+/U1zcUB/y1wcsqFtPmRTh50j8ic7u7yNcHFMf9dcnNDfMxen9PfNxRn9A3Nxzoah+ZxNI3YuyF/sHPO2wMUl/WNzcUX/xFxc0z81Fzf0z8zFLRvm5ls2Ldi5I3+zc8nbDhf39C/NxQP9K3PxSP/aXDzRvzEXz2zYmp/ZtGPnhfxi5563Cy5e6d+bizf6D+binf6jufig/2QuPtlwNn+y6cLOhJxn55W3BE/4H93I0VP8j+7k6Gn+Rw9y9Az/oyc5epb/0YscPcemP+tRJek=",
        "encoding": "base64",
        "path": [
         "indices",
         "compressed_buffer"
        ]
       }
      ],
      "model_module": "k3d",
      "model_module_version": "2.6.9",
      "model_name": "ObjectModel",
      "state": {
       "_view_count": null,
       "_view_module": null,
       "_view_module_version": "",
       "_view_name": null,
       "attribute": {
        "compressed_buffer": {},
        "dtype": "float32",
        "shape": [
         0
        ]
       },
       "color": 255,
       "color_map": {
        "compressed_buffer": {},
        "dtype": "float32",
        "shape": [
         0
        ]
       },
       "color_range": [],
       "compression_level": 0,
       "flat_shading": true,
       "id": 140499393214480,
       "indices": {
        "compressed_buffer": {},
        "dtype": "uint32",
        "shape": [
         112,
         3
        ]
       },
       "model_matrix": {
        "compressed_buffer": {},
        "dtype": "float32",
        "shape": [
         4,
         4
        ]
       },
       "name": null,
       "opacity": 1,
       "type": "Mesh",
       "vertices": {
        "compressed_buffer": {},
        "dtype": "float32",
        "shape": [
         58,
         3
        ]
       },
       "visible": true,
       "wireframe": false
      }
     },
     "7b303e0d50404e63995220f401500ebd": {
      "buffers": [
       {
        "data": "eNoDAAAAAAE=",
        "encoding": "base64",
        "path": [
         "attribute",
         "compressed_buffer"
        ]
       },
       {
        "data": "eNpjYDhgz8DAsB+K0dlQ/gF0Npo8nA3FcPX2AK4WDOk=",
        "encoding": "base64",
        "path": [
         "vertices",
         "compressed_buffer"
        ]
       },
       {
        "data": "eNpjYGiwZ8AAxIsBAF7EAv0=",
        "encoding": "base64",
        "path": [
         "model_matrix",
         "compressed_buffer"
        ]
       },
       {
        "data": "eNoDAAAAAAE=",
        "encoding": "base64",
        "path": [
         "color_map",
         "compressed_buffer"
        ]
       },
       {
        "data": "eNpNjNEKADAIAq21+v8/bjIfDOIuSAEg3ib+kEdOjpws/cKcvMqFOdnqSPO2rtFdIjMLHKgAfQ==",
        "encoding": "base64",
        "path": [
         "indices",
         "compressed_buffer"
        ]
       }
      ],
      "model_module": "k3d",
      "model_module_version": "2.6.9",
      "model_name": "ObjectModel",
      "state": {
       "_view_count": null,
       "_view_module": null,
       "_view_module_version": "",
       "_view_name": null,
       "attribute": {
        "compressed_buffer": {},
        "dtype": "float32",
        "shape": [
         0
        ]
       },
       "color": 255,
       "color_map": {
        "compressed_buffer": {},
        "dtype": "float32",
        "shape": [
         0
        ]
       },
       "color_range": [],
       "compression_level": 0,
       "flat_shading": true,
       "id": 139656766572944,
       "indices": {
        "compressed_buffer": {},
        "dtype": "uint32",
        "shape": [
         12,
         3
        ]
       },
       "model_matrix": {
        "compressed_buffer": {},
        "dtype": "float32",
        "shape": [
         4,
         4
        ]
       },
       "name": null,
       "opacity": 1,
       "type": "Mesh",
       "vertices": {
        "compressed_buffer": {},
        "dtype": "float32",
        "shape": [
         8,
         3
        ]
       },
       "visible": true,
       "wireframe": false
      }
     },
     "7ef1924f959440029f84f9ff66893bb4": {
      "model_module": "@jupyter-widgets/base",
      "model_module_version": "1.1.0",
      "model_name": "LayoutModel",
      "state": {}
     },
     "805ec4573dd741be9e042637d49dd2e7": {
      "model_module": "k3d",
      "model_module_version": "2.6.9",
      "model_name": "PlotModel",
      "state": {
       "_backend_version": "2.6.9",
       "_dom_classes": [],
       "_view_count": null,
       "antialias": 3,
       "axes": [
        "x",
        "y",
        "z"
       ],
       "background_color": 16777215,
       "camera": [
        2.5349703424076058,
        -3.052455513611408,
        0.20349703424076393,
        0.5,
        0,
        0,
        0,
        0,
        1
       ],
       "camera_auto_fit": true,
       "camera_no_pan": false,
       "camera_no_rotate": false,
       "camera_no_zoom": false,
       "clipping_planes": [],
       "colorbar_object_id": -1,
       "fps_meter": false,
       "grid": [
        -1,
        -1,
        -1,
        1,
        1,
        1
       ],
       "grid_auto_fit": true,
       "grid_visible": true,
       "height": 512,
       "layout": "IPY_MODEL_6b29594f6fcb4486b72016313cb3c09a",
       "lighting": 1,
       "menu_visibility": true,
       "object_ids": [
        139656766571600,
        139656766572944
       ],
       "rendering_steps": 1,
       "screenshot": "",
       "screenshot_scale": 2,
       "time": 0,
       "voxel_paint_color": 0
      }
     },
     "84f3ada994d24594a45d3c8db24a89bc": {
      "model_module": "@jupyter-widgets/base",
      "model_module_version": "1.1.0",
      "model_name": "LayoutModel",
      "state": {}
     },
     "8fe3d455825345a18ef2a2ae61afc6a2": {
      "model_module": "k3d",
      "model_module_version": "2.6.9",
      "model_name": "PlotModel",
      "state": {
       "_backend_version": "2.6.9",
       "_dom_classes": [],
       "_view_count": null,
       "antialias": 3,
       "axes": [
        "x",
        "y",
        "z"
       ],
       "background_color": 16777215,
       "camera": [
        4.5,
        4.5,
        4.5,
        0,
        0,
        0,
        1,
        0,
        0
       ],
       "camera_auto_fit": true,
       "camera_no_pan": false,
       "camera_no_rotate": false,
       "camera_no_zoom": false,
       "clipping_planes": [],
       "colorbar_object_id": -1,
       "fps_meter": false,
       "grid": [
        -1,
        -1,
        -1,
        1,
        1,
        1
       ],
       "grid_auto_fit": true,
       "grid_visible": true,
       "height": 512,
       "layout": "IPY_MODEL_12e89dabb268470b97bd53f4c1e41929",
       "lighting": 1,
       "menu_visibility": true,
       "object_ids": [],
       "rendering_steps": 1,
       "screenshot": "",
       "screenshot_scale": 2,
       "time": 0,
       "voxel_paint_color": 0
      }
     },
     "915a0c1b77ed47528a7bf353751fbf5b": {
      "model_module": "@jupyter-widgets/base",
      "model_module_version": "1.1.0",
      "model_name": "LayoutModel",
      "state": {}
     },
     "917da8581ba04b09b76801e973033ac5": {
      "model_module": "k3d",
      "model_module_version": "2.6.9",
      "model_name": "PlotModel",
      "state": {
       "_backend_version": "2.6.9",
       "_dom_classes": [],
       "_view_count": null,
       "antialias": 3,
       "axes": [
        "x",
        "y",
        "z"
       ],
       "background_color": 16777215,
       "camera": [
        5.755765314519715,
        -8.633647971779574,
        0.5755765314519765,
        0,
        0,
        0,
        0,
        0,
        1
       ],
       "camera_auto_fit": true,
       "camera_no_pan": false,
       "camera_no_rotate": false,
       "camera_no_zoom": false,
       "clipping_planes": [],
       "colorbar_object_id": -1,
       "fps_meter": false,
       "grid": [
        -1,
        -1,
        -1,
        1,
        1,
        1
       ],
       "grid_auto_fit": true,
       "grid_visible": true,
       "height": 512,
       "layout": "IPY_MODEL_630b918a377c484890c37a2fe6a3bce5",
       "lighting": 1,
       "menu_visibility": true,
       "object_ids": [
        140637027113104
       ],
       "rendering_steps": 1,
       "screenshot": "",
       "screenshot_scale": 2,
       "time": 0,
       "voxel_paint_color": 0
      }
     },
     "9db1ea012d124413b66edf9342ad8965": {
      "model_module": "@jupyter-widgets/base",
      "model_module_version": "1.1.0",
      "model_name": "LayoutModel",
      "state": {}
     },
     "9dc017170ab54322ace3665adcf9246e": {
      "buffers": [
       {
        "data": "eNoDAAAAAAE=",
        "encoding": "base64",
        "path": [
         "attribute",
         "compressed_buffer"
        ]
       },
       {
        "data": "eNpNkrGKAjEQhrcQ4ez3DbRbK2vHwt5HsLG2WiwFwUosbI57g+OKTSe2v731oS9gKSwiiI1g/pDoHwjJTmY+PmY2r4eW+TVeXnBr7MLdn/Df4Z7XQ/hjkMUlcZN8yz8c+1+3wiYzyxbGTeas/2fcZLIm1UvcJF85dp+uKr6TeaifVazH5NxxfCez3PRccpW4Sb5yyIZ4QjwhnhBPiCfEM3FCzX365WI/vevcxX56118X+7kvN1uX+h7jJvnKSXyIJ8QT4gnxhHhCPMNsr+1RwToyTyWKVP99fBSM8e2nanbpSqbETfKVk+YFmTtk7pC5Q+YOmTtk7u9/MK693Acv7SsnJg==",
        "encoding": "base64",
        "path": [
         "vertices",
         "compressed_buffer"
        ]
       },
       {
        "data": "eNpjYGiwZ8AAxIsBAF7EAv0=",
        "encoding": "base64",
        "path": [
         "model_matrix",
         "compressed_buffer"
        ]
       },
       {
        "data": "eNoDAAAAAAE=",
        "encoding": "base64",
        "path": [
         "color_map",
         "compressed_buffer"
        ]
       },
       {
        "data": "eNpNlMdOA0EUBNc54ogjjjjiiDP8/48xLWqkXumpqjWH7tMmSZL8hCuEy4d7C/cbLpX8fwVcLIZLk6OLpXAZcnSxHC5Lji5WwuXI0cUqG3LmVTYV2Fkjv7OzyFsNF+v0F83FBv0lc7FJf9lcbNFfMRfbbKiat9lUY2eH/MHOOm8dXOzSXzcXe/Q3zMU+/U1zcUB/y1wcsqFtPmRTh50j8ic7u7yNcHFMf9dcnNDfMxen9PfNxRn9A3Nxzoah+ZxNI3YuyF/sHPO2wMUl/WNzcUX/xFxc0z81Fzf0z8zFLRvm5ls2Ldi5I3+zc8nbDhf39C/NxQP9K3PxSP/aXDzRvzEXz2zYmp/ZtGPnhfxi5563Cy5e6d+bizf6D+binf6jufig/2QuPtlwNn+y6cLOhJxn55W3BE/4H93I0VP8j+7k6Gn+Rw9y9Az/oyc5epb/0YscPcemP+tRJek=",
        "encoding": "base64",
        "path": [
         "indices",
         "compressed_buffer"
        ]
       }
      ],
      "model_module": "k3d",
      "model_module_version": "2.6.9",
      "model_name": "ObjectModel",
      "state": {
       "_view_count": null,
       "_view_module": null,
       "_view_module_version": "",
       "_view_name": null,
       "attribute": {
        "compressed_buffer": {},
        "dtype": "float32",
        "shape": [
         0
        ]
       },
       "color": 255,
       "color_map": {
        "compressed_buffer": {},
        "dtype": "float32",
        "shape": [
         0
        ]
       },
       "color_range": [],
       "compression_level": 0,
       "flat_shading": true,
       "id": 140633105302544,
       "indices": {
        "compressed_buffer": {},
        "dtype": "uint32",
        "shape": [
         112,
         3
        ]
       },
       "model_matrix": {
        "compressed_buffer": {},
        "dtype": "float32",
        "shape": [
         4,
         4
        ]
       },
       "name": null,
       "opacity": 1,
       "type": "Mesh",
       "vertices": {
        "compressed_buffer": {},
        "dtype": "float32",
        "shape": [
         58,
         3
        ]
       },
       "visible": true,
       "wireframe": false
      }
     },
     "9de32461eaf54a47847447a4e9d50177": {
      "model_module": "k3d",
      "model_module_version": "2.6.9",
      "model_name": "PlotModel",
      "state": {
       "_backend_version": "2.6.9",
       "_dom_classes": [],
       "_view_count": null,
       "antialias": 3,
       "axes": [
        "x",
        "y",
        "z"
       ],
       "background_color": 16777215,
       "camera": [
        5.755765314519715,
        -8.633647971779574,
        0.5755765314519765,
        0,
        0,
        0,
        0,
        0,
        1
       ],
       "camera_auto_fit": true,
       "camera_no_pan": false,
       "camera_no_rotate": false,
       "camera_no_zoom": false,
       "clipping_planes": [],
       "colorbar_object_id": -1,
       "fps_meter": false,
       "grid": [
        -1,
        -1,
        -1,
        1,
        1,
        1
       ],
       "grid_auto_fit": true,
       "grid_visible": true,
       "height": 512,
       "layout": "IPY_MODEL_ce3b89c3c204486f8a91272a8c189276",
       "lighting": 1,
       "menu_visibility": true,
       "object_ids": [
        140633105221776
       ],
       "rendering_steps": 1,
       "screenshot": "",
       "screenshot_scale": 2,
       "time": 0,
       "voxel_paint_color": 0
      }
     },
     "9ea6d75be6a745cea401723a75abcba5": {
      "model_module": "@jupyter-widgets/base",
      "model_module_version": "1.1.0",
      "model_name": "LayoutModel",
      "state": {}
     },
     "9f648b526be74d639c03e6f983c29141": {
      "model_module": "k3d",
      "model_module_version": "2.6.9",
      "model_name": "PlotModel",
      "state": {
       "_backend_version": "2.6.9",
       "_dom_classes": [],
       "_view_count": null,
       "antialias": 3,
       "axes": [
        "x",
        "y",
        "z"
       ],
       "background_color": 16777215,
       "camera": [
        4.5,
        4.5,
        4.5,
        0,
        0,
        0,
        1,
        0,
        0
       ],
       "camera_auto_fit": true,
       "camera_no_pan": false,
       "camera_no_rotate": false,
       "camera_no_zoom": false,
       "clipping_planes": [],
       "colorbar_object_id": -1,
       "fps_meter": false,
       "grid": [
        -1,
        -1,
        -1,
        1,
        1,
        1
       ],
       "grid_auto_fit": true,
       "grid_visible": true,
       "height": 512,
       "layout": "IPY_MODEL_1156d589bb6f4e20a4cdb84a357d77e0",
       "lighting": 1,
       "menu_visibility": true,
       "object_ids": [],
       "rendering_steps": 1,
       "screenshot": "",
       "screenshot_scale": 2,
       "time": 0,
       "voxel_paint_color": 0
      }
     },
     "a4258d61e9e2436789ef9424ab52a861": {
      "model_module": "k3d",
      "model_module_version": "2.6.9",
      "model_name": "PlotModel",
      "state": {
       "_backend_version": "2.6.9",
       "_dom_classes": [],
       "_view_count": null,
       "antialias": 3,
       "axes": [
        "x",
        "y",
        "z"
       ],
       "background_color": 16777215,
       "camera": [
        4.5,
        4.5,
        4.5,
        0,
        0,
        0,
        1,
        0,
        0
       ],
       "camera_auto_fit": true,
       "camera_no_pan": false,
       "camera_no_rotate": false,
       "camera_no_zoom": false,
       "clipping_planes": [],
       "colorbar_object_id": -1,
       "fps_meter": false,
       "grid": [
        -1,
        -1,
        -1,
        1,
        1,
        1
       ],
       "grid_auto_fit": true,
       "grid_visible": true,
       "height": 512,
       "layout": "IPY_MODEL_48b05a80f77b46d19b2441cdcb61c80c",
       "lighting": 1,
       "menu_visibility": true,
       "object_ids": [],
       "rendering_steps": 1,
       "screenshot": "",
       "screenshot_scale": 2,
       "time": 0,
       "voxel_paint_color": 0
      }
     },
     "acd8a8bac0e74811a0a9268b6aa558ec": {
      "model_module": "@jupyter-widgets/base",
      "model_module_version": "1.1.0",
      "model_name": "LayoutModel",
      "state": {}
     },
     "b0ac30c693df471da90d628dbfb02d19": {
      "model_module": "k3d",
      "model_module_version": "2.6.9",
      "model_name": "PlotModel",
      "state": {
       "_backend_version": "2.6.9",
       "_dom_classes": [],
       "_view_count": null,
       "antialias": 3,
       "axes": [
        "x",
        "y",
        "z"
       ],
       "background_color": 16777215,
       "camera": [
        5.755765314519715,
        -8.633647971779574,
        0.5755765314519765,
        0,
        0,
        0,
        0,
        0,
        1
       ],
       "camera_auto_fit": true,
       "camera_no_pan": false,
       "camera_no_rotate": false,
       "camera_no_zoom": false,
       "clipping_planes": [],
       "colorbar_object_id": -1,
       "fps_meter": false,
       "grid": [
        -1,
        -1,
        -1,
        1,
        1,
        1
       ],
       "grid_auto_fit": true,
       "grid_visible": true,
       "height": 512,
       "layout": "IPY_MODEL_58c2806824864f6d8a7e0c01ae8a461c",
       "lighting": 1,
       "menu_visibility": true,
       "object_ids": [
        4548977936
       ],
       "rendering_steps": 1,
       "screenshot": "",
       "screenshot_scale": 2,
       "time": 0,
       "voxel_paint_color": 0
      }
     },
     "b45824a2337f43cda30120d57b5b354f": {
      "model_module": "@jupyter-widgets/base",
      "model_module_version": "1.1.0",
      "model_name": "LayoutModel",
      "state": {}
     },
     "b5b71612a28f4895a949f59044c30b16": {
      "model_module": "k3d",
      "model_module_version": "2.6.9",
      "model_name": "PlotModel",
      "state": {
       "_backend_version": "2.6.9",
       "_dom_classes": [],
       "_view_count": null,
       "antialias": 3,
       "axes": [
        "x",
        "y",
        "z"
       ],
       "background_color": 16777215,
       "camera": [
        2.5349703424076058,
        -3.052455513611408,
        0.20349703424076393,
        0.5,
        0,
        0,
        0,
        0,
        1
       ],
       "camera_auto_fit": true,
       "camera_no_pan": false,
       "camera_no_rotate": false,
       "camera_no_zoom": false,
       "clipping_planes": [],
       "colorbar_object_id": -1,
       "fps_meter": false,
       "grid": [
        -1,
        -1,
        -1,
        1,
        1,
        1
       ],
       "grid_auto_fit": true,
       "grid_visible": true,
       "height": 512,
       "layout": "IPY_MODEL_915a0c1b77ed47528a7bf353751fbf5b",
       "lighting": 1,
       "menu_visibility": true,
       "object_ids": [
        140633105302544,
        140633105219856
       ],
       "rendering_steps": 1,
       "screenshot": "",
       "screenshot_scale": 2,
       "time": 0,
       "voxel_paint_color": 0
      }
     },
     "b6b99c42dd3a42098f417f629bd0973a": {
      "buffers": [
       {
        "data": "eNoDAAAAAAE=",
        "encoding": "base64",
        "path": [
         "attribute",
         "compressed_buffer"
        ]
       },
       {
        "data": "eNpNkrGKAjEQhrc4BK/fN9BybaxlBHsfwcbaarE8EKzEwkZ8A7HQVHLt/dZXH/oClsJyCGIjmD8k+gdCspOZj4+ZzaueZX4NphdcP77D3Z/w3+GeVz34o5vFJXGTfMvfHPubf4ZNZpZNjJvMcWdj3GSyJtVL3CRfOXYbzXZ8J/O3euxiPYbnpuM7meWi7ZKrxE3ylUM2xBPiCfGEeEI8IZ6JE2puo7qL/fSuXy7207uuXeznoVzsXep7jJvkKyfxIZ4QT4gnxBPiCfEMs/1v9AvWkXkqf4pUvzzeC8b4ttrWWnQlU+Im+cpJ84LMHTJ3yNwhc4fMHTL31z8Y10Hu3Se77SfB",
        "encoding": "base64",
        "path": [
         "vertices",
         "compressed_buffer"
        ]
       },
       {
        "data": "eNpjYGiwZ8AAxIsBAF7EAv0=",
        "encoding": "base64",
        "path": [
         "model_matrix",
         "compressed_buffer"
        ]
       },
       {
        "data": "eNoDAAAAAAE=",
        "encoding": "base64",
        "path": [
         "color_map",
         "compressed_buffer"
        ]
       },
       {
        "data": "eNpNlMdOA0EUBNc54ogjjjjiiDP8/48xLWqkXumpqjWH7tMmSZL8hCuEy4d7C/cbLpX8fwVcLIZLk6OLpXAZcnSxHC5Lji5WwuXI0cUqG3LmVTYV2Fkjv7OzyFsNF+v0F83FBv0lc7FJf9lcbNFfMRfbbKiat9lUY2eH/MHOOm8dXOzSXzcXe/Q3zMU+/U1zcUB/y1wcsqFtPmRTh50j8ic7u7yNcHFMf9dcnNDfMxen9PfNxRn9A3Nxzoah+ZxNI3YuyF/sHPO2wMUl/WNzcUX/xFxc0z81Fzf0z8zFLRvm5ls2Ldi5I3+zc8nbDhf39C/NxQP9K3PxSP/aXDzRvzEXz2zYmp/ZtGPnhfxi5563Cy5e6d+bizf6D+binf6jufig/2QuPtlwNn+y6cLOhJxn55W3BE/4H93I0VP8j+7k6Gn+Rw9y9Az/oyc5epb/0YscPcemP+tRJek=",
        "encoding": "base64",
        "path": [
         "indices",
         "compressed_buffer"
        ]
       }
      ],
      "model_module": "k3d",
      "model_module_version": "2.6.9",
      "model_name": "ObjectModel",
      "state": {
       "_view_count": null,
       "_view_module": null,
       "_view_module_version": "",
       "_view_name": null,
       "attribute": {
        "compressed_buffer": {},
        "dtype": "float32",
        "shape": [
         0
        ]
       },
       "color": 255,
       "color_map": {
        "compressed_buffer": {},
        "dtype": "float32",
        "shape": [
         0
        ]
       },
       "color_range": [],
       "compression_level": 0,
       "flat_shading": true,
       "id": 139657573303120,
       "indices": {
        "compressed_buffer": {},
        "dtype": "uint32",
        "shape": [
         112,
         3
        ]
       },
       "model_matrix": {
        "compressed_buffer": {},
        "dtype": "float32",
        "shape": [
         4,
         4
        ]
       },
       "name": null,
       "opacity": 1,
       "type": "Mesh",
       "vertices": {
        "compressed_buffer": {},
        "dtype": "float32",
        "shape": [
         58,
         3
        ]
       },
       "visible": true,
       "wireframe": false
      }
     },
     "bbc088334de34221ab2454c3fdaf2524": {
      "model_module": "k3d",
      "model_module_version": "2.6.9",
      "model_name": "PlotModel",
      "state": {
       "_backend_version": "2.6.9",
       "_dom_classes": [],
       "_view_count": null,
       "antialias": 3,
       "axes": [
        "x",
        "y",
        "z"
       ],
       "background_color": 16777215,
       "camera": [
        5.755765314519715,
        -8.633647971779574,
        0.5755765314519765,
        0,
        0,
        0,
        0,
        0,
        1
       ],
       "camera_auto_fit": true,
       "camera_no_pan": false,
       "camera_no_rotate": false,
       "camera_no_zoom": false,
       "clipping_planes": [],
       "colorbar_object_id": -1,
       "fps_meter": false,
       "grid": [
        -1,
        -1,
        -1,
        1,
        1,
        1
       ],
       "grid_auto_fit": true,
       "grid_visible": true,
       "height": 512,
       "layout": "IPY_MODEL_f7e0880ae52b4a51bea1b0738aa7c37c",
       "lighting": 1,
       "menu_visibility": true,
       "object_ids": [
        139777860403344
       ],
       "rendering_steps": 1,
       "screenshot": "",
       "screenshot_scale": 2,
       "time": 0,
       "voxel_paint_color": 0
      }
     },
     "c0b04c30bdbd4466be353d2b046e4d19": {
      "model_module": "k3d",
      "model_module_version": "2.6.9",
      "model_name": "PlotModel",
      "state": {
       "_backend_version": "2.6.9",
       "_dom_classes": [],
       "_view_count": null,
       "antialias": 3,
       "axes": [
        "x",
        "y",
        "z"
       ],
       "background_color": 16777215,
       "camera": [
        5.755765314519715,
        -8.633647971779574,
        0.5755765314519765,
        0,
        0,
        0,
        0,
        0,
        1
       ],
       "camera_auto_fit": true,
       "camera_no_pan": false,
       "camera_no_rotate": false,
       "camera_no_zoom": false,
       "clipping_planes": [],
       "colorbar_object_id": -1,
       "fps_meter": false,
       "grid": [
        -1,
        -1,
        -1,
        1,
        1,
        1
       ],
       "grid_auto_fit": true,
       "grid_visible": true,
       "height": 512,
       "layout": "IPY_MODEL_f3ea609795614aef9f764176710bf196",
       "lighting": 1,
       "menu_visibility": true,
       "object_ids": [
        139970099745424
       ],
       "rendering_steps": 1,
       "screenshot": "",
       "screenshot_scale": 2,
       "time": 0,
       "voxel_paint_color": 0
      }
     },
     "c1f3295e6c144536a2c594cc933143bb": {
      "model_module": "k3d",
      "model_module_version": "2.6.9",
      "model_name": "PlotModel",
      "state": {
       "_backend_version": "2.6.9",
       "_dom_classes": [],
       "_view_count": null,
       "antialias": 3,
       "axes": [
        "x",
        "y",
        "z"
       ],
       "background_color": 16777215,
       "camera": [
        2.5349703424076058,
        -3.052455513611408,
        0.20349703424076393,
        0.5,
        0,
        0,
        0,
        0,
        1
       ],
       "camera_auto_fit": true,
       "camera_no_pan": false,
       "camera_no_rotate": false,
       "camera_no_zoom": false,
       "clipping_planes": [],
       "colorbar_object_id": -1,
       "fps_meter": false,
       "grid": [
        -1,
        -1,
        -1,
        1,
        1,
        1
       ],
       "grid_auto_fit": true,
       "grid_visible": true,
       "height": 512,
       "layout": "IPY_MODEL_73f8469ecff34809b8072e412d2c4f74",
       "lighting": 1,
       "menu_visibility": true,
       "object_ids": [
        140499393214480,
        140499393180496
       ],
       "rendering_steps": 1,
       "screenshot": "",
       "screenshot_scale": 2,
       "time": 0,
       "voxel_paint_color": 0
      }
     },
     "c1f9c11c4fec47ef968e5b8f071d036e": {
      "model_module": "k3d",
      "model_module_version": "2.6.9",
      "model_name": "PlotModel",
      "state": {
       "_backend_version": "2.6.9",
       "_dom_classes": [],
       "_view_count": null,
       "antialias": 3,
       "axes": [
        "x",
        "y",
        "z"
       ],
       "background_color": 16777215,
       "camera": [
        4.5,
        4.5,
        4.5,
        0,
        0,
        0,
        1,
        0,
        0
       ],
       "camera_auto_fit": true,
       "camera_no_pan": false,
       "camera_no_rotate": false,
       "camera_no_zoom": false,
       "clipping_planes": [],
       "colorbar_object_id": -1,
       "fps_meter": false,
       "grid": [
        -1,
        -1,
        -1,
        1,
        1,
        1
       ],
       "grid_auto_fit": true,
       "grid_visible": true,
       "height": 512,
       "layout": "IPY_MODEL_84f3ada994d24594a45d3c8db24a89bc",
       "lighting": 1,
       "menu_visibility": true,
       "object_ids": [],
       "rendering_steps": 1,
       "screenshot": "",
       "screenshot_scale": 2,
       "time": 0,
       "voxel_paint_color": 0
      }
     },
     "c3e5e46f6eac4266b849ace9cc72565b": {
      "model_module": "k3d",
      "model_module_version": "2.6.9",
      "model_name": "PlotModel",
      "state": {
       "_backend_version": "2.6.9",
       "_dom_classes": [],
       "_view_count": null,
       "antialias": 3,
       "axes": [
        "x",
        "y",
        "z"
       ],
       "background_color": 16777215,
       "camera": [
        5.755765314519715,
        -8.633647971779574,
        0.5755765314519765,
        0,
        0,
        0,
        0,
        0,
        1
       ],
       "camera_auto_fit": true,
       "camera_no_pan": false,
       "camera_no_rotate": false,
       "camera_no_zoom": false,
       "clipping_planes": [],
       "colorbar_object_id": -1,
       "fps_meter": false,
       "grid": [
        -1,
        -1,
        -1,
        1,
        1,
        1
       ],
       "grid_auto_fit": true,
       "grid_visible": true,
       "height": 512,
       "layout": "IPY_MODEL_b45824a2337f43cda30120d57b5b354f",
       "lighting": 1,
       "menu_visibility": true,
       "object_ids": [
        140499393182928
       ],
       "rendering_steps": 1,
       "screenshot": "",
       "screenshot_scale": 2,
       "time": 0,
       "voxel_paint_color": 0
      }
     },
     "cbb0d6fd78d04383bb3ca51d7837339c": {
      "model_module": "k3d",
      "model_module_version": "2.6.9",
      "model_name": "PlotModel",
      "state": {
       "_backend_version": "2.6.9",
       "_dom_classes": [],
       "_view_count": null,
       "antialias": 3,
       "axes": [
        "x",
        "y",
        "z"
       ],
       "background_color": 16777215,
       "camera": [
        4.5,
        4.5,
        4.5,
        0,
        0,
        0,
        1,
        0,
        0
       ],
       "camera_auto_fit": true,
       "camera_no_pan": false,
       "camera_no_rotate": false,
       "camera_no_zoom": false,
       "clipping_planes": [],
       "colorbar_object_id": -1,
       "fps_meter": false,
       "grid": [
        -1,
        -1,
        -1,
        1,
        1,
        1
       ],
       "grid_auto_fit": true,
       "grid_visible": true,
       "height": 512,
       "layout": "IPY_MODEL_9ea6d75be6a745cea401723a75abcba5",
       "lighting": 1,
       "menu_visibility": true,
       "object_ids": [],
       "rendering_steps": 1,
       "screenshot": "",
       "screenshot_scale": 2,
       "time": 0,
       "voxel_paint_color": 0
      }
     },
     "ce3b89c3c204486f8a91272a8c189276": {
      "model_module": "@jupyter-widgets/base",
      "model_module_version": "1.1.0",
      "model_name": "LayoutModel",
      "state": {}
     },
     "d433b50eb63846888bdd07eb5d576857": {
      "buffers": [
       {
        "data": "eNoDAAAAAAE=",
        "encoding": "base64",
        "path": [
         "attribute",
         "compressed_buffer"
        ]
       },
       {
        "data": "eNpjYDhgz8DAsB+K0dlQ/gF0Npo8nA3FcPX2AK4WDOk=",
        "encoding": "base64",
        "path": [
         "vertices",
         "compressed_buffer"
        ]
       },
       {
        "data": "eNpjYGiwZ8AAxIsBAF7EAv0=",
        "encoding": "base64",
        "path": [
         "model_matrix",
         "compressed_buffer"
        ]
       },
       {
        "data": "eNoDAAAAAAE=",
        "encoding": "base64",
        "path": [
         "color_map",
         "compressed_buffer"
        ]
       },
       {
        "data": "eNpNjNEKADAIAq21+v8/bjIfDOIuSAEg3ib+kEdOjpws/cKcvMqFOdnqSPO2rtFdIjMLHKgAfQ==",
        "encoding": "base64",
        "path": [
         "indices",
         "compressed_buffer"
        ]
       }
      ],
      "model_module": "k3d",
      "model_module_version": "2.6.9",
      "model_name": "ObjectModel",
      "state": {
       "_view_count": null,
       "_view_module": null,
       "_view_module_version": "",
       "_view_name": null,
       "attribute": {
        "compressed_buffer": {},
        "dtype": "float32",
        "shape": [
         0
        ]
       },
       "color": 255,
       "color_map": {
        "compressed_buffer": {},
        "dtype": "float32",
        "shape": [
         0
        ]
       },
       "color_range": [],
       "compression_level": 0,
       "flat_shading": true,
       "id": 140637027114256,
       "indices": {
        "compressed_buffer": {},
        "dtype": "uint32",
        "shape": [
         12,
         3
        ]
       },
       "model_matrix": {
        "compressed_buffer": {},
        "dtype": "float32",
        "shape": [
         4,
         4
        ]
       },
       "name": null,
       "opacity": 1,
       "type": "Mesh",
       "vertices": {
        "compressed_buffer": {},
        "dtype": "float32",
        "shape": [
         8,
         3
        ]
       },
       "visible": true,
       "wireframe": false
      }
     },
     "d807918a5bda44fa8a2c8b9ec533c159": {
      "buffers": [
       {
        "data": "eNoDAAAAAAE=",
        "encoding": "base64",
        "path": [
         "attribute",
         "compressed_buffer"
        ]
       },
       {
        "data": "eNpNkrGKAjEQhrcQ4ez3DbRbK2vHwt5HsLG2WiwFwUosbI57g+OKTSe2v731oS9gKSwiiI1g/pDoHwjJTmY+PmY2r4eW+TVeXnBr7MLdn/Df4Z7XQ/hjkMUlcZN8yz8c+1+3wiYzyxbGTeas/2fcZLIm1UvcJF85dp+uKr6TeaifVazH5NxxfCez3PRccpW4Sb5yyIZ4QjwhnhBPiCfEM3FCzX365WI/vevcxX56118X+7kvN1uX+h7jJvnKSXyIJ8QT4gnxhHhCPMNsr+1RwToyTyWKVP99fBSM8e2nanbpSqbETfKVk+YFmTtk7pC5Q+YOmTtk7u9/MK693Acv7SsnJg==",
        "encoding": "base64",
        "path": [
         "vertices",
         "compressed_buffer"
        ]
       },
       {
        "data": "eNpjYGiwZ8AAxIsBAF7EAv0=",
        "encoding": "base64",
        "path": [
         "model_matrix",
         "compressed_buffer"
        ]
       },
       {
        "data": "eNoDAAAAAAE=",
        "encoding": "base64",
        "path": [
         "color_map",
         "compressed_buffer"
        ]
       },
       {
        "data": "eNpNlMdOA0EUBNc54ogjjjjiiDP8/48xLWqkXumpqjWH7tMmSZL8hCuEy4d7C/cbLpX8fwVcLIZLk6OLpXAZcnSxHC5Lji5WwuXI0cUqG3LmVTYV2Fkjv7OzyFsNF+v0F83FBv0lc7FJf9lcbNFfMRfbbKiat9lUY2eH/MHOOm8dXOzSXzcXe/Q3zMU+/U1zcUB/y1wcsqFtPmRTh50j8ic7u7yNcHFMf9dcnNDfMxen9PfNxRn9A3Nxzoah+ZxNI3YuyF/sHPO2wMUl/WNzcUX/xFxc0z81Fzf0z8zFLRvm5ls2Ldi5I3+zc8nbDhf39C/NxQP9K3PxSP/aXDzRvzEXz2zYmp/ZtGPnhfxi5563Cy5e6d+bizf6D+binf6jufig/2QuPtlwNn+y6cLOhJxn55W3BE/4H93I0VP8j+7k6Gn+Rw9y9Az/oyc5epb/0YscPcemP+tRJek=",
        "encoding": "base64",
        "path": [
         "indices",
         "compressed_buffer"
        ]
       }
      ],
      "model_module": "k3d",
      "model_module_version": "2.6.9",
      "model_name": "ObjectModel",
      "state": {
       "_view_count": null,
       "_view_module": null,
       "_view_module_version": "",
       "_view_name": null,
       "attribute": {
        "compressed_buffer": {},
        "dtype": "float32",
        "shape": [
         0
        ]
       },
       "color": 255,
       "color_map": {
        "compressed_buffer": {},
        "dtype": "float32",
        "shape": [
         0
        ]
       },
       "color_range": [],
       "compression_level": 0,
       "flat_shading": true,
       "id": 139656766571600,
       "indices": {
        "compressed_buffer": {},
        "dtype": "uint32",
        "shape": [
         112,
         3
        ]
       },
       "model_matrix": {
        "compressed_buffer": {},
        "dtype": "float32",
        "shape": [
         4,
         4
        ]
       },
       "name": null,
       "opacity": 1,
       "type": "Mesh",
       "vertices": {
        "compressed_buffer": {},
        "dtype": "float32",
        "shape": [
         58,
         3
        ]
       },
       "visible": true,
       "wireframe": false
      }
     },
     "d8c982aa78d74b4ca7434401104a766b": {
      "model_module": "k3d",
      "model_module_version": "2.6.9",
      "model_name": "PlotModel",
      "state": {
       "_backend_version": "2.6.9",
       "_dom_classes": [],
       "_view_count": null,
       "antialias": 3,
       "axes": [
        "x",
        "y",
        "z"
       ],
       "background_color": 16777215,
       "camera": [
        2.5349703424076058,
        -3.0524555136114087,
        0.20349703424076235,
        0.5,
        0,
        0,
        0,
        0,
        1
       ],
       "camera_auto_fit": true,
       "camera_no_pan": false,
       "camera_no_rotate": false,
       "camera_no_zoom": false,
       "clipping_planes": [],
       "colorbar_object_id": -1,
       "fps_meter": false,
       "grid": [
        -1,
        -1,
        -1,
        1,
        1,
        1
       ],
       "grid_auto_fit": true,
       "grid_visible": true,
       "height": 512,
       "layout": "IPY_MODEL_7ef1924f959440029f84f9ff66893bb4",
       "lighting": 1,
       "menu_visibility": true,
       "object_ids": [
        4548979920,
        4548980432
       ],
       "rendering_steps": 1,
       "screenshot": "",
       "screenshot_scale": 2,
       "time": 0,
       "voxel_paint_color": 0
      }
     },
     "df8af92ab12e47908a88d65378af70a1": {
      "buffers": [
       {
        "data": "eNoDAAAAAAE=",
        "encoding": "base64",
        "path": [
         "attribute",
         "compressed_buffer"
        ]
       },
       {
        "data": "eNpNkrGKAjEQhrc4BK/fN9BybaxlBHsfwcbaarE8EKzEwkZ8A7HQVHLt/dZXH/oClsJyCGIjmD8k+gdCspOZj4+ZzaueZX4NphdcP77D3Z/w3+GeVz34o5vFJXGTfMvfHPubf4ZNZpZNjJvMcWdj3GSyJtVL3CRfOXYbzXZ8J/O3euxiPYbnpuM7meWi7ZKrxE3ylUM2xBPiCfGEeEI8IZ6JE2puo7qL/fSuXy7207uuXeznoVzsXep7jJvkKyfxIZ4QT4gnxBPiCfEMs/1v9AvWkXkqf4pUvzzeC8b4ttrWWnQlU+Im+cpJ84LMHTJ3yNwhc4fMHTL31z8Y10Hu3Se77SfB",
        "encoding": "base64",
        "path": [
         "vertices",
         "compressed_buffer"
        ]
       },
       {
        "data": "eNpjYGiwZ8AAxIsBAF7EAv0=",
        "encoding": "base64",
        "path": [
         "model_matrix",
         "compressed_buffer"
        ]
       },
       {
        "data": "eNoDAAAAAAE=",
        "encoding": "base64",
        "path": [
         "color_map",
         "compressed_buffer"
        ]
       },
       {
        "data": "eNpNlMdOA0EUBNc54ogjjjjiiDP8/48xLWqkXumpqjWH7tMmSZL8hCuEy4d7C/cbLpX8fwVcLIZLk6OLpXAZcnSxHC5Lji5WwuXI0cUqG3LmVTYV2Fkjv7OzyFsNF+v0F83FBv0lc7FJf9lcbNFfMRfbbKiat9lUY2eH/MHOOm8dXOzSXzcXe/Q3zMU+/U1zcUB/y1wcsqFtPmRTh50j8ic7u7yNcHFMf9dcnNDfMxen9PfNxRn9A3Nxzoah+ZxNI3YuyF/sHPO2wMUl/WNzcUX/xFxc0z81Fzf0z8zFLRvm5ls2Ldi5I3+zc8nbDhf39C/NxQP9K3PxSP/aXDzRvzEXz2zYmp/ZtGPnhfxi5563Cy5e6d+bizf6D+binf6jufig/2QuPtlwNn+y6cLOhJxn55W3BE/4H93I0VP8j+7k6Gn+Rw9y9Az/oyc5epb/0YscPcemP+tRJek=",
        "encoding": "base64",
        "path": [
         "indices",
         "compressed_buffer"
        ]
       }
      ],
      "model_module": "k3d",
      "model_module_version": "2.6.9",
      "model_name": "ObjectModel",
      "state": {
       "_view_count": null,
       "_view_module": null,
       "_view_module_version": "",
       "_view_name": null,
       "attribute": {
        "compressed_buffer": {},
        "dtype": "float32",
        "shape": [
         0
        ]
       },
       "color": 255,
       "color_map": {
        "compressed_buffer": {},
        "dtype": "float32",
        "shape": [
         0
        ]
       },
       "color_range": [],
       "compression_level": 0,
       "flat_shading": true,
       "id": 140637027113104,
       "indices": {
        "compressed_buffer": {},
        "dtype": "uint32",
        "shape": [
         112,
         3
        ]
       },
       "model_matrix": {
        "compressed_buffer": {},
        "dtype": "float32",
        "shape": [
         4,
         4
        ]
       },
       "name": null,
       "opacity": 1,
       "type": "Mesh",
       "vertices": {
        "compressed_buffer": {},
        "dtype": "float32",
        "shape": [
         58,
         3
        ]
       },
       "visible": true,
       "wireframe": false
      }
     },
     "e00441e2f32645e8bb9fb42112cd134f": {
      "model_module": "@jupyter-widgets/base",
      "model_module_version": "1.1.0",
      "model_name": "LayoutModel",
      "state": {}
     },
     "e376d2ba00a34dafb3f205b9a64f6c4c": {
      "model_module": "k3d",
      "model_module_version": "2.6.9",
      "model_name": "PlotModel",
      "state": {
       "_backend_version": "2.6.9",
       "_dom_classes": [],
       "_view_count": null,
       "antialias": 3,
       "axes": [
        "x",
        "y",
        "z"
       ],
       "background_color": 16777215,
       "camera": [
        2.5349703424076058,
        -3.052455513611408,
        0.20349703424076393,
        0.5,
        0,
        0,
        0,
        0,
        1
       ],
       "camera_auto_fit": true,
       "camera_no_pan": false,
       "camera_no_rotate": false,
       "camera_no_zoom": false,
       "clipping_planes": [],
       "colorbar_object_id": -1,
       "fps_meter": false,
       "grid": [
        -1,
        -1,
        -1,
        1,
        1,
        1
       ],
       "grid_auto_fit": true,
       "grid_visible": true,
       "height": 512,
       "layout": "IPY_MODEL_3ab5a6ba507f4a2c95382b95f0e2bf07",
       "lighting": 1,
       "menu_visibility": true,
       "object_ids": [
        139970099802832,
        139970099748176
       ],
       "rendering_steps": 1,
       "screenshot": "",
       "screenshot_scale": 2,
       "time": 0,
       "voxel_paint_color": 0
      }
     },
     "e38b98b9d52a43158d1a264c6f70823d": {
      "buffers": [
       {
        "data": "eNoDAAAAAAE=",
        "encoding": "base64",
        "path": [
         "attribute",
         "compressed_buffer"
        ]
       },
       {
        "data": "eNpNkrGKAjEQhrcQ4ez3DbRbK2vHwt5HsLG2WiwFwUosbI57g+OKTSe2v731oS9gKSwiiI1g/pDoHwjJTmY+PmY2r4eW+TVeXnBr7MLdn/Df4Z7XQ/hjkMUlcZN8yz8c+1+3wiYzyxbGTeas/2fcZLIm1UvcJF85dp+uKr6TeaifVazH5NxxfCez3PRccpW4Sb5yyIZ4QjwhnhBPiCfEM3FCzX365WI/vevcxX56118X+7kvN1uX+h7jJvnKSXyIJ8QT4gnxhHhCPMNsr+1RwToyTyWKVP99fBSM8e2nanbpSqbETfKVk+YFmTtk7pC5Q+YOmTtk7u9/MK693Acv7SsnJg==",
        "encoding": "base64",
        "path": [
         "vertices",
         "compressed_buffer"
        ]
       },
       {
        "data": "eNpjYGiwZ8AAxIsBAF7EAv0=",
        "encoding": "base64",
        "path": [
         "model_matrix",
         "compressed_buffer"
        ]
       },
       {
        "data": "eNoDAAAAAAE=",
        "encoding": "base64",
        "path": [
         "color_map",
         "compressed_buffer"
        ]
       },
       {
        "data": "eNpNlMdOA0EUBNc54ogjjjjiiDP8/48xLWqkXumpqjWH7tMmSZL8hCuEy4d7C/cbLpX8fwVcLIZLk6OLpXAZcnSxHC5Lji5WwuXI0cUqG3LmVTYV2Fkjv7OzyFsNF+v0F83FBv0lc7FJf9lcbNFfMRfbbKiat9lUY2eH/MHOOm8dXOzSXzcXe/Q3zMU+/U1zcUB/y1wcsqFtPmRTh50j8ic7u7yNcHFMf9dcnNDfMxen9PfNxRn9A3Nxzoah+ZxNI3YuyF/sHPO2wMUl/WNzcUX/xFxc0z81Fzf0z8zFLRvm5ls2Ldi5I3+zc8nbDhf39C/NxQP9K3PxSP/aXDzRvzEXz2zYmp/ZtGPnhfxi5563Cy5e6d+bizf6D+binf6jufig/2QuPtlwNn+y6cLOhJxn55W3BE/4H93I0VP8j+7k6Gn+Rw9y9Az/oyc5epb/0YscPcemP+tRJek=",
        "encoding": "base64",
        "path": [
         "indices",
         "compressed_buffer"
        ]
       }
      ],
      "model_module": "k3d",
      "model_module_version": "2.6.9",
      "model_name": "ObjectModel",
      "state": {
       "_view_count": null,
       "_view_module": null,
       "_view_module_version": "",
       "_view_name": null,
       "attribute": {
        "compressed_buffer": {},
        "dtype": "float32",
        "shape": [
         0
        ]
       },
       "color": 255,
       "color_map": {
        "compressed_buffer": {},
        "dtype": "float32",
        "shape": [
         0
        ]
       },
       "color_range": [],
       "compression_level": 0,
       "flat_shading": true,
       "id": 140637027160592,
       "indices": {
        "compressed_buffer": {},
        "dtype": "uint32",
        "shape": [
         112,
         3
        ]
       },
       "model_matrix": {
        "compressed_buffer": {},
        "dtype": "float32",
        "shape": [
         4,
         4
        ]
       },
       "name": null,
       "opacity": 1,
       "type": "Mesh",
       "vertices": {
        "compressed_buffer": {},
        "dtype": "float32",
        "shape": [
         58,
         3
        ]
       },
       "visible": true,
       "wireframe": false
      }
     },
     "eb2e813fd5d344a3a0945ace3534bc46": {
      "model_module": "k3d",
      "model_module_version": "2.6.9",
      "model_name": "PlotModel",
      "state": {
       "_backend_version": "2.6.9",
       "_dom_classes": [],
       "_view_count": null,
       "antialias": 3,
       "axes": [
        "x",
        "y",
        "z"
       ],
       "background_color": 16777215,
       "camera": [
        2.5349703424076058,
        -3.052455513611408,
        0.20349703424076393,
        0.5,
        0,
        0,
        0,
        0,
        1
       ],
       "camera_auto_fit": true,
       "camera_no_pan": false,
       "camera_no_rotate": false,
       "camera_no_zoom": false,
       "clipping_planes": [],
       "colorbar_object_id": -1,
       "fps_meter": false,
       "grid": [
        -1,
        -1,
        -1,
        1,
        1,
        1
       ],
       "grid_auto_fit": true,
       "grid_visible": true,
       "height": 512,
       "layout": "IPY_MODEL_9db1ea012d124413b66edf9342ad8965",
       "lighting": 1,
       "menu_visibility": true,
       "object_ids": [
        139777860403728,
        139777860404304
       ],
       "rendering_steps": 1,
       "screenshot": "",
       "screenshot_scale": 2,
       "time": 0,
       "voxel_paint_color": 0
      }
     },
     "f3ea609795614aef9f764176710bf196": {
      "model_module": "@jupyter-widgets/base",
      "model_module_version": "1.1.0",
      "model_name": "LayoutModel",
      "state": {}
     },
     "f7e0880ae52b4a51bea1b0738aa7c37c": {
      "model_module": "@jupyter-widgets/base",
      "model_module_version": "1.1.0",
      "model_name": "LayoutModel",
      "state": {}
     },
     "f88f0227c35c4941896e034eef01d887": {
      "model_module": "@jupyter-widgets/base",
      "model_module_version": "1.1.0",
      "model_name": "LayoutModel",
      "state": {}
     },
     "fee84ad55daf45709fec7bd0aeb2a584": {
      "model_module": "k3d",
      "model_module_version": "2.6.9",
      "model_name": "PlotModel",
      "state": {
       "_backend_version": "2.6.9",
       "_dom_classes": [],
       "_view_count": null,
       "antialias": 3,
       "axes": [
        "x",
        "y",
        "z"
       ],
       "background_color": 16777215,
       "camera": [
        8.484414855827978,
        -7.909988494372618,
        2.2219181016253553,
        0.7468292777129929,
        1.4226234165221927,
        -2.386358351204246,
        -0.15350344373814123,
        0.2657216140735257,
        0.9517503436167951
       ],
       "camera_auto_fit": true,
       "camera_no_pan": false,
       "camera_no_rotate": false,
       "camera_no_zoom": false,
       "clipping_planes": [],
       "colorbar_object_id": -1,
       "fps_meter": false,
       "grid": [
        -1,
        -1,
        -1,
        1,
        1,
        1
       ],
       "grid_auto_fit": true,
       "grid_visible": true,
       "height": 512,
       "layout": "IPY_MODEL_087fb554b85b4040a6f73b5a7bd28d35",
       "lighting": 1,
       "menu_visibility": true,
       "object_ids": [
        139656766553424
       ],
       "rendering_steps": 1,
       "screenshot": "",
       "screenshot_scale": 2,
       "time": 0,
       "voxel_paint_color": 0
      }
     }
    },
    "version_major": 2,
    "version_minor": 0
   }
  }
 },
 "nbformat": 4,
 "nbformat_minor": 2
}
